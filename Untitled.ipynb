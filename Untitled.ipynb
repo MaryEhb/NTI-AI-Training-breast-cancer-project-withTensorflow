{
  "cells": [
    {
      "cell_type": "markdown",
      "id": "4fd834e3",
      "metadata": {
        "id": "4fd834e3"
      },
      "source": [
        "<div style=\"background-color:#67000d;color: #ffffff; padding:6px; text-align: center; font-size: 2rem\">\n",
        "    <h1>Breast Cancer Analysis</h1>\n",
        "</div>"
      ]
    },
    {
      "cell_type": "markdown",
      "id": "d7c06071",
      "metadata": {
        "id": "d7c06071"
      },
      "source": [
        "# Import Basic Packages"
      ]
    },
    {
      "cell_type": "code",
      "execution_count": 1,
      "id": "9ef4c7fe",
      "metadata": {
        "id": "9ef4c7fe"
      },
      "outputs": [],
      "source": [
        "import numpy as np                         # Handle Numerical Data (Store, load, oprations)\n",
        "import pandas as pd                        # convert datasheets to data frames\n",
        "import matplotlib.pyplot as plt            # used to (draw/plot) the data for visual representations\n",
        "import seaborn as sns                      # easier than matplotlib but has less functions\n",
        "import tensorflow as tf"
      ]
    },
    {
      "cell_type": "markdown",
      "id": "397faf4c",
      "metadata": {
        "id": "397faf4c"
      },
      "source": [
        "# Get DataSet"
      ]
    },
    {
      "cell_type": "code",
      "execution_count": 2,
      "id": "97652e37",
      "metadata": {
        "colab": {
          "base_uri": "https://localhost:8080/",
          "height": 676
        },
        "id": "97652e37",
        "outputId": "0330eace-eac0-415d-8b53-ee5a2311dd9c"
      },
      "outputs": [
        {
          "output_type": "execute_result",
          "data": {
            "text/plain": [
              "      Age   Race Marital Status T Stage  N Stage 6th Stage  \\\n",
              "0      68  White        Married       T1      N1       IIA   \n",
              "1      50  White        Married       T2      N2      IIIA   \n",
              "2      58  White       Divorced       T3      N3      IIIC   \n",
              "3      58  White        Married       T1      N1       IIA   \n",
              "4      47  White        Married       T2      N1       IIB   \n",
              "...   ...    ...            ...      ...     ...       ...   \n",
              "4019   62  Other        Married       T1      N1       IIA   \n",
              "4020   56  White       Divorced       T2      N2      IIIA   \n",
              "4021   68  White        Married       T2      N1       IIB   \n",
              "4022   58  Black       Divorced       T2      N1       IIB   \n",
              "4023   46  White        Married       T2      N1       IIB   \n",
              "\n",
              "                  differentiate Grade   A Stage  Tumor Size Estrogen Status  \\\n",
              "0         Poorly differentiated     3  Regional           4        Positive   \n",
              "1     Moderately differentiated     2  Regional          35        Positive   \n",
              "2     Moderately differentiated     2  Regional          63        Positive   \n",
              "3         Poorly differentiated     3  Regional          18        Positive   \n",
              "4         Poorly differentiated     3  Regional          41        Positive   \n",
              "...                         ...   ...       ...         ...             ...   \n",
              "4019  Moderately differentiated     2  Regional           9        Positive   \n",
              "4020  Moderately differentiated     2  Regional          46        Positive   \n",
              "4021  Moderately differentiated     2  Regional          22        Positive   \n",
              "4022  Moderately differentiated     2  Regional          44        Positive   \n",
              "4023  Moderately differentiated     2  Regional          30        Positive   \n",
              "\n",
              "     Progesterone Status  Regional Node Examined  Reginol Node Positive  \\\n",
              "0               Positive                      24                      1   \n",
              "1               Positive                      14                      5   \n",
              "2               Positive                      14                      7   \n",
              "3               Positive                       2                      1   \n",
              "4               Positive                       3                      1   \n",
              "...                  ...                     ...                    ...   \n",
              "4019            Positive                       1                      1   \n",
              "4020            Positive                      14                      8   \n",
              "4021            Negative                      11                      3   \n",
              "4022            Positive                      11                      1   \n",
              "4023            Positive                       7                      2   \n",
              "\n",
              "      Survival Months Status  \n",
              "0                  60  Alive  \n",
              "1                  62  Alive  \n",
              "2                  75  Alive  \n",
              "3                  84  Alive  \n",
              "4                  50  Alive  \n",
              "...               ...    ...  \n",
              "4019               49  Alive  \n",
              "4020               69  Alive  \n",
              "4021               69  Alive  \n",
              "4022               72  Alive  \n",
              "4023              100  Alive  \n",
              "\n",
              "[4024 rows x 16 columns]"
            ],
            "text/html": [
              "\n",
              "  <div id=\"df-336462fd-26c4-4932-83cc-61a683bb3491\">\n",
              "    <div class=\"colab-df-container\">\n",
              "      <div>\n",
              "<style scoped>\n",
              "    .dataframe tbody tr th:only-of-type {\n",
              "        vertical-align: middle;\n",
              "    }\n",
              "\n",
              "    .dataframe tbody tr th {\n",
              "        vertical-align: top;\n",
              "    }\n",
              "\n",
              "    .dataframe thead th {\n",
              "        text-align: right;\n",
              "    }\n",
              "</style>\n",
              "<table border=\"1\" class=\"dataframe\">\n",
              "  <thead>\n",
              "    <tr style=\"text-align: right;\">\n",
              "      <th></th>\n",
              "      <th>Age</th>\n",
              "      <th>Race</th>\n",
              "      <th>Marital Status</th>\n",
              "      <th>T Stage</th>\n",
              "      <th>N Stage</th>\n",
              "      <th>6th Stage</th>\n",
              "      <th>differentiate</th>\n",
              "      <th>Grade</th>\n",
              "      <th>A Stage</th>\n",
              "      <th>Tumor Size</th>\n",
              "      <th>Estrogen Status</th>\n",
              "      <th>Progesterone Status</th>\n",
              "      <th>Regional Node Examined</th>\n",
              "      <th>Reginol Node Positive</th>\n",
              "      <th>Survival Months</th>\n",
              "      <th>Status</th>\n",
              "    </tr>\n",
              "  </thead>\n",
              "  <tbody>\n",
              "    <tr>\n",
              "      <th>0</th>\n",
              "      <td>68</td>\n",
              "      <td>White</td>\n",
              "      <td>Married</td>\n",
              "      <td>T1</td>\n",
              "      <td>N1</td>\n",
              "      <td>IIA</td>\n",
              "      <td>Poorly differentiated</td>\n",
              "      <td>3</td>\n",
              "      <td>Regional</td>\n",
              "      <td>4</td>\n",
              "      <td>Positive</td>\n",
              "      <td>Positive</td>\n",
              "      <td>24</td>\n",
              "      <td>1</td>\n",
              "      <td>60</td>\n",
              "      <td>Alive</td>\n",
              "    </tr>\n",
              "    <tr>\n",
              "      <th>1</th>\n",
              "      <td>50</td>\n",
              "      <td>White</td>\n",
              "      <td>Married</td>\n",
              "      <td>T2</td>\n",
              "      <td>N2</td>\n",
              "      <td>IIIA</td>\n",
              "      <td>Moderately differentiated</td>\n",
              "      <td>2</td>\n",
              "      <td>Regional</td>\n",
              "      <td>35</td>\n",
              "      <td>Positive</td>\n",
              "      <td>Positive</td>\n",
              "      <td>14</td>\n",
              "      <td>5</td>\n",
              "      <td>62</td>\n",
              "      <td>Alive</td>\n",
              "    </tr>\n",
              "    <tr>\n",
              "      <th>2</th>\n",
              "      <td>58</td>\n",
              "      <td>White</td>\n",
              "      <td>Divorced</td>\n",
              "      <td>T3</td>\n",
              "      <td>N3</td>\n",
              "      <td>IIIC</td>\n",
              "      <td>Moderately differentiated</td>\n",
              "      <td>2</td>\n",
              "      <td>Regional</td>\n",
              "      <td>63</td>\n",
              "      <td>Positive</td>\n",
              "      <td>Positive</td>\n",
              "      <td>14</td>\n",
              "      <td>7</td>\n",
              "      <td>75</td>\n",
              "      <td>Alive</td>\n",
              "    </tr>\n",
              "    <tr>\n",
              "      <th>3</th>\n",
              "      <td>58</td>\n",
              "      <td>White</td>\n",
              "      <td>Married</td>\n",
              "      <td>T1</td>\n",
              "      <td>N1</td>\n",
              "      <td>IIA</td>\n",
              "      <td>Poorly differentiated</td>\n",
              "      <td>3</td>\n",
              "      <td>Regional</td>\n",
              "      <td>18</td>\n",
              "      <td>Positive</td>\n",
              "      <td>Positive</td>\n",
              "      <td>2</td>\n",
              "      <td>1</td>\n",
              "      <td>84</td>\n",
              "      <td>Alive</td>\n",
              "    </tr>\n",
              "    <tr>\n",
              "      <th>4</th>\n",
              "      <td>47</td>\n",
              "      <td>White</td>\n",
              "      <td>Married</td>\n",
              "      <td>T2</td>\n",
              "      <td>N1</td>\n",
              "      <td>IIB</td>\n",
              "      <td>Poorly differentiated</td>\n",
              "      <td>3</td>\n",
              "      <td>Regional</td>\n",
              "      <td>41</td>\n",
              "      <td>Positive</td>\n",
              "      <td>Positive</td>\n",
              "      <td>3</td>\n",
              "      <td>1</td>\n",
              "      <td>50</td>\n",
              "      <td>Alive</td>\n",
              "    </tr>\n",
              "    <tr>\n",
              "      <th>...</th>\n",
              "      <td>...</td>\n",
              "      <td>...</td>\n",
              "      <td>...</td>\n",
              "      <td>...</td>\n",
              "      <td>...</td>\n",
              "      <td>...</td>\n",
              "      <td>...</td>\n",
              "      <td>...</td>\n",
              "      <td>...</td>\n",
              "      <td>...</td>\n",
              "      <td>...</td>\n",
              "      <td>...</td>\n",
              "      <td>...</td>\n",
              "      <td>...</td>\n",
              "      <td>...</td>\n",
              "      <td>...</td>\n",
              "    </tr>\n",
              "    <tr>\n",
              "      <th>4019</th>\n",
              "      <td>62</td>\n",
              "      <td>Other</td>\n",
              "      <td>Married</td>\n",
              "      <td>T1</td>\n",
              "      <td>N1</td>\n",
              "      <td>IIA</td>\n",
              "      <td>Moderately differentiated</td>\n",
              "      <td>2</td>\n",
              "      <td>Regional</td>\n",
              "      <td>9</td>\n",
              "      <td>Positive</td>\n",
              "      <td>Positive</td>\n",
              "      <td>1</td>\n",
              "      <td>1</td>\n",
              "      <td>49</td>\n",
              "      <td>Alive</td>\n",
              "    </tr>\n",
              "    <tr>\n",
              "      <th>4020</th>\n",
              "      <td>56</td>\n",
              "      <td>White</td>\n",
              "      <td>Divorced</td>\n",
              "      <td>T2</td>\n",
              "      <td>N2</td>\n",
              "      <td>IIIA</td>\n",
              "      <td>Moderately differentiated</td>\n",
              "      <td>2</td>\n",
              "      <td>Regional</td>\n",
              "      <td>46</td>\n",
              "      <td>Positive</td>\n",
              "      <td>Positive</td>\n",
              "      <td>14</td>\n",
              "      <td>8</td>\n",
              "      <td>69</td>\n",
              "      <td>Alive</td>\n",
              "    </tr>\n",
              "    <tr>\n",
              "      <th>4021</th>\n",
              "      <td>68</td>\n",
              "      <td>White</td>\n",
              "      <td>Married</td>\n",
              "      <td>T2</td>\n",
              "      <td>N1</td>\n",
              "      <td>IIB</td>\n",
              "      <td>Moderately differentiated</td>\n",
              "      <td>2</td>\n",
              "      <td>Regional</td>\n",
              "      <td>22</td>\n",
              "      <td>Positive</td>\n",
              "      <td>Negative</td>\n",
              "      <td>11</td>\n",
              "      <td>3</td>\n",
              "      <td>69</td>\n",
              "      <td>Alive</td>\n",
              "    </tr>\n",
              "    <tr>\n",
              "      <th>4022</th>\n",
              "      <td>58</td>\n",
              "      <td>Black</td>\n",
              "      <td>Divorced</td>\n",
              "      <td>T2</td>\n",
              "      <td>N1</td>\n",
              "      <td>IIB</td>\n",
              "      <td>Moderately differentiated</td>\n",
              "      <td>2</td>\n",
              "      <td>Regional</td>\n",
              "      <td>44</td>\n",
              "      <td>Positive</td>\n",
              "      <td>Positive</td>\n",
              "      <td>11</td>\n",
              "      <td>1</td>\n",
              "      <td>72</td>\n",
              "      <td>Alive</td>\n",
              "    </tr>\n",
              "    <tr>\n",
              "      <th>4023</th>\n",
              "      <td>46</td>\n",
              "      <td>White</td>\n",
              "      <td>Married</td>\n",
              "      <td>T2</td>\n",
              "      <td>N1</td>\n",
              "      <td>IIB</td>\n",
              "      <td>Moderately differentiated</td>\n",
              "      <td>2</td>\n",
              "      <td>Regional</td>\n",
              "      <td>30</td>\n",
              "      <td>Positive</td>\n",
              "      <td>Positive</td>\n",
              "      <td>7</td>\n",
              "      <td>2</td>\n",
              "      <td>100</td>\n",
              "      <td>Alive</td>\n",
              "    </tr>\n",
              "  </tbody>\n",
              "</table>\n",
              "<p>4024 rows × 16 columns</p>\n",
              "</div>\n",
              "      <button class=\"colab-df-convert\" onclick=\"convertToInteractive('df-336462fd-26c4-4932-83cc-61a683bb3491')\"\n",
              "              title=\"Convert this dataframe to an interactive table.\"\n",
              "              style=\"display:none;\">\n",
              "        \n",
              "  <svg xmlns=\"http://www.w3.org/2000/svg\" height=\"24px\"viewBox=\"0 0 24 24\"\n",
              "       width=\"24px\">\n",
              "    <path d=\"M0 0h24v24H0V0z\" fill=\"none\"/>\n",
              "    <path d=\"M18.56 5.44l.94 2.06.94-2.06 2.06-.94-2.06-.94-.94-2.06-.94 2.06-2.06.94zm-11 1L8.5 8.5l.94-2.06 2.06-.94-2.06-.94L8.5 2.5l-.94 2.06-2.06.94zm10 10l.94 2.06.94-2.06 2.06-.94-2.06-.94-.94-2.06-.94 2.06-2.06.94z\"/><path d=\"M17.41 7.96l-1.37-1.37c-.4-.4-.92-.59-1.43-.59-.52 0-1.04.2-1.43.59L10.3 9.45l-7.72 7.72c-.78.78-.78 2.05 0 2.83L4 21.41c.39.39.9.59 1.41.59.51 0 1.02-.2 1.41-.59l7.78-7.78 2.81-2.81c.8-.78.8-2.07 0-2.86zM5.41 20L4 18.59l7.72-7.72 1.47 1.35L5.41 20z\"/>\n",
              "  </svg>\n",
              "      </button>\n",
              "      \n",
              "  <style>\n",
              "    .colab-df-container {\n",
              "      display:flex;\n",
              "      flex-wrap:wrap;\n",
              "      gap: 12px;\n",
              "    }\n",
              "\n",
              "    .colab-df-convert {\n",
              "      background-color: #E8F0FE;\n",
              "      border: none;\n",
              "      border-radius: 50%;\n",
              "      cursor: pointer;\n",
              "      display: none;\n",
              "      fill: #1967D2;\n",
              "      height: 32px;\n",
              "      padding: 0 0 0 0;\n",
              "      width: 32px;\n",
              "    }\n",
              "\n",
              "    .colab-df-convert:hover {\n",
              "      background-color: #E2EBFA;\n",
              "      box-shadow: 0px 1px 2px rgba(60, 64, 67, 0.3), 0px 1px 3px 1px rgba(60, 64, 67, 0.15);\n",
              "      fill: #174EA6;\n",
              "    }\n",
              "\n",
              "    [theme=dark] .colab-df-convert {\n",
              "      background-color: #3B4455;\n",
              "      fill: #D2E3FC;\n",
              "    }\n",
              "\n",
              "    [theme=dark] .colab-df-convert:hover {\n",
              "      background-color: #434B5C;\n",
              "      box-shadow: 0px 1px 3px 1px rgba(0, 0, 0, 0.15);\n",
              "      filter: drop-shadow(0px 1px 2px rgba(0, 0, 0, 0.3));\n",
              "      fill: #FFFFFF;\n",
              "    }\n",
              "  </style>\n",
              "\n",
              "      <script>\n",
              "        const buttonEl =\n",
              "          document.querySelector('#df-336462fd-26c4-4932-83cc-61a683bb3491 button.colab-df-convert');\n",
              "        buttonEl.style.display =\n",
              "          google.colab.kernel.accessAllowed ? 'block' : 'none';\n",
              "\n",
              "        async function convertToInteractive(key) {\n",
              "          const element = document.querySelector('#df-336462fd-26c4-4932-83cc-61a683bb3491');\n",
              "          const dataTable =\n",
              "            await google.colab.kernel.invokeFunction('convertToInteractive',\n",
              "                                                     [key], {});\n",
              "          if (!dataTable) return;\n",
              "\n",
              "          const docLinkHtml = 'Like what you see? Visit the ' +\n",
              "            '<a target=\"_blank\" href=https://colab.research.google.com/notebooks/data_table.ipynb>data table notebook</a>'\n",
              "            + ' to learn more about interactive tables.';\n",
              "          element.innerHTML = '';\n",
              "          dataTable['output_type'] = 'display_data';\n",
              "          await google.colab.output.renderOutput(dataTable, element);\n",
              "          const docLink = document.createElement('div');\n",
              "          docLink.innerHTML = docLinkHtml;\n",
              "          element.appendChild(docLink);\n",
              "        }\n",
              "      </script>\n",
              "    </div>\n",
              "  </div>\n",
              "  "
            ]
          },
          "metadata": {},
          "execution_count": 2
        }
      ],
      "source": [
        "df = pd.read_csv(\"Breast_Cancer.csv\")   # Get data and store it in df\n",
        "df"
      ]
    },
    {
      "cell_type": "code",
      "execution_count": 3,
      "id": "7f14192c",
      "metadata": {
        "colab": {
          "base_uri": "https://localhost:8080/",
          "height": 372
        },
        "id": "7f14192c",
        "outputId": "ef3e32fb-055d-4a05-a133-51e115c26e54"
      },
      "outputs": [
        {
          "output_type": "execute_result",
          "data": {
            "text/plain": [
              "      Age   Race Marital Status T Stage  N Stage 6th Stage  \\\n",
              "3296   47  Other        Married       T2      N2      IIIA   \n",
              "1253   53  White        Single        T2      N1       IIB   \n",
              "1809   62  White       Divorced       T1      N1       IIA   \n",
              "813    58  White        Married       T2      N1       IIB   \n",
              "352    51  White        Married       T1      N1       IIA   \n",
              "\n",
              "                  differentiate Grade   A Stage  Tumor Size Estrogen Status  \\\n",
              "3296  Moderately differentiated     2  Regional          40        Positive   \n",
              "1253        Well differentiated     1  Regional          35        Positive   \n",
              "1809  Moderately differentiated     2  Regional           8        Positive   \n",
              "813       Poorly differentiated     3  Regional          25        Positive   \n",
              "352   Moderately differentiated     2  Regional          14        Positive   \n",
              "\n",
              "     Progesterone Status  Regional Node Examined  Reginol Node Positive  \\\n",
              "3296            Positive                      13                      4   \n",
              "1253            Positive                      11                      2   \n",
              "1809            Positive                       1                      1   \n",
              "813             Positive                      20                      3   \n",
              "352             Positive                       6                      1   \n",
              "\n",
              "      Survival Months Status  \n",
              "3296              103  Alive  \n",
              "1253               88  Alive  \n",
              "1809              107  Alive  \n",
              "813               101  Alive  \n",
              "352                41  Alive  "
            ],
            "text/html": [
              "\n",
              "  <div id=\"df-7c1f949e-f0da-4335-bb6c-81cf1079dadb\">\n",
              "    <div class=\"colab-df-container\">\n",
              "      <div>\n",
              "<style scoped>\n",
              "    .dataframe tbody tr th:only-of-type {\n",
              "        vertical-align: middle;\n",
              "    }\n",
              "\n",
              "    .dataframe tbody tr th {\n",
              "        vertical-align: top;\n",
              "    }\n",
              "\n",
              "    .dataframe thead th {\n",
              "        text-align: right;\n",
              "    }\n",
              "</style>\n",
              "<table border=\"1\" class=\"dataframe\">\n",
              "  <thead>\n",
              "    <tr style=\"text-align: right;\">\n",
              "      <th></th>\n",
              "      <th>Age</th>\n",
              "      <th>Race</th>\n",
              "      <th>Marital Status</th>\n",
              "      <th>T Stage</th>\n",
              "      <th>N Stage</th>\n",
              "      <th>6th Stage</th>\n",
              "      <th>differentiate</th>\n",
              "      <th>Grade</th>\n",
              "      <th>A Stage</th>\n",
              "      <th>Tumor Size</th>\n",
              "      <th>Estrogen Status</th>\n",
              "      <th>Progesterone Status</th>\n",
              "      <th>Regional Node Examined</th>\n",
              "      <th>Reginol Node Positive</th>\n",
              "      <th>Survival Months</th>\n",
              "      <th>Status</th>\n",
              "    </tr>\n",
              "  </thead>\n",
              "  <tbody>\n",
              "    <tr>\n",
              "      <th>3296</th>\n",
              "      <td>47</td>\n",
              "      <td>Other</td>\n",
              "      <td>Married</td>\n",
              "      <td>T2</td>\n",
              "      <td>N2</td>\n",
              "      <td>IIIA</td>\n",
              "      <td>Moderately differentiated</td>\n",
              "      <td>2</td>\n",
              "      <td>Regional</td>\n",
              "      <td>40</td>\n",
              "      <td>Positive</td>\n",
              "      <td>Positive</td>\n",
              "      <td>13</td>\n",
              "      <td>4</td>\n",
              "      <td>103</td>\n",
              "      <td>Alive</td>\n",
              "    </tr>\n",
              "    <tr>\n",
              "      <th>1253</th>\n",
              "      <td>53</td>\n",
              "      <td>White</td>\n",
              "      <td>Single</td>\n",
              "      <td>T2</td>\n",
              "      <td>N1</td>\n",
              "      <td>IIB</td>\n",
              "      <td>Well differentiated</td>\n",
              "      <td>1</td>\n",
              "      <td>Regional</td>\n",
              "      <td>35</td>\n",
              "      <td>Positive</td>\n",
              "      <td>Positive</td>\n",
              "      <td>11</td>\n",
              "      <td>2</td>\n",
              "      <td>88</td>\n",
              "      <td>Alive</td>\n",
              "    </tr>\n",
              "    <tr>\n",
              "      <th>1809</th>\n",
              "      <td>62</td>\n",
              "      <td>White</td>\n",
              "      <td>Divorced</td>\n",
              "      <td>T1</td>\n",
              "      <td>N1</td>\n",
              "      <td>IIA</td>\n",
              "      <td>Moderately differentiated</td>\n",
              "      <td>2</td>\n",
              "      <td>Regional</td>\n",
              "      <td>8</td>\n",
              "      <td>Positive</td>\n",
              "      <td>Positive</td>\n",
              "      <td>1</td>\n",
              "      <td>1</td>\n",
              "      <td>107</td>\n",
              "      <td>Alive</td>\n",
              "    </tr>\n",
              "    <tr>\n",
              "      <th>813</th>\n",
              "      <td>58</td>\n",
              "      <td>White</td>\n",
              "      <td>Married</td>\n",
              "      <td>T2</td>\n",
              "      <td>N1</td>\n",
              "      <td>IIB</td>\n",
              "      <td>Poorly differentiated</td>\n",
              "      <td>3</td>\n",
              "      <td>Regional</td>\n",
              "      <td>25</td>\n",
              "      <td>Positive</td>\n",
              "      <td>Positive</td>\n",
              "      <td>20</td>\n",
              "      <td>3</td>\n",
              "      <td>101</td>\n",
              "      <td>Alive</td>\n",
              "    </tr>\n",
              "    <tr>\n",
              "      <th>352</th>\n",
              "      <td>51</td>\n",
              "      <td>White</td>\n",
              "      <td>Married</td>\n",
              "      <td>T1</td>\n",
              "      <td>N1</td>\n",
              "      <td>IIA</td>\n",
              "      <td>Moderately differentiated</td>\n",
              "      <td>2</td>\n",
              "      <td>Regional</td>\n",
              "      <td>14</td>\n",
              "      <td>Positive</td>\n",
              "      <td>Positive</td>\n",
              "      <td>6</td>\n",
              "      <td>1</td>\n",
              "      <td>41</td>\n",
              "      <td>Alive</td>\n",
              "    </tr>\n",
              "  </tbody>\n",
              "</table>\n",
              "</div>\n",
              "      <button class=\"colab-df-convert\" onclick=\"convertToInteractive('df-7c1f949e-f0da-4335-bb6c-81cf1079dadb')\"\n",
              "              title=\"Convert this dataframe to an interactive table.\"\n",
              "              style=\"display:none;\">\n",
              "        \n",
              "  <svg xmlns=\"http://www.w3.org/2000/svg\" height=\"24px\"viewBox=\"0 0 24 24\"\n",
              "       width=\"24px\">\n",
              "    <path d=\"M0 0h24v24H0V0z\" fill=\"none\"/>\n",
              "    <path d=\"M18.56 5.44l.94 2.06.94-2.06 2.06-.94-2.06-.94-.94-2.06-.94 2.06-2.06.94zm-11 1L8.5 8.5l.94-2.06 2.06-.94-2.06-.94L8.5 2.5l-.94 2.06-2.06.94zm10 10l.94 2.06.94-2.06 2.06-.94-2.06-.94-.94-2.06-.94 2.06-2.06.94z\"/><path d=\"M17.41 7.96l-1.37-1.37c-.4-.4-.92-.59-1.43-.59-.52 0-1.04.2-1.43.59L10.3 9.45l-7.72 7.72c-.78.78-.78 2.05 0 2.83L4 21.41c.39.39.9.59 1.41.59.51 0 1.02-.2 1.41-.59l7.78-7.78 2.81-2.81c.8-.78.8-2.07 0-2.86zM5.41 20L4 18.59l7.72-7.72 1.47 1.35L5.41 20z\"/>\n",
              "  </svg>\n",
              "      </button>\n",
              "      \n",
              "  <style>\n",
              "    .colab-df-container {\n",
              "      display:flex;\n",
              "      flex-wrap:wrap;\n",
              "      gap: 12px;\n",
              "    }\n",
              "\n",
              "    .colab-df-convert {\n",
              "      background-color: #E8F0FE;\n",
              "      border: none;\n",
              "      border-radius: 50%;\n",
              "      cursor: pointer;\n",
              "      display: none;\n",
              "      fill: #1967D2;\n",
              "      height: 32px;\n",
              "      padding: 0 0 0 0;\n",
              "      width: 32px;\n",
              "    }\n",
              "\n",
              "    .colab-df-convert:hover {\n",
              "      background-color: #E2EBFA;\n",
              "      box-shadow: 0px 1px 2px rgba(60, 64, 67, 0.3), 0px 1px 3px 1px rgba(60, 64, 67, 0.15);\n",
              "      fill: #174EA6;\n",
              "    }\n",
              "\n",
              "    [theme=dark] .colab-df-convert {\n",
              "      background-color: #3B4455;\n",
              "      fill: #D2E3FC;\n",
              "    }\n",
              "\n",
              "    [theme=dark] .colab-df-convert:hover {\n",
              "      background-color: #434B5C;\n",
              "      box-shadow: 0px 1px 3px 1px rgba(0, 0, 0, 0.15);\n",
              "      filter: drop-shadow(0px 1px 2px rgba(0, 0, 0, 0.3));\n",
              "      fill: #FFFFFF;\n",
              "    }\n",
              "  </style>\n",
              "\n",
              "      <script>\n",
              "        const buttonEl =\n",
              "          document.querySelector('#df-7c1f949e-f0da-4335-bb6c-81cf1079dadb button.colab-df-convert');\n",
              "        buttonEl.style.display =\n",
              "          google.colab.kernel.accessAllowed ? 'block' : 'none';\n",
              "\n",
              "        async function convertToInteractive(key) {\n",
              "          const element = document.querySelector('#df-7c1f949e-f0da-4335-bb6c-81cf1079dadb');\n",
              "          const dataTable =\n",
              "            await google.colab.kernel.invokeFunction('convertToInteractive',\n",
              "                                                     [key], {});\n",
              "          if (!dataTable) return;\n",
              "\n",
              "          const docLinkHtml = 'Like what you see? Visit the ' +\n",
              "            '<a target=\"_blank\" href=https://colab.research.google.com/notebooks/data_table.ipynb>data table notebook</a>'\n",
              "            + ' to learn more about interactive tables.';\n",
              "          element.innerHTML = '';\n",
              "          dataTable['output_type'] = 'display_data';\n",
              "          await google.colab.output.renderOutput(dataTable, element);\n",
              "          const docLink = document.createElement('div');\n",
              "          docLink.innerHTML = docLinkHtml;\n",
              "          element.appendChild(docLink);\n",
              "        }\n",
              "      </script>\n",
              "    </div>\n",
              "  </div>\n",
              "  "
            ]
          },
          "metadata": {},
          "execution_count": 3
        }
      ],
      "source": [
        "df.sample(5)\n",
        "#df.head(6)             # Get first 6 rows        #if parameter not passed then it will be 5 as default  \n",
        "#df.tail(7)             # Get last 7 rows"
      ]
    },
    {
      "cell_type": "code",
      "execution_count": 4,
      "id": "78d8554d",
      "metadata": {
        "colab": {
          "base_uri": "https://localhost:8080/",
          "height": 300
        },
        "id": "78d8554d",
        "outputId": "0bf1a215-3ca5-4e6b-b801-8ca0998b53ff"
      },
      "outputs": [
        {
          "output_type": "execute_result",
          "data": {
            "text/plain": [
              "               Age   Tumor Size  Regional Node Examined  \\\n",
              "count  4024.000000  4024.000000             4024.000000   \n",
              "mean     53.972167    30.473658               14.357107   \n",
              "std       8.963134    21.119696                8.099675   \n",
              "min      30.000000     1.000000                1.000000   \n",
              "25%      47.000000    16.000000                9.000000   \n",
              "50%      54.000000    25.000000               14.000000   \n",
              "75%      61.000000    38.000000               19.000000   \n",
              "max      69.000000   140.000000               61.000000   \n",
              "\n",
              "       Reginol Node Positive  Survival Months  \n",
              "count            4024.000000      4024.000000  \n",
              "mean                4.158052        71.297962  \n",
              "std                 5.109331        22.921430  \n",
              "min                 1.000000         1.000000  \n",
              "25%                 1.000000        56.000000  \n",
              "50%                 2.000000        73.000000  \n",
              "75%                 5.000000        90.000000  \n",
              "max                46.000000       107.000000  "
            ],
            "text/html": [
              "\n",
              "  <div id=\"df-5399c938-b67f-49a6-b9ad-8cde58e72911\">\n",
              "    <div class=\"colab-df-container\">\n",
              "      <div>\n",
              "<style scoped>\n",
              "    .dataframe tbody tr th:only-of-type {\n",
              "        vertical-align: middle;\n",
              "    }\n",
              "\n",
              "    .dataframe tbody tr th {\n",
              "        vertical-align: top;\n",
              "    }\n",
              "\n",
              "    .dataframe thead th {\n",
              "        text-align: right;\n",
              "    }\n",
              "</style>\n",
              "<table border=\"1\" class=\"dataframe\">\n",
              "  <thead>\n",
              "    <tr style=\"text-align: right;\">\n",
              "      <th></th>\n",
              "      <th>Age</th>\n",
              "      <th>Tumor Size</th>\n",
              "      <th>Regional Node Examined</th>\n",
              "      <th>Reginol Node Positive</th>\n",
              "      <th>Survival Months</th>\n",
              "    </tr>\n",
              "  </thead>\n",
              "  <tbody>\n",
              "    <tr>\n",
              "      <th>count</th>\n",
              "      <td>4024.000000</td>\n",
              "      <td>4024.000000</td>\n",
              "      <td>4024.000000</td>\n",
              "      <td>4024.000000</td>\n",
              "      <td>4024.000000</td>\n",
              "    </tr>\n",
              "    <tr>\n",
              "      <th>mean</th>\n",
              "      <td>53.972167</td>\n",
              "      <td>30.473658</td>\n",
              "      <td>14.357107</td>\n",
              "      <td>4.158052</td>\n",
              "      <td>71.297962</td>\n",
              "    </tr>\n",
              "    <tr>\n",
              "      <th>std</th>\n",
              "      <td>8.963134</td>\n",
              "      <td>21.119696</td>\n",
              "      <td>8.099675</td>\n",
              "      <td>5.109331</td>\n",
              "      <td>22.921430</td>\n",
              "    </tr>\n",
              "    <tr>\n",
              "      <th>min</th>\n",
              "      <td>30.000000</td>\n",
              "      <td>1.000000</td>\n",
              "      <td>1.000000</td>\n",
              "      <td>1.000000</td>\n",
              "      <td>1.000000</td>\n",
              "    </tr>\n",
              "    <tr>\n",
              "      <th>25%</th>\n",
              "      <td>47.000000</td>\n",
              "      <td>16.000000</td>\n",
              "      <td>9.000000</td>\n",
              "      <td>1.000000</td>\n",
              "      <td>56.000000</td>\n",
              "    </tr>\n",
              "    <tr>\n",
              "      <th>50%</th>\n",
              "      <td>54.000000</td>\n",
              "      <td>25.000000</td>\n",
              "      <td>14.000000</td>\n",
              "      <td>2.000000</td>\n",
              "      <td>73.000000</td>\n",
              "    </tr>\n",
              "    <tr>\n",
              "      <th>75%</th>\n",
              "      <td>61.000000</td>\n",
              "      <td>38.000000</td>\n",
              "      <td>19.000000</td>\n",
              "      <td>5.000000</td>\n",
              "      <td>90.000000</td>\n",
              "    </tr>\n",
              "    <tr>\n",
              "      <th>max</th>\n",
              "      <td>69.000000</td>\n",
              "      <td>140.000000</td>\n",
              "      <td>61.000000</td>\n",
              "      <td>46.000000</td>\n",
              "      <td>107.000000</td>\n",
              "    </tr>\n",
              "  </tbody>\n",
              "</table>\n",
              "</div>\n",
              "      <button class=\"colab-df-convert\" onclick=\"convertToInteractive('df-5399c938-b67f-49a6-b9ad-8cde58e72911')\"\n",
              "              title=\"Convert this dataframe to an interactive table.\"\n",
              "              style=\"display:none;\">\n",
              "        \n",
              "  <svg xmlns=\"http://www.w3.org/2000/svg\" height=\"24px\"viewBox=\"0 0 24 24\"\n",
              "       width=\"24px\">\n",
              "    <path d=\"M0 0h24v24H0V0z\" fill=\"none\"/>\n",
              "    <path d=\"M18.56 5.44l.94 2.06.94-2.06 2.06-.94-2.06-.94-.94-2.06-.94 2.06-2.06.94zm-11 1L8.5 8.5l.94-2.06 2.06-.94-2.06-.94L8.5 2.5l-.94 2.06-2.06.94zm10 10l.94 2.06.94-2.06 2.06-.94-2.06-.94-.94-2.06-.94 2.06-2.06.94z\"/><path d=\"M17.41 7.96l-1.37-1.37c-.4-.4-.92-.59-1.43-.59-.52 0-1.04.2-1.43.59L10.3 9.45l-7.72 7.72c-.78.78-.78 2.05 0 2.83L4 21.41c.39.39.9.59 1.41.59.51 0 1.02-.2 1.41-.59l7.78-7.78 2.81-2.81c.8-.78.8-2.07 0-2.86zM5.41 20L4 18.59l7.72-7.72 1.47 1.35L5.41 20z\"/>\n",
              "  </svg>\n",
              "      </button>\n",
              "      \n",
              "  <style>\n",
              "    .colab-df-container {\n",
              "      display:flex;\n",
              "      flex-wrap:wrap;\n",
              "      gap: 12px;\n",
              "    }\n",
              "\n",
              "    .colab-df-convert {\n",
              "      background-color: #E8F0FE;\n",
              "      border: none;\n",
              "      border-radius: 50%;\n",
              "      cursor: pointer;\n",
              "      display: none;\n",
              "      fill: #1967D2;\n",
              "      height: 32px;\n",
              "      padding: 0 0 0 0;\n",
              "      width: 32px;\n",
              "    }\n",
              "\n",
              "    .colab-df-convert:hover {\n",
              "      background-color: #E2EBFA;\n",
              "      box-shadow: 0px 1px 2px rgba(60, 64, 67, 0.3), 0px 1px 3px 1px rgba(60, 64, 67, 0.15);\n",
              "      fill: #174EA6;\n",
              "    }\n",
              "\n",
              "    [theme=dark] .colab-df-convert {\n",
              "      background-color: #3B4455;\n",
              "      fill: #D2E3FC;\n",
              "    }\n",
              "\n",
              "    [theme=dark] .colab-df-convert:hover {\n",
              "      background-color: #434B5C;\n",
              "      box-shadow: 0px 1px 3px 1px rgba(0, 0, 0, 0.15);\n",
              "      filter: drop-shadow(0px 1px 2px rgba(0, 0, 0, 0.3));\n",
              "      fill: #FFFFFF;\n",
              "    }\n",
              "  </style>\n",
              "\n",
              "      <script>\n",
              "        const buttonEl =\n",
              "          document.querySelector('#df-5399c938-b67f-49a6-b9ad-8cde58e72911 button.colab-df-convert');\n",
              "        buttonEl.style.display =\n",
              "          google.colab.kernel.accessAllowed ? 'block' : 'none';\n",
              "\n",
              "        async function convertToInteractive(key) {\n",
              "          const element = document.querySelector('#df-5399c938-b67f-49a6-b9ad-8cde58e72911');\n",
              "          const dataTable =\n",
              "            await google.colab.kernel.invokeFunction('convertToInteractive',\n",
              "                                                     [key], {});\n",
              "          if (!dataTable) return;\n",
              "\n",
              "          const docLinkHtml = 'Like what you see? Visit the ' +\n",
              "            '<a target=\"_blank\" href=https://colab.research.google.com/notebooks/data_table.ipynb>data table notebook</a>'\n",
              "            + ' to learn more about interactive tables.';\n",
              "          element.innerHTML = '';\n",
              "          dataTable['output_type'] = 'display_data';\n",
              "          await google.colab.output.renderOutput(dataTable, element);\n",
              "          const docLink = document.createElement('div');\n",
              "          docLink.innerHTML = docLinkHtml;\n",
              "          element.appendChild(docLink);\n",
              "        }\n",
              "      </script>\n",
              "    </div>\n",
              "  </div>\n",
              "  "
            ]
          },
          "metadata": {},
          "execution_count": 4
        }
      ],
      "source": [
        "df.describe()"
      ]
    },
    {
      "cell_type": "markdown",
      "id": "f85bc312",
      "metadata": {
        "id": "f85bc312"
      },
      "source": [
        "# Cleaning Data"
      ]
    },
    {
      "cell_type": "markdown",
      "id": "01143618",
      "metadata": {
        "id": "01143618"
      },
      "source": [
        "## Checking empty values"
      ]
    },
    {
      "cell_type": "code",
      "execution_count": 5,
      "id": "c63c89ca",
      "metadata": {
        "colab": {
          "base_uri": "https://localhost:8080/"
        },
        "id": "c63c89ca",
        "outputId": "33f9ca87-99d8-45e7-eba4-5012140106d4"
      },
      "outputs": [
        {
          "output_type": "execute_result",
          "data": {
            "text/plain": [
              "Age                       0\n",
              "Race                      0\n",
              "Marital Status            0\n",
              "T Stage                   0\n",
              "N Stage                   0\n",
              "6th Stage                 0\n",
              "differentiate             0\n",
              "Grade                     0\n",
              "A Stage                   0\n",
              "Tumor Size                0\n",
              "Estrogen Status           0\n",
              "Progesterone Status       0\n",
              "Regional Node Examined    0\n",
              "Reginol Node Positive     0\n",
              "Survival Months           0\n",
              "Status                    0\n",
              "dtype: int64"
            ]
          },
          "metadata": {},
          "execution_count": 5
        }
      ],
      "source": [
        "df.isna().sum()"
      ]
    },
    {
      "cell_type": "markdown",
      "id": "bd939b1d",
      "metadata": {
        "id": "bd939b1d"
      },
      "source": [
        "**Observation:**\n",
        "* There is no empty values"
      ]
    },
    {
      "cell_type": "markdown",
      "id": "b6f1862e",
      "metadata": {
        "id": "b6f1862e"
      },
      "source": [
        "## Checking data types "
      ]
    },
    {
      "cell_type": "code",
      "execution_count": 6,
      "id": "167eb008",
      "metadata": {
        "colab": {
          "base_uri": "https://localhost:8080/"
        },
        "id": "167eb008",
        "outputId": "78fa399b-2040-42f8-eddd-551e4afd63e4"
      },
      "outputs": [
        {
          "output_type": "execute_result",
          "data": {
            "text/plain": [
              "Age                        int64\n",
              "Race                      object\n",
              "Marital Status            object\n",
              "T Stage                   object\n",
              "N Stage                   object\n",
              "6th Stage                 object\n",
              "differentiate             object\n",
              "Grade                     object\n",
              "A Stage                   object\n",
              "Tumor Size                 int64\n",
              "Estrogen Status           object\n",
              "Progesterone Status       object\n",
              "Regional Node Examined     int64\n",
              "Reginol Node Positive      int64\n",
              "Survival Months            int64\n",
              "Status                    object\n",
              "dtype: object"
            ]
          },
          "metadata": {},
          "execution_count": 6
        }
      ],
      "source": [
        "df.dtypes"
      ]
    },
    {
      "cell_type": "markdown",
      "id": "0e428c07",
      "metadata": {
        "id": "0e428c07"
      },
      "source": [
        "**Observation:**\n",
        "* There are features of object type that have to be dealt with and converted to Numerical before visualizing and modelling"
      ]
    },
    {
      "cell_type": "markdown",
      "id": "7f392cc7",
      "metadata": {
        "id": "7f392cc7"
      },
      "source": [
        "## Label Encoding (Change all strings to numerical representation)"
      ]
    },
    {
      "cell_type": "code",
      "execution_count": 7,
      "id": "771705d5",
      "metadata": {
        "id": "771705d5"
      },
      "outputs": [],
      "source": [
        "# Store unique values in lists if needed (Used in labels of pie charts)\n",
        "Race = df['Race'].unique()\n",
        "Marital_Status = df['Marital Status'].unique()\n",
        "T_Stage = df['T Stage '].unique()\n",
        "N_Stage = df['N Stage'].unique()\n",
        "sixth_Stage = df['6th Stage'].unique()\n",
        "differentiate = df['differentiate'].unique()\n",
        "Grade = df['Grade'].unique()\n",
        "A_Stage = df['A Stage'].unique()\n",
        "Estrogen_Status = df['Estrogen Status'].unique()\n",
        "Progesterone_Status = df['Progesterone Status'].unique()\n",
        "Status = df['Status'].unique()"
      ]
    },
    {
      "cell_type": "code",
      "execution_count": 8,
      "id": "71e02b34",
      "metadata": {
        "id": "71e02b34"
      },
      "outputs": [],
      "source": [
        "from sklearn.preprocessing import LabelEncoder\n",
        "label_encoder = LabelEncoder()"
      ]
    },
    {
      "cell_type": "code",
      "execution_count": 9,
      "id": "6983b105",
      "metadata": {
        "colab": {
          "base_uri": "https://localhost:8080/",
          "height": 502
        },
        "id": "6983b105",
        "outputId": "8df82ec3-9a85-46ab-a2b9-85902feec425"
      },
      "outputs": [
        {
          "output_type": "execute_result",
          "data": {
            "text/plain": [
              "      Age  Race  Marital Status  T Stage   N Stage  6th Stage  differentiate  \\\n",
              "0      68     2               1         0        0          0              1   \n",
              "1      50     2               1         1        1          2              0   \n",
              "2      58     2               0         2        2          4              0   \n",
              "3      58     2               1         0        0          0              1   \n",
              "4      47     2               1         1        0          1              1   \n",
              "...   ...   ...             ...       ...      ...        ...            ...   \n",
              "4019   62     1               1         0        0          0              0   \n",
              "4020   56     2               0         1        1          2              0   \n",
              "4021   68     2               1         1        0          1              0   \n",
              "4022   58     0               0         1        0          1              0   \n",
              "4023   46     2               1         1        0          1              0   \n",
              "\n",
              "      Grade  A Stage  Tumor Size  Estrogen Status  Progesterone Status  \\\n",
              "0         3        1           4                1                    1   \n",
              "1         2        1          35                1                    1   \n",
              "2         2        1          63                1                    1   \n",
              "3         3        1          18                1                    1   \n",
              "4         3        1          41                1                    1   \n",
              "...     ...      ...         ...              ...                  ...   \n",
              "4019      2        1           9                1                    1   \n",
              "4020      2        1          46                1                    1   \n",
              "4021      2        1          22                1                    0   \n",
              "4022      2        1          44                1                    1   \n",
              "4023      2        1          30                1                    1   \n",
              "\n",
              "      Regional Node Examined  Reginol Node Positive  Survival Months  Status  \n",
              "0                         24                      1               60       0  \n",
              "1                         14                      5               62       0  \n",
              "2                         14                      7               75       0  \n",
              "3                          2                      1               84       0  \n",
              "4                          3                      1               50       0  \n",
              "...                      ...                    ...              ...     ...  \n",
              "4019                       1                      1               49       0  \n",
              "4020                      14                      8               69       0  \n",
              "4021                      11                      3               69       0  \n",
              "4022                      11                      1               72       0  \n",
              "4023                       7                      2              100       0  \n",
              "\n",
              "[4024 rows x 16 columns]"
            ],
            "text/html": [
              "\n",
              "  <div id=\"df-dc28b32f-0733-4a85-aef4-bcc02b96c851\">\n",
              "    <div class=\"colab-df-container\">\n",
              "      <div>\n",
              "<style scoped>\n",
              "    .dataframe tbody tr th:only-of-type {\n",
              "        vertical-align: middle;\n",
              "    }\n",
              "\n",
              "    .dataframe tbody tr th {\n",
              "        vertical-align: top;\n",
              "    }\n",
              "\n",
              "    .dataframe thead th {\n",
              "        text-align: right;\n",
              "    }\n",
              "</style>\n",
              "<table border=\"1\" class=\"dataframe\">\n",
              "  <thead>\n",
              "    <tr style=\"text-align: right;\">\n",
              "      <th></th>\n",
              "      <th>Age</th>\n",
              "      <th>Race</th>\n",
              "      <th>Marital Status</th>\n",
              "      <th>T Stage</th>\n",
              "      <th>N Stage</th>\n",
              "      <th>6th Stage</th>\n",
              "      <th>differentiate</th>\n",
              "      <th>Grade</th>\n",
              "      <th>A Stage</th>\n",
              "      <th>Tumor Size</th>\n",
              "      <th>Estrogen Status</th>\n",
              "      <th>Progesterone Status</th>\n",
              "      <th>Regional Node Examined</th>\n",
              "      <th>Reginol Node Positive</th>\n",
              "      <th>Survival Months</th>\n",
              "      <th>Status</th>\n",
              "    </tr>\n",
              "  </thead>\n",
              "  <tbody>\n",
              "    <tr>\n",
              "      <th>0</th>\n",
              "      <td>68</td>\n",
              "      <td>2</td>\n",
              "      <td>1</td>\n",
              "      <td>0</td>\n",
              "      <td>0</td>\n",
              "      <td>0</td>\n",
              "      <td>1</td>\n",
              "      <td>3</td>\n",
              "      <td>1</td>\n",
              "      <td>4</td>\n",
              "      <td>1</td>\n",
              "      <td>1</td>\n",
              "      <td>24</td>\n",
              "      <td>1</td>\n",
              "      <td>60</td>\n",
              "      <td>0</td>\n",
              "    </tr>\n",
              "    <tr>\n",
              "      <th>1</th>\n",
              "      <td>50</td>\n",
              "      <td>2</td>\n",
              "      <td>1</td>\n",
              "      <td>1</td>\n",
              "      <td>1</td>\n",
              "      <td>2</td>\n",
              "      <td>0</td>\n",
              "      <td>2</td>\n",
              "      <td>1</td>\n",
              "      <td>35</td>\n",
              "      <td>1</td>\n",
              "      <td>1</td>\n",
              "      <td>14</td>\n",
              "      <td>5</td>\n",
              "      <td>62</td>\n",
              "      <td>0</td>\n",
              "    </tr>\n",
              "    <tr>\n",
              "      <th>2</th>\n",
              "      <td>58</td>\n",
              "      <td>2</td>\n",
              "      <td>0</td>\n",
              "      <td>2</td>\n",
              "      <td>2</td>\n",
              "      <td>4</td>\n",
              "      <td>0</td>\n",
              "      <td>2</td>\n",
              "      <td>1</td>\n",
              "      <td>63</td>\n",
              "      <td>1</td>\n",
              "      <td>1</td>\n",
              "      <td>14</td>\n",
              "      <td>7</td>\n",
              "      <td>75</td>\n",
              "      <td>0</td>\n",
              "    </tr>\n",
              "    <tr>\n",
              "      <th>3</th>\n",
              "      <td>58</td>\n",
              "      <td>2</td>\n",
              "      <td>1</td>\n",
              "      <td>0</td>\n",
              "      <td>0</td>\n",
              "      <td>0</td>\n",
              "      <td>1</td>\n",
              "      <td>3</td>\n",
              "      <td>1</td>\n",
              "      <td>18</td>\n",
              "      <td>1</td>\n",
              "      <td>1</td>\n",
              "      <td>2</td>\n",
              "      <td>1</td>\n",
              "      <td>84</td>\n",
              "      <td>0</td>\n",
              "    </tr>\n",
              "    <tr>\n",
              "      <th>4</th>\n",
              "      <td>47</td>\n",
              "      <td>2</td>\n",
              "      <td>1</td>\n",
              "      <td>1</td>\n",
              "      <td>0</td>\n",
              "      <td>1</td>\n",
              "      <td>1</td>\n",
              "      <td>3</td>\n",
              "      <td>1</td>\n",
              "      <td>41</td>\n",
              "      <td>1</td>\n",
              "      <td>1</td>\n",
              "      <td>3</td>\n",
              "      <td>1</td>\n",
              "      <td>50</td>\n",
              "      <td>0</td>\n",
              "    </tr>\n",
              "    <tr>\n",
              "      <th>...</th>\n",
              "      <td>...</td>\n",
              "      <td>...</td>\n",
              "      <td>...</td>\n",
              "      <td>...</td>\n",
              "      <td>...</td>\n",
              "      <td>...</td>\n",
              "      <td>...</td>\n",
              "      <td>...</td>\n",
              "      <td>...</td>\n",
              "      <td>...</td>\n",
              "      <td>...</td>\n",
              "      <td>...</td>\n",
              "      <td>...</td>\n",
              "      <td>...</td>\n",
              "      <td>...</td>\n",
              "      <td>...</td>\n",
              "    </tr>\n",
              "    <tr>\n",
              "      <th>4019</th>\n",
              "      <td>62</td>\n",
              "      <td>1</td>\n",
              "      <td>1</td>\n",
              "      <td>0</td>\n",
              "      <td>0</td>\n",
              "      <td>0</td>\n",
              "      <td>0</td>\n",
              "      <td>2</td>\n",
              "      <td>1</td>\n",
              "      <td>9</td>\n",
              "      <td>1</td>\n",
              "      <td>1</td>\n",
              "      <td>1</td>\n",
              "      <td>1</td>\n",
              "      <td>49</td>\n",
              "      <td>0</td>\n",
              "    </tr>\n",
              "    <tr>\n",
              "      <th>4020</th>\n",
              "      <td>56</td>\n",
              "      <td>2</td>\n",
              "      <td>0</td>\n",
              "      <td>1</td>\n",
              "      <td>1</td>\n",
              "      <td>2</td>\n",
              "      <td>0</td>\n",
              "      <td>2</td>\n",
              "      <td>1</td>\n",
              "      <td>46</td>\n",
              "      <td>1</td>\n",
              "      <td>1</td>\n",
              "      <td>14</td>\n",
              "      <td>8</td>\n",
              "      <td>69</td>\n",
              "      <td>0</td>\n",
              "    </tr>\n",
              "    <tr>\n",
              "      <th>4021</th>\n",
              "      <td>68</td>\n",
              "      <td>2</td>\n",
              "      <td>1</td>\n",
              "      <td>1</td>\n",
              "      <td>0</td>\n",
              "      <td>1</td>\n",
              "      <td>0</td>\n",
              "      <td>2</td>\n",
              "      <td>1</td>\n",
              "      <td>22</td>\n",
              "      <td>1</td>\n",
              "      <td>0</td>\n",
              "      <td>11</td>\n",
              "      <td>3</td>\n",
              "      <td>69</td>\n",
              "      <td>0</td>\n",
              "    </tr>\n",
              "    <tr>\n",
              "      <th>4022</th>\n",
              "      <td>58</td>\n",
              "      <td>0</td>\n",
              "      <td>0</td>\n",
              "      <td>1</td>\n",
              "      <td>0</td>\n",
              "      <td>1</td>\n",
              "      <td>0</td>\n",
              "      <td>2</td>\n",
              "      <td>1</td>\n",
              "      <td>44</td>\n",
              "      <td>1</td>\n",
              "      <td>1</td>\n",
              "      <td>11</td>\n",
              "      <td>1</td>\n",
              "      <td>72</td>\n",
              "      <td>0</td>\n",
              "    </tr>\n",
              "    <tr>\n",
              "      <th>4023</th>\n",
              "      <td>46</td>\n",
              "      <td>2</td>\n",
              "      <td>1</td>\n",
              "      <td>1</td>\n",
              "      <td>0</td>\n",
              "      <td>1</td>\n",
              "      <td>0</td>\n",
              "      <td>2</td>\n",
              "      <td>1</td>\n",
              "      <td>30</td>\n",
              "      <td>1</td>\n",
              "      <td>1</td>\n",
              "      <td>7</td>\n",
              "      <td>2</td>\n",
              "      <td>100</td>\n",
              "      <td>0</td>\n",
              "    </tr>\n",
              "  </tbody>\n",
              "</table>\n",
              "<p>4024 rows × 16 columns</p>\n",
              "</div>\n",
              "      <button class=\"colab-df-convert\" onclick=\"convertToInteractive('df-dc28b32f-0733-4a85-aef4-bcc02b96c851')\"\n",
              "              title=\"Convert this dataframe to an interactive table.\"\n",
              "              style=\"display:none;\">\n",
              "        \n",
              "  <svg xmlns=\"http://www.w3.org/2000/svg\" height=\"24px\"viewBox=\"0 0 24 24\"\n",
              "       width=\"24px\">\n",
              "    <path d=\"M0 0h24v24H0V0z\" fill=\"none\"/>\n",
              "    <path d=\"M18.56 5.44l.94 2.06.94-2.06 2.06-.94-2.06-.94-.94-2.06-.94 2.06-2.06.94zm-11 1L8.5 8.5l.94-2.06 2.06-.94-2.06-.94L8.5 2.5l-.94 2.06-2.06.94zm10 10l.94 2.06.94-2.06 2.06-.94-2.06-.94-.94-2.06-.94 2.06-2.06.94z\"/><path d=\"M17.41 7.96l-1.37-1.37c-.4-.4-.92-.59-1.43-.59-.52 0-1.04.2-1.43.59L10.3 9.45l-7.72 7.72c-.78.78-.78 2.05 0 2.83L4 21.41c.39.39.9.59 1.41.59.51 0 1.02-.2 1.41-.59l7.78-7.78 2.81-2.81c.8-.78.8-2.07 0-2.86zM5.41 20L4 18.59l7.72-7.72 1.47 1.35L5.41 20z\"/>\n",
              "  </svg>\n",
              "      </button>\n",
              "      \n",
              "  <style>\n",
              "    .colab-df-container {\n",
              "      display:flex;\n",
              "      flex-wrap:wrap;\n",
              "      gap: 12px;\n",
              "    }\n",
              "\n",
              "    .colab-df-convert {\n",
              "      background-color: #E8F0FE;\n",
              "      border: none;\n",
              "      border-radius: 50%;\n",
              "      cursor: pointer;\n",
              "      display: none;\n",
              "      fill: #1967D2;\n",
              "      height: 32px;\n",
              "      padding: 0 0 0 0;\n",
              "      width: 32px;\n",
              "    }\n",
              "\n",
              "    .colab-df-convert:hover {\n",
              "      background-color: #E2EBFA;\n",
              "      box-shadow: 0px 1px 2px rgba(60, 64, 67, 0.3), 0px 1px 3px 1px rgba(60, 64, 67, 0.15);\n",
              "      fill: #174EA6;\n",
              "    }\n",
              "\n",
              "    [theme=dark] .colab-df-convert {\n",
              "      background-color: #3B4455;\n",
              "      fill: #D2E3FC;\n",
              "    }\n",
              "\n",
              "    [theme=dark] .colab-df-convert:hover {\n",
              "      background-color: #434B5C;\n",
              "      box-shadow: 0px 1px 3px 1px rgba(0, 0, 0, 0.15);\n",
              "      filter: drop-shadow(0px 1px 2px rgba(0, 0, 0, 0.3));\n",
              "      fill: #FFFFFF;\n",
              "    }\n",
              "  </style>\n",
              "\n",
              "      <script>\n",
              "        const buttonEl =\n",
              "          document.querySelector('#df-dc28b32f-0733-4a85-aef4-bcc02b96c851 button.colab-df-convert');\n",
              "        buttonEl.style.display =\n",
              "          google.colab.kernel.accessAllowed ? 'block' : 'none';\n",
              "\n",
              "        async function convertToInteractive(key) {\n",
              "          const element = document.querySelector('#df-dc28b32f-0733-4a85-aef4-bcc02b96c851');\n",
              "          const dataTable =\n",
              "            await google.colab.kernel.invokeFunction('convertToInteractive',\n",
              "                                                     [key], {});\n",
              "          if (!dataTable) return;\n",
              "\n",
              "          const docLinkHtml = 'Like what you see? Visit the ' +\n",
              "            '<a target=\"_blank\" href=https://colab.research.google.com/notebooks/data_table.ipynb>data table notebook</a>'\n",
              "            + ' to learn more about interactive tables.';\n",
              "          element.innerHTML = '';\n",
              "          dataTable['output_type'] = 'display_data';\n",
              "          await google.colab.output.renderOutput(dataTable, element);\n",
              "          const docLink = document.createElement('div');\n",
              "          docLink.innerHTML = docLinkHtml;\n",
              "          element.appendChild(docLink);\n",
              "        }\n",
              "      </script>\n",
              "    </div>\n",
              "  </div>\n",
              "  "
            ]
          },
          "metadata": {},
          "execution_count": 9
        }
      ],
      "source": [
        "# Convert all Object colomns to Integer\n",
        "df['Race']= label_encoder.fit_transform(df['Race'])\n",
        "df['Marital Status']= label_encoder.fit_transform(df['Marital Status'])\n",
        "df['T Stage ']= label_encoder.fit_transform(df['T Stage '])\n",
        "df['N Stage']= label_encoder.fit_transform(df['N Stage'])\n",
        "df['6th Stage']= label_encoder.fit_transform(df['6th Stage'])\n",
        "df['differentiate']= label_encoder.fit_transform(df['differentiate'])\n",
        "df['Grade']= label_encoder.fit_transform(df['Grade'])\n",
        "df['A Stage']= label_encoder.fit_transform(df['A Stage'])\n",
        "df['Estrogen Status']= label_encoder.fit_transform(df['Estrogen Status'])\n",
        "df['Progesterone Status']= label_encoder.fit_transform(df['Progesterone Status'])\n",
        "df['Status']= label_encoder.fit_transform(df['Status'])\n",
        "df"
      ]
    },
    {
      "cell_type": "code",
      "execution_count": 10,
      "id": "cecbd22c",
      "metadata": {
        "colab": {
          "base_uri": "https://localhost:8080/"
        },
        "id": "cecbd22c",
        "outputId": "48e54c08-7997-4f1c-f02d-f6136460dcff"
      },
      "outputs": [
        {
          "output_type": "execute_result",
          "data": {
            "text/plain": [
              "Age                       int64\n",
              "Race                      int64\n",
              "Marital Status            int64\n",
              "T Stage                   int64\n",
              "N Stage                   int64\n",
              "6th Stage                 int64\n",
              "differentiate             int64\n",
              "Grade                     int64\n",
              "A Stage                   int64\n",
              "Tumor Size                int64\n",
              "Estrogen Status           int64\n",
              "Progesterone Status       int64\n",
              "Regional Node Examined    int64\n",
              "Reginol Node Positive     int64\n",
              "Survival Months           int64\n",
              "Status                    int64\n",
              "dtype: object"
            ]
          },
          "metadata": {},
          "execution_count": 10
        }
      ],
      "source": [
        "df.dtypes"
      ]
    },
    {
      "cell_type": "markdown",
      "id": "5328f792",
      "metadata": {
        "id": "5328f792"
      },
      "source": [
        "**Observation:**\n",
        "* All colomns are now in numerical representaion and now ready to be used"
      ]
    },
    {
      "cell_type": "code",
      "execution_count": 11,
      "id": "50a9a796",
      "metadata": {
        "colab": {
          "base_uri": "https://localhost:8080/",
          "height": 399
        },
        "id": "50a9a796",
        "outputId": "a7c93f99-6056-4f73-ce0f-3a3da993b9f8"
      },
      "outputs": [
        {
          "output_type": "execute_result",
          "data": {
            "text/plain": [
              "               Age         Race  Marital Status     T Stage       N Stage  \\\n",
              "count  4024.000000  4024.000000     4024.000000  4024.000000  4024.000000   \n",
              "mean     53.972167     1.775845        1.371272     0.784791     0.438370   \n",
              "std       8.963134     0.564465        1.063637     0.765531     0.693479   \n",
              "min      30.000000     0.000000        0.000000     0.000000     0.000000   \n",
              "25%      47.000000     2.000000        1.000000     0.000000     0.000000   \n",
              "50%      54.000000     2.000000        1.000000     1.000000     0.000000   \n",
              "75%      61.000000     2.000000        1.000000     1.000000     1.000000   \n",
              "max      69.000000     2.000000        4.000000     3.000000     2.000000   \n",
              "\n",
              "         6th Stage  differentiate        Grade      A Stage   Tumor Size  \\\n",
              "count  4024.000000    4024.000000  4024.000000  4024.000000  4024.000000   \n",
              "mean      1.321819       0.690358     2.131710     0.977137    30.473658   \n",
              "std       1.266624       1.016418     0.642398     0.149485    21.119696   \n",
              "min       0.000000       0.000000     0.000000     0.000000     1.000000   \n",
              "25%       0.000000       0.000000     2.000000     1.000000    16.000000   \n",
              "50%       1.000000       0.000000     2.000000     1.000000    25.000000   \n",
              "75%       2.000000       1.000000     3.000000     1.000000    38.000000   \n",
              "max       4.000000       3.000000     3.000000     1.000000   140.000000   \n",
              "\n",
              "       Estrogen Status  Progesterone Status  Regional Node Examined  \\\n",
              "count      4024.000000          4024.000000             4024.000000   \n",
              "mean          0.933151             0.826541               14.357107   \n",
              "std           0.249791             0.378691                8.099675   \n",
              "min           0.000000             0.000000                1.000000   \n",
              "25%           1.000000             1.000000                9.000000   \n",
              "50%           1.000000             1.000000               14.000000   \n",
              "75%           1.000000             1.000000               19.000000   \n",
              "max           1.000000             1.000000               61.000000   \n",
              "\n",
              "       Reginol Node Positive  Survival Months       Status  \n",
              "count            4024.000000      4024.000000  4024.000000  \n",
              "mean                4.158052        71.297962     0.153082  \n",
              "std                 5.109331        22.921430     0.360111  \n",
              "min                 1.000000         1.000000     0.000000  \n",
              "25%                 1.000000        56.000000     0.000000  \n",
              "50%                 2.000000        73.000000     0.000000  \n",
              "75%                 5.000000        90.000000     0.000000  \n",
              "max                46.000000       107.000000     1.000000  "
            ],
            "text/html": [
              "\n",
              "  <div id=\"df-c2499cbf-93e7-4f38-8fa7-dd536166a9e7\">\n",
              "    <div class=\"colab-df-container\">\n",
              "      <div>\n",
              "<style scoped>\n",
              "    .dataframe tbody tr th:only-of-type {\n",
              "        vertical-align: middle;\n",
              "    }\n",
              "\n",
              "    .dataframe tbody tr th {\n",
              "        vertical-align: top;\n",
              "    }\n",
              "\n",
              "    .dataframe thead th {\n",
              "        text-align: right;\n",
              "    }\n",
              "</style>\n",
              "<table border=\"1\" class=\"dataframe\">\n",
              "  <thead>\n",
              "    <tr style=\"text-align: right;\">\n",
              "      <th></th>\n",
              "      <th>Age</th>\n",
              "      <th>Race</th>\n",
              "      <th>Marital Status</th>\n",
              "      <th>T Stage</th>\n",
              "      <th>N Stage</th>\n",
              "      <th>6th Stage</th>\n",
              "      <th>differentiate</th>\n",
              "      <th>Grade</th>\n",
              "      <th>A Stage</th>\n",
              "      <th>Tumor Size</th>\n",
              "      <th>Estrogen Status</th>\n",
              "      <th>Progesterone Status</th>\n",
              "      <th>Regional Node Examined</th>\n",
              "      <th>Reginol Node Positive</th>\n",
              "      <th>Survival Months</th>\n",
              "      <th>Status</th>\n",
              "    </tr>\n",
              "  </thead>\n",
              "  <tbody>\n",
              "    <tr>\n",
              "      <th>count</th>\n",
              "      <td>4024.000000</td>\n",
              "      <td>4024.000000</td>\n",
              "      <td>4024.000000</td>\n",
              "      <td>4024.000000</td>\n",
              "      <td>4024.000000</td>\n",
              "      <td>4024.000000</td>\n",
              "      <td>4024.000000</td>\n",
              "      <td>4024.000000</td>\n",
              "      <td>4024.000000</td>\n",
              "      <td>4024.000000</td>\n",
              "      <td>4024.000000</td>\n",
              "      <td>4024.000000</td>\n",
              "      <td>4024.000000</td>\n",
              "      <td>4024.000000</td>\n",
              "      <td>4024.000000</td>\n",
              "      <td>4024.000000</td>\n",
              "    </tr>\n",
              "    <tr>\n",
              "      <th>mean</th>\n",
              "      <td>53.972167</td>\n",
              "      <td>1.775845</td>\n",
              "      <td>1.371272</td>\n",
              "      <td>0.784791</td>\n",
              "      <td>0.438370</td>\n",
              "      <td>1.321819</td>\n",
              "      <td>0.690358</td>\n",
              "      <td>2.131710</td>\n",
              "      <td>0.977137</td>\n",
              "      <td>30.473658</td>\n",
              "      <td>0.933151</td>\n",
              "      <td>0.826541</td>\n",
              "      <td>14.357107</td>\n",
              "      <td>4.158052</td>\n",
              "      <td>71.297962</td>\n",
              "      <td>0.153082</td>\n",
              "    </tr>\n",
              "    <tr>\n",
              "      <th>std</th>\n",
              "      <td>8.963134</td>\n",
              "      <td>0.564465</td>\n",
              "      <td>1.063637</td>\n",
              "      <td>0.765531</td>\n",
              "      <td>0.693479</td>\n",
              "      <td>1.266624</td>\n",
              "      <td>1.016418</td>\n",
              "      <td>0.642398</td>\n",
              "      <td>0.149485</td>\n",
              "      <td>21.119696</td>\n",
              "      <td>0.249791</td>\n",
              "      <td>0.378691</td>\n",
              "      <td>8.099675</td>\n",
              "      <td>5.109331</td>\n",
              "      <td>22.921430</td>\n",
              "      <td>0.360111</td>\n",
              "    </tr>\n",
              "    <tr>\n",
              "      <th>min</th>\n",
              "      <td>30.000000</td>\n",
              "      <td>0.000000</td>\n",
              "      <td>0.000000</td>\n",
              "      <td>0.000000</td>\n",
              "      <td>0.000000</td>\n",
              "      <td>0.000000</td>\n",
              "      <td>0.000000</td>\n",
              "      <td>0.000000</td>\n",
              "      <td>0.000000</td>\n",
              "      <td>1.000000</td>\n",
              "      <td>0.000000</td>\n",
              "      <td>0.000000</td>\n",
              "      <td>1.000000</td>\n",
              "      <td>1.000000</td>\n",
              "      <td>1.000000</td>\n",
              "      <td>0.000000</td>\n",
              "    </tr>\n",
              "    <tr>\n",
              "      <th>25%</th>\n",
              "      <td>47.000000</td>\n",
              "      <td>2.000000</td>\n",
              "      <td>1.000000</td>\n",
              "      <td>0.000000</td>\n",
              "      <td>0.000000</td>\n",
              "      <td>0.000000</td>\n",
              "      <td>0.000000</td>\n",
              "      <td>2.000000</td>\n",
              "      <td>1.000000</td>\n",
              "      <td>16.000000</td>\n",
              "      <td>1.000000</td>\n",
              "      <td>1.000000</td>\n",
              "      <td>9.000000</td>\n",
              "      <td>1.000000</td>\n",
              "      <td>56.000000</td>\n",
              "      <td>0.000000</td>\n",
              "    </tr>\n",
              "    <tr>\n",
              "      <th>50%</th>\n",
              "      <td>54.000000</td>\n",
              "      <td>2.000000</td>\n",
              "      <td>1.000000</td>\n",
              "      <td>1.000000</td>\n",
              "      <td>0.000000</td>\n",
              "      <td>1.000000</td>\n",
              "      <td>0.000000</td>\n",
              "      <td>2.000000</td>\n",
              "      <td>1.000000</td>\n",
              "      <td>25.000000</td>\n",
              "      <td>1.000000</td>\n",
              "      <td>1.000000</td>\n",
              "      <td>14.000000</td>\n",
              "      <td>2.000000</td>\n",
              "      <td>73.000000</td>\n",
              "      <td>0.000000</td>\n",
              "    </tr>\n",
              "    <tr>\n",
              "      <th>75%</th>\n",
              "      <td>61.000000</td>\n",
              "      <td>2.000000</td>\n",
              "      <td>1.000000</td>\n",
              "      <td>1.000000</td>\n",
              "      <td>1.000000</td>\n",
              "      <td>2.000000</td>\n",
              "      <td>1.000000</td>\n",
              "      <td>3.000000</td>\n",
              "      <td>1.000000</td>\n",
              "      <td>38.000000</td>\n",
              "      <td>1.000000</td>\n",
              "      <td>1.000000</td>\n",
              "      <td>19.000000</td>\n",
              "      <td>5.000000</td>\n",
              "      <td>90.000000</td>\n",
              "      <td>0.000000</td>\n",
              "    </tr>\n",
              "    <tr>\n",
              "      <th>max</th>\n",
              "      <td>69.000000</td>\n",
              "      <td>2.000000</td>\n",
              "      <td>4.000000</td>\n",
              "      <td>3.000000</td>\n",
              "      <td>2.000000</td>\n",
              "      <td>4.000000</td>\n",
              "      <td>3.000000</td>\n",
              "      <td>3.000000</td>\n",
              "      <td>1.000000</td>\n",
              "      <td>140.000000</td>\n",
              "      <td>1.000000</td>\n",
              "      <td>1.000000</td>\n",
              "      <td>61.000000</td>\n",
              "      <td>46.000000</td>\n",
              "      <td>107.000000</td>\n",
              "      <td>1.000000</td>\n",
              "    </tr>\n",
              "  </tbody>\n",
              "</table>\n",
              "</div>\n",
              "      <button class=\"colab-df-convert\" onclick=\"convertToInteractive('df-c2499cbf-93e7-4f38-8fa7-dd536166a9e7')\"\n",
              "              title=\"Convert this dataframe to an interactive table.\"\n",
              "              style=\"display:none;\">\n",
              "        \n",
              "  <svg xmlns=\"http://www.w3.org/2000/svg\" height=\"24px\"viewBox=\"0 0 24 24\"\n",
              "       width=\"24px\">\n",
              "    <path d=\"M0 0h24v24H0V0z\" fill=\"none\"/>\n",
              "    <path d=\"M18.56 5.44l.94 2.06.94-2.06 2.06-.94-2.06-.94-.94-2.06-.94 2.06-2.06.94zm-11 1L8.5 8.5l.94-2.06 2.06-.94-2.06-.94L8.5 2.5l-.94 2.06-2.06.94zm10 10l.94 2.06.94-2.06 2.06-.94-2.06-.94-.94-2.06-.94 2.06-2.06.94z\"/><path d=\"M17.41 7.96l-1.37-1.37c-.4-.4-.92-.59-1.43-.59-.52 0-1.04.2-1.43.59L10.3 9.45l-7.72 7.72c-.78.78-.78 2.05 0 2.83L4 21.41c.39.39.9.59 1.41.59.51 0 1.02-.2 1.41-.59l7.78-7.78 2.81-2.81c.8-.78.8-2.07 0-2.86zM5.41 20L4 18.59l7.72-7.72 1.47 1.35L5.41 20z\"/>\n",
              "  </svg>\n",
              "      </button>\n",
              "      \n",
              "  <style>\n",
              "    .colab-df-container {\n",
              "      display:flex;\n",
              "      flex-wrap:wrap;\n",
              "      gap: 12px;\n",
              "    }\n",
              "\n",
              "    .colab-df-convert {\n",
              "      background-color: #E8F0FE;\n",
              "      border: none;\n",
              "      border-radius: 50%;\n",
              "      cursor: pointer;\n",
              "      display: none;\n",
              "      fill: #1967D2;\n",
              "      height: 32px;\n",
              "      padding: 0 0 0 0;\n",
              "      width: 32px;\n",
              "    }\n",
              "\n",
              "    .colab-df-convert:hover {\n",
              "      background-color: #E2EBFA;\n",
              "      box-shadow: 0px 1px 2px rgba(60, 64, 67, 0.3), 0px 1px 3px 1px rgba(60, 64, 67, 0.15);\n",
              "      fill: #174EA6;\n",
              "    }\n",
              "\n",
              "    [theme=dark] .colab-df-convert {\n",
              "      background-color: #3B4455;\n",
              "      fill: #D2E3FC;\n",
              "    }\n",
              "\n",
              "    [theme=dark] .colab-df-convert:hover {\n",
              "      background-color: #434B5C;\n",
              "      box-shadow: 0px 1px 3px 1px rgba(0, 0, 0, 0.15);\n",
              "      filter: drop-shadow(0px 1px 2px rgba(0, 0, 0, 0.3));\n",
              "      fill: #FFFFFF;\n",
              "    }\n",
              "  </style>\n",
              "\n",
              "      <script>\n",
              "        const buttonEl =\n",
              "          document.querySelector('#df-c2499cbf-93e7-4f38-8fa7-dd536166a9e7 button.colab-df-convert');\n",
              "        buttonEl.style.display =\n",
              "          google.colab.kernel.accessAllowed ? 'block' : 'none';\n",
              "\n",
              "        async function convertToInteractive(key) {\n",
              "          const element = document.querySelector('#df-c2499cbf-93e7-4f38-8fa7-dd536166a9e7');\n",
              "          const dataTable =\n",
              "            await google.colab.kernel.invokeFunction('convertToInteractive',\n",
              "                                                     [key], {});\n",
              "          if (!dataTable) return;\n",
              "\n",
              "          const docLinkHtml = 'Like what you see? Visit the ' +\n",
              "            '<a target=\"_blank\" href=https://colab.research.google.com/notebooks/data_table.ipynb>data table notebook</a>'\n",
              "            + ' to learn more about interactive tables.';\n",
              "          element.innerHTML = '';\n",
              "          dataTable['output_type'] = 'display_data';\n",
              "          await google.colab.output.renderOutput(dataTable, element);\n",
              "          const docLink = document.createElement('div');\n",
              "          docLink.innerHTML = docLinkHtml;\n",
              "          element.appendChild(docLink);\n",
              "        }\n",
              "      </script>\n",
              "    </div>\n",
              "  </div>\n",
              "  "
            ]
          },
          "metadata": {},
          "execution_count": 11
        }
      ],
      "source": [
        "df.describe()"
      ]
    },
    {
      "cell_type": "markdown",
      "id": "2e294e21",
      "metadata": {
        "id": "2e294e21"
      },
      "source": [
        "# Visualization"
      ]
    },
    {
      "cell_type": "code",
      "execution_count": 12,
      "id": "f4511206",
      "metadata": {
        "colab": {
          "base_uri": "https://localhost:8080/",
          "height": 1000
        },
        "id": "f4511206",
        "outputId": "4c05e52a-435a-44bf-ad5d-7332e61c80e4"
      },
      "outputs": [
        {
          "output_type": "execute_result",
          "data": {
            "text/plain": [
              "array([[<matplotlib.axes._subplots.AxesSubplot object at 0x7f8920bb79d0>,\n",
              "        <matplotlib.axes._subplots.AxesSubplot object at 0x7f8920b230d0>,\n",
              "        <matplotlib.axes._subplots.AxesSubplot object at 0x7f8920ad86d0>,\n",
              "        <matplotlib.axes._subplots.AxesSubplot object at 0x7f8920b0acd0>],\n",
              "       [<matplotlib.axes._subplots.AxesSubplot object at 0x7f8920ad1310>,\n",
              "        <matplotlib.axes._subplots.AxesSubplot object at 0x7f8920a87910>,\n",
              "        <matplotlib.axes._subplots.AxesSubplot object at 0x7f8920a3bfd0>,\n",
              "        <matplotlib.axes._subplots.AxesSubplot object at 0x7f89209fe550>],\n",
              "       [<matplotlib.axes._subplots.AxesSubplot object at 0x7f89209fe590>,\n",
              "        <matplotlib.axes._subplots.AxesSubplot object at 0x7f89209b6c90>,\n",
              "        <matplotlib.axes._subplots.AxesSubplot object at 0x7f892092f7d0>,\n",
              "        <matplotlib.axes._subplots.AxesSubplot object at 0x7f89208e5dd0>],\n",
              "       [<matplotlib.axes._subplots.AxesSubplot object at 0x7f89208aa410>,\n",
              "        <matplotlib.axes._subplots.AxesSubplot object at 0x7f892085ea10>,\n",
              "        <matplotlib.axes._subplots.AxesSubplot object at 0x7f8920894fd0>,\n",
              "        <matplotlib.axes._subplots.AxesSubplot object at 0x7f89207d8650>]],\n",
              "      dtype=object)"
            ]
          },
          "metadata": {},
          "execution_count": 12
        },
        {
          "output_type": "display_data",
          "data": {
            "text/plain": [
              "<Figure size 1080x1080 with 16 Axes>"
            ],
            "image/png": "[encoded data removed]"
          },
          "metadata": {
            "needs_background": "light"
          }
        }
      ],
      "source": [
        "df.hist(figsize = (15,15))       # Histogram of all features to check there distribution"
      ]
    },
    {
      "cell_type": "code",
      "execution_count": 13,
      "id": "86a5b053",
      "metadata": {
        "colab": {
          "base_uri": "https://localhost:8080/",
          "height": 606
        },
        "id": "86a5b053",
        "outputId": "e176349f-162b-4006-b34e-e5e3669a7502"
      },
      "outputs": [
        {
          "output_type": "execute_result",
          "data": {
            "text/plain": [
              "<matplotlib.legend.Legend at 0x7f891fe5cb50>"
            ]
          },
          "metadata": {},
          "execution_count": 13
        },
        {
          "output_type": "display_data",
          "data": {
            "text/plain": [
              "<Figure size 720x1440 with 1 Axes>"
            ],
            "image/png": "[encoded data removed]"
          },
          "metadata": {}
        }
      ],
      "source": [
        "plt.figure(figsize = (10,20))\n",
        "plt.pie(df['Race'].value_counts(), labels=Race, colors=['#fee3d6', '#fb7050', '#67000d'], startangle=180,\n",
        "        shadow = True, autopct = '%.1f%%', explode = [0.1,0.1,0.1], textprops={'fontsize': 14})\n",
        "plt.legend()"
      ]
    },
    {
      "cell_type": "code",
      "execution_count": 14,
      "id": "8cb6e537",
      "metadata": {
        "colab": {
          "base_uri": "https://localhost:8080/",
          "height": 606
        },
        "id": "8cb6e537",
        "outputId": "43bbe149-a13c-4c1c-911a-63e8f4b66450"
      },
      "outputs": [
        {
          "output_type": "execute_result",
          "data": {
            "text/plain": [
              "<matplotlib.legend.Legend at 0x7f891e5ec990>"
            ]
          },
          "metadata": {},
          "execution_count": 14
        },
        {
          "output_type": "display_data",
          "data": {
            "text/plain": [
              "<Figure size 720x1440 with 1 Axes>"
            ],
            "image/png": "[encoded data removed]"
          },
          "metadata": {}
        }
      ],
      "source": [
        "plt.figure(figsize = (10,20))\n",
        "plt.pie(df['Marital Status'].value_counts(), labels= Marital_Status, colors=['#c9171d', '#fb7050', '#fb7151', '#67000d', 'red'], startangle=180,\n",
        "        shadow = True, autopct = '%.1f%%', explode = [0.1,0.1,0.2,0.2,0.1], textprops={'fontsize': 14})\n",
        "plt.legend()"
      ]
    },
    {
      "cell_type": "code",
      "execution_count": 15,
      "id": "626ffb6a",
      "metadata": {
        "colab": {
          "base_uri": "https://localhost:8080/",
          "height": 606
        },
        "id": "626ffb6a",
        "outputId": "78392957-800a-4874-a87a-7814a023f03e"
      },
      "outputs": [
        {
          "output_type": "execute_result",
          "data": {
            "text/plain": [
              "<matplotlib.legend.Legend at 0x7f891e5b2a10>"
            ]
          },
          "metadata": {},
          "execution_count": 15
        },
        {
          "output_type": "display_data",
          "data": {
            "text/plain": [
              "<Figure size 720x1440 with 1 Axes>"
            ],
            "image/png": "[encoded data removed]"
          },
          "metadata": {}
        }
      ],
      "source": [
        "plt.figure(figsize = (10,20))\n",
        "plt.pie(df['Status'].value_counts(), labels=Status, colors=['#c9171d', '#fb7050'], startangle=180,\n",
        "        shadow = True, autopct = '%.1f%%', textprops={'fontsize': 14}, explode = {0.1, 0})\n",
        "plt.legend()"
      ]
    },
    {
      "cell_type": "code",
      "execution_count": 16,
      "id": "3ab03233",
      "metadata": {
        "colab": {
          "base_uri": "https://localhost:8080/",
          "height": 606
        },
        "id": "3ab03233",
        "outputId": "0154be5d-b687-4994-8a5a-86cfb08b9d34"
      },
      "outputs": [
        {
          "output_type": "execute_result",
          "data": {
            "text/plain": [
              "<matplotlib.legend.Legend at 0x7f891e50d490>"
            ]
          },
          "metadata": {},
          "execution_count": 16
        },
        {
          "output_type": "display_data",
          "data": {
            "text/plain": [
              "<Figure size 720x1440 with 1 Axes>"
            ],
            "image/png": "[encoded data removed]"
          },
          "metadata": {}
        }
      ],
      "source": [
        "plt.figure(figsize = (10,20))\n",
        "plt.pie(df['Grade'].value_counts(), labels=Grade, colors=['#c9171d', 'red', '#fb7151', '#67000d'], startangle=180,\n",
        "        shadow = True, autopct = '%.1f%%', explode = [0.1,0.1,0.1,0.1], textprops={'fontsize': 14})\n",
        "plt.legend()"
      ]
    },
    {
      "cell_type": "code",
      "execution_count": 17,
      "id": "9698864d",
      "metadata": {
        "colab": {
          "base_uri": "https://localhost:8080/",
          "height": 606
        },
        "id": "9698864d",
        "outputId": "acf984db-0081-4288-9e2c-6bcb94d53e40"
      },
      "outputs": [
        {
          "output_type": "execute_result",
          "data": {
            "text/plain": [
              "<matplotlib.legend.Legend at 0x7f891e44e890>"
            ]
          },
          "metadata": {},
          "execution_count": 17
        },
        {
          "output_type": "display_data",
          "data": {
            "text/plain": [
              "<Figure size 720x1440 with 1 Axes>"
            ],
            "image/png": "[encoded data removed]"
          },
          "metadata": {}
        }
      ],
      "source": [
        "plt.figure(figsize = (10,20))\n",
        "plt.pie(df['6th Stage'].value_counts(), labels=sixth_Stage, colors=['#c9171d', '#fb7050', '#fb7151', '#67000d', 'red'], startangle=180,\n",
        "        shadow = True, labeldistance=.4, autopct = '%.1f%%', explode = [0.1,0.1,0.2,0.2,0.1], textprops={'fontsize': 14, 'color': 'white'})\n",
        "plt.legend()"
      ]
    },
    {
      "cell_type": "code",
      "execution_count": 18,
      "id": "416b48cb",
      "metadata": {
        "colab": {
          "base_uri": "https://localhost:8080/",
          "height": 606
        },
        "id": "416b48cb",
        "outputId": "2c7210bf-1fa7-40e3-eb0e-40a8de35c3a1"
      },
      "outputs": [
        {
          "output_type": "execute_result",
          "data": {
            "text/plain": [
              "<matplotlib.legend.Legend at 0x7f891e41b850>"
            ]
          },
          "metadata": {},
          "execution_count": 18
        },
        {
          "output_type": "display_data",
          "data": {
            "text/plain": [
              "<Figure size 720x1440 with 1 Axes>"
            ],
            "image/png": "[encoded data removed]"
          },
          "metadata": {}
        }
      ],
      "source": [
        "plt.figure(figsize = (10,20))\n",
        "plt.pie(df['N Stage'].value_counts(), labels=N_Stage, colors=['#c9171d', '#fb7050', '#67000d'], startangle=180,\n",
        "        shadow = True, labeldistance=.4, autopct = '%.1f%%', explode = [0.1,0.1,0.1], textprops={'fontsize': 14, 'color': 'white'})\n",
        "plt.legend()"
      ]
    },
    {
      "cell_type": "code",
      "execution_count": 19,
      "id": "9b3a0cf1",
      "metadata": {
        "colab": {
          "base_uri": "https://localhost:8080/",
          "height": 606
        },
        "id": "9b3a0cf1",
        "outputId": "709ed538-3dcb-4503-81c3-b7e91a32ce6f"
      },
      "outputs": [
        {
          "output_type": "execute_result",
          "data": {
            "text/plain": [
              "<matplotlib.legend.Legend at 0x7f891e4003d0>"
            ]
          },
          "metadata": {},
          "execution_count": 19
        },
        {
          "output_type": "display_data",
          "data": {
            "text/plain": [
              "<Figure size 720x1440 with 1 Axes>"
            ],
            "image/png": "[encoded data removed]"
          },
          "metadata": {}
        }
      ],
      "source": [
        "plt.figure(figsize = (10,20))\n",
        "plt.pie(df['T Stage '].value_counts(), labels=T_Stage, colors=['#c9171d', '#fb7050', '#fb7151', '#67000d'], startangle=180,\n",
        "        shadow = True, labeldistance=.4, autopct = '%.1f%%', explode = [0.1,0.1,0.2,0.2], textprops={'fontsize': 14, 'color': 'white'})\n",
        "plt.legend()"
      ]
    },
    {
      "cell_type": "code",
      "execution_count": 20,
      "id": "50873020",
      "metadata": {
        "colab": {
          "base_uri": "https://localhost:8080/",
          "height": 606
        },
        "id": "50873020",
        "outputId": "86e8cf23-e7b1-45e9-a74e-9d38fbfe3412"
      },
      "outputs": [
        {
          "output_type": "execute_result",
          "data": {
            "text/plain": [
              "<matplotlib.legend.Legend at 0x7f891e379e90>"
            ]
          },
          "metadata": {},
          "execution_count": 20
        },
        {
          "output_type": "display_data",
          "data": {
            "text/plain": [
              "<Figure size 720x1440 with 1 Axes>"
            ],
            "image/png": "[encoded data removed]"
          },
          "metadata": {}
        }
      ],
      "source": [
        "plt.figure(figsize = (10,20))\n",
        "plt.pie(df['A Stage'].value_counts(), labels=A_Stage, colors=['#c9171d', '#fb7050'], startangle=180,\n",
        "        shadow = True, autopct = '%.1f%%', textprops={'fontsize': 14}, explode = {0, 0.6})\n",
        "plt.legend()"
      ]
    },
    {
      "cell_type": "markdown",
      "id": "918c42da",
      "metadata": {
        "id": "918c42da"
      },
      "source": [
        "## Find Correlation between features"
      ]
    },
    {
      "cell_type": "code",
      "execution_count": 21,
      "id": "defd2970",
      "metadata": {
        "colab": {
          "base_uri": "https://localhost:8080/",
          "height": 771
        },
        "id": "defd2970",
        "outputId": "5f2bfdc5-9107-40fc-b0ce-c3361cc49424"
      },
      "outputs": [
        {
          "output_type": "execute_result",
          "data": {
            "text/plain": [
              "                             Age      Race  Marital Status  T Stage   \\\n",
              "Age                     1.000000  0.079734        0.050832 -0.066914   \n",
              "Race                    0.079734  1.000000       -0.111417  0.001082   \n",
              "Marital Status          0.050832 -0.111417        1.000000  0.009318   \n",
              "T Stage                -0.066914  0.001082        0.009318  1.000000   \n",
              "N Stage                 0.002883 -0.032125        0.013168  0.277015   \n",
              "6th Stage              -0.018741 -0.025282        0.002989  0.606711   \n",
              "differentiate           0.015697 -0.018759        0.031639 -0.031355   \n",
              "Grade                  -0.093216 -0.057032       -0.004283  0.110220   \n",
              "A Stage                 0.020860  0.007005        0.004936 -0.221124   \n",
              "Tumor Size             -0.077215 -0.004082        0.007407  0.809176   \n",
              "Estrogen Status         0.059787  0.057652       -0.017895 -0.060954   \n",
              "Progesterone Status    -0.021269  0.034351       -0.013485 -0.057633   \n",
              "Regional Node Examined -0.033345 -0.004778       -0.004285  0.114102   \n",
              "Reginol Node Positive   0.012586 -0.014604        0.005849  0.243075   \n",
              "Survival Months        -0.009390  0.040571       -0.025593 -0.085718   \n",
              "Status                  0.055921 -0.050040        0.033289  0.154699   \n",
              "\n",
              "                         N Stage  6th Stage  differentiate     Grade  \\\n",
              "Age                     0.002883  -0.018741       0.015697 -0.093216   \n",
              "Race                   -0.032125  -0.025282      -0.018759 -0.057032   \n",
              "Marital Status          0.013168   0.002989       0.031639 -0.004283   \n",
              "T Stage                 0.277015   0.606711      -0.031355  0.110220   \n",
              "N Stage                 1.000000   0.881880      -0.036249  0.148791   \n",
              "6th Stage               0.881880   1.000000      -0.042286  0.169986   \n",
              "differentiate          -0.036249  -0.042286       1.000000 -0.365422   \n",
              "Grade                   0.148791   0.169986      -0.365422  1.000000   \n",
              "A Stage                -0.260573  -0.291962      -0.008977 -0.043701   \n",
              "Tumor Size              0.277905   0.513971      -0.028391  0.099539   \n",
              "Estrogen Status        -0.101995  -0.105614      -0.021826 -0.186770   \n",
              "Progesterone Status    -0.093723  -0.101246       0.008957 -0.175816   \n",
              "Regional Node Examined  0.328276   0.317219      -0.057248  0.083446   \n",
              "Reginol Node Positive   0.838073   0.773963      -0.028339  0.122931   \n",
              "Survival Months        -0.139577  -0.144837      -0.004500 -0.058408   \n",
              "Status                  0.255772   0.257636      -0.018513  0.134170   \n",
              "\n",
              "                         A Stage  Tumor Size  Estrogen Status  \\\n",
              "Age                     0.020860   -0.077215         0.059787   \n",
              "Race                    0.007005   -0.004082         0.057652   \n",
              "Marital Status          0.004936    0.007407        -0.017895   \n",
              "T Stage                -0.221124    0.809176        -0.060954   \n",
              "N Stage                -0.260573    0.277905        -0.101995   \n",
              "6th Stage              -0.291962    0.513971        -0.105614   \n",
              "differentiate          -0.008977   -0.028391        -0.021826   \n",
              "Grade                  -0.043701    0.099539        -0.186770   \n",
              "A Stage                 1.000000   -0.123883         0.065570   \n",
              "Tumor Size             -0.123883    1.000000        -0.059585   \n",
              "Estrogen Status         0.065570   -0.059585         1.000000   \n",
              "Progesterone Status     0.026530   -0.069879         0.513308   \n",
              "Regional Node Examined -0.069010    0.104352        -0.044836   \n",
              "Reginol Node Positive  -0.232849    0.242322        -0.085985   \n",
              "Survival Months         0.070109   -0.086901         0.128469   \n",
              "Status                 -0.096584    0.134205        -0.184650   \n",
              "\n",
              "                        Progesterone Status  Regional Node Examined  \\\n",
              "Age                               -0.021269               -0.033345   \n",
              "Race                               0.034351               -0.004778   \n",
              "Marital Status                    -0.013485               -0.004285   \n",
              "T Stage                           -0.057633                0.114102   \n",
              "N Stage                           -0.093723                0.328276   \n",
              "6th Stage                         -0.101246                0.317219   \n",
              "differentiate                      0.008957               -0.057248   \n",
              "Grade                             -0.175816                0.083446   \n",
              "A Stage                            0.026530               -0.069010   \n",
              "Tumor Size                        -0.069879                0.104352   \n",
              "Estrogen Status                    0.513308               -0.044836   \n",
              "Progesterone Status                1.000000               -0.018051   \n",
              "Regional Node Examined            -0.018051                1.000000   \n",
              "Reginol Node Positive             -0.078069                0.411580   \n",
              "Survival Months                    0.096018               -0.022054   \n",
              "Status                            -0.177079                0.034772   \n",
              "\n",
              "                        Reginol Node Positive  Survival Months    Status  \n",
              "Age                                  0.012586        -0.009390  0.055921  \n",
              "Race                                -0.014604         0.040571 -0.050040  \n",
              "Marital Status                       0.005849        -0.025593  0.033289  \n",
              "T Stage                              0.243075        -0.085718  0.154699  \n",
              "N Stage                              0.838073        -0.139577  0.255772  \n",
              "6th Stage                            0.773963        -0.144837  0.257636  \n",
              "differentiate                       -0.028339        -0.004500 -0.018513  \n",
              "Grade                                0.122931        -0.058408  0.134170  \n",
              "A Stage                             -0.232849         0.070109 -0.096584  \n",
              "Tumor Size                           0.242322        -0.086901  0.134205  \n",
              "Estrogen Status                     -0.085985         0.128469 -0.184650  \n",
              "Progesterone Status                 -0.078069         0.096018 -0.177079  \n",
              "Regional Node Examined               0.411580        -0.022054  0.034772  \n",
              "Reginol Node Positive                1.000000        -0.135214  0.256638  \n",
              "Survival Months                     -0.135214         1.000000 -0.476514  \n",
              "Status                               0.256638        -0.476514  1.000000  "
            ],
            "text/html": [
              "\n",
              "  <div id=\"df-57b49fc1-20ea-4a52-a556-e6cd59047e66\">\n",
              "    <div class=\"colab-df-container\">\n",
              "      <div>\n",
              "<style scoped>\n",
              "    .dataframe tbody tr th:only-of-type {\n",
              "        vertical-align: middle;\n",
              "    }\n",
              "\n",
              "    .dataframe tbody tr th {\n",
              "        vertical-align: top;\n",
              "    }\n",
              "\n",
              "    .dataframe thead th {\n",
              "        text-align: right;\n",
              "    }\n",
              "</style>\n",
              "<table border=\"1\" class=\"dataframe\">\n",
              "  <thead>\n",
              "    <tr style=\"text-align: right;\">\n",
              "      <th></th>\n",
              "      <th>Age</th>\n",
              "      <th>Race</th>\n",
              "      <th>Marital Status</th>\n",
              "      <th>T Stage</th>\n",
              "      <th>N Stage</th>\n",
              "      <th>6th Stage</th>\n",
              "      <th>differentiate</th>\n",
              "      <th>Grade</th>\n",
              "      <th>A Stage</th>\n",
              "      <th>Tumor Size</th>\n",
              "      <th>Estrogen Status</th>\n",
              "      <th>Progesterone Status</th>\n",
              "      <th>Regional Node Examined</th>\n",
              "      <th>Reginol Node Positive</th>\n",
              "      <th>Survival Months</th>\n",
              "      <th>Status</th>\n",
              "    </tr>\n",
              "  </thead>\n",
              "  <tbody>\n",
              "    <tr>\n",
              "      <th>Age</th>\n",
              "      <td>1.000000</td>\n",
              "      <td>0.079734</td>\n",
              "      <td>0.050832</td>\n",
              "      <td>-0.066914</td>\n",
              "      <td>0.002883</td>\n",
              "      <td>-0.018741</td>\n",
              "      <td>0.015697</td>\n",
              "      <td>-0.093216</td>\n",
              "      <td>0.020860</td>\n",
              "      <td>-0.077215</td>\n",
              "      <td>0.059787</td>\n",
              "      <td>-0.021269</td>\n",
              "      <td>-0.033345</td>\n",
              "      <td>0.012586</td>\n",
              "      <td>-0.009390</td>\n",
              "      <td>0.055921</td>\n",
              "    </tr>\n",
              "    <tr>\n",
              "      <th>Race</th>\n",
              "      <td>0.079734</td>\n",
              "      <td>1.000000</td>\n",
              "      <td>-0.111417</td>\n",
              "      <td>0.001082</td>\n",
              "      <td>-0.032125</td>\n",
              "      <td>-0.025282</td>\n",
              "      <td>-0.018759</td>\n",
              "      <td>-0.057032</td>\n",
              "      <td>0.007005</td>\n",
              "      <td>-0.004082</td>\n",
              "      <td>0.057652</td>\n",
              "      <td>0.034351</td>\n",
              "      <td>-0.004778</td>\n",
              "      <td>-0.014604</td>\n",
              "      <td>0.040571</td>\n",
              "      <td>-0.050040</td>\n",
              "    </tr>\n",
              "    <tr>\n",
              "      <th>Marital Status</th>\n",
              "      <td>0.050832</td>\n",
              "      <td>-0.111417</td>\n",
              "      <td>1.000000</td>\n",
              "      <td>0.009318</td>\n",
              "      <td>0.013168</td>\n",
              "      <td>0.002989</td>\n",
              "      <td>0.031639</td>\n",
              "      <td>-0.004283</td>\n",
              "      <td>0.004936</td>\n",
              "      <td>0.007407</td>\n",
              "      <td>-0.017895</td>\n",
              "      <td>-0.013485</td>\n",
              "      <td>-0.004285</td>\n",
              "      <td>0.005849</td>\n",
              "      <td>-0.025593</td>\n",
              "      <td>0.033289</td>\n",
              "    </tr>\n",
              "    <tr>\n",
              "      <th>T Stage</th>\n",
              "      <td>-0.066914</td>\n",
              "      <td>0.001082</td>\n",
              "      <td>0.009318</td>\n",
              "      <td>1.000000</td>\n",
              "      <td>0.277015</td>\n",
              "      <td>0.606711</td>\n",
              "      <td>-0.031355</td>\n",
              "      <td>0.110220</td>\n",
              "      <td>-0.221124</td>\n",
              "      <td>0.809176</td>\n",
              "      <td>-0.060954</td>\n",
              "      <td>-0.057633</td>\n",
              "      <td>0.114102</td>\n",
              "      <td>0.243075</td>\n",
              "      <td>-0.085718</td>\n",
              "      <td>0.154699</td>\n",
              "    </tr>\n",
              "    <tr>\n",
              "      <th>N Stage</th>\n",
              "      <td>0.002883</td>\n",
              "      <td>-0.032125</td>\n",
              "      <td>0.013168</td>\n",
              "      <td>0.277015</td>\n",
              "      <td>1.000000</td>\n",
              "      <td>0.881880</td>\n",
              "      <td>-0.036249</td>\n",
              "      <td>0.148791</td>\n",
              "      <td>-0.260573</td>\n",
              "      <td>0.277905</td>\n",
              "      <td>-0.101995</td>\n",
              "      <td>-0.093723</td>\n",
              "      <td>0.328276</td>\n",
              "      <td>0.838073</td>\n",
              "      <td>-0.139577</td>\n",
              "      <td>0.255772</td>\n",
              "    </tr>\n",
              "    <tr>\n",
              "      <th>6th Stage</th>\n",
              "      <td>-0.018741</td>\n",
              "      <td>-0.025282</td>\n",
              "      <td>0.002989</td>\n",
              "      <td>0.606711</td>\n",
              "      <td>0.881880</td>\n",
              "      <td>1.000000</td>\n",
              "      <td>-0.042286</td>\n",
              "      <td>0.169986</td>\n",
              "      <td>-0.291962</td>\n",
              "      <td>0.513971</td>\n",
              "      <td>-0.105614</td>\n",
              "      <td>-0.101246</td>\n",
              "      <td>0.317219</td>\n",
              "      <td>0.773963</td>\n",
              "      <td>-0.144837</td>\n",
              "      <td>0.257636</td>\n",
              "    </tr>\n",
              "    <tr>\n",
              "      <th>differentiate</th>\n",
              "      <td>0.015697</td>\n",
              "      <td>-0.018759</td>\n",
              "      <td>0.031639</td>\n",
              "      <td>-0.031355</td>\n",
              "      <td>-0.036249</td>\n",
              "      <td>-0.042286</td>\n",
              "      <td>1.000000</td>\n",
              "      <td>-0.365422</td>\n",
              "      <td>-0.008977</td>\n",
              "      <td>-0.028391</td>\n",
              "      <td>-0.021826</td>\n",
              "      <td>0.008957</td>\n",
              "      <td>-0.057248</td>\n",
              "      <td>-0.028339</td>\n",
              "      <td>-0.004500</td>\n",
              "      <td>-0.018513</td>\n",
              "    </tr>\n",
              "    <tr>\n",
              "      <th>Grade</th>\n",
              "      <td>-0.093216</td>\n",
              "      <td>-0.057032</td>\n",
              "      <td>-0.004283</td>\n",
              "      <td>0.110220</td>\n",
              "      <td>0.148791</td>\n",
              "      <td>0.169986</td>\n",
              "      <td>-0.365422</td>\n",
              "      <td>1.000000</td>\n",
              "      <td>-0.043701</td>\n",
              "      <td>0.099539</td>\n",
              "      <td>-0.186770</td>\n",
              "      <td>-0.175816</td>\n",
              "      <td>0.083446</td>\n",
              "      <td>0.122931</td>\n",
              "      <td>-0.058408</td>\n",
              "      <td>0.134170</td>\n",
              "    </tr>\n",
              "    <tr>\n",
              "      <th>A Stage</th>\n",
              "      <td>0.020860</td>\n",
              "      <td>0.007005</td>\n",
              "      <td>0.004936</td>\n",
              "      <td>-0.221124</td>\n",
              "      <td>-0.260573</td>\n",
              "      <td>-0.291962</td>\n",
              "      <td>-0.008977</td>\n",
              "      <td>-0.043701</td>\n",
              "      <td>1.000000</td>\n",
              "      <td>-0.123883</td>\n",
              "      <td>0.065570</td>\n",
              "      <td>0.026530</td>\n",
              "      <td>-0.069010</td>\n",
              "      <td>-0.232849</td>\n",
              "      <td>0.070109</td>\n",
              "      <td>-0.096584</td>\n",
              "    </tr>\n",
              "    <tr>\n",
              "      <th>Tumor Size</th>\n",
              "      <td>-0.077215</td>\n",
              "      <td>-0.004082</td>\n",
              "      <td>0.007407</td>\n",
              "      <td>0.809176</td>\n",
              "      <td>0.277905</td>\n",
              "      <td>0.513971</td>\n",
              "      <td>-0.028391</td>\n",
              "      <td>0.099539</td>\n",
              "      <td>-0.123883</td>\n",
              "      <td>1.000000</td>\n",
              "      <td>-0.059585</td>\n",
              "      <td>-0.069879</td>\n",
              "      <td>0.104352</td>\n",
              "      <td>0.242322</td>\n",
              "      <td>-0.086901</td>\n",
              "      <td>0.134205</td>\n",
              "    </tr>\n",
              "    <tr>\n",
              "      <th>Estrogen Status</th>\n",
              "      <td>0.059787</td>\n",
              "      <td>0.057652</td>\n",
              "      <td>-0.017895</td>\n",
              "      <td>-0.060954</td>\n",
              "      <td>-0.101995</td>\n",
              "      <td>-0.105614</td>\n",
              "      <td>-0.021826</td>\n",
              "      <td>-0.186770</td>\n",
              "      <td>0.065570</td>\n",
              "      <td>-0.059585</td>\n",
              "      <td>1.000000</td>\n",
              "      <td>0.513308</td>\n",
              "      <td>-0.044836</td>\n",
              "      <td>-0.085985</td>\n",
              "      <td>0.128469</td>\n",
              "      <td>-0.184650</td>\n",
              "    </tr>\n",
              "    <tr>\n",
              "      <th>Progesterone Status</th>\n",
              "      <td>-0.021269</td>\n",
              "      <td>0.034351</td>\n",
              "      <td>-0.013485</td>\n",
              "      <td>-0.057633</td>\n",
              "      <td>-0.093723</td>\n",
              "      <td>-0.101246</td>\n",
              "      <td>0.008957</td>\n",
              "      <td>-0.175816</td>\n",
              "      <td>0.026530</td>\n",
              "      <td>-0.069879</td>\n",
              "      <td>0.513308</td>\n",
              "      <td>1.000000</td>\n",
              "      <td>-0.018051</td>\n",
              "      <td>-0.078069</td>\n",
              "      <td>0.096018</td>\n",
              "      <td>-0.177079</td>\n",
              "    </tr>\n",
              "    <tr>\n",
              "      <th>Regional Node Examined</th>\n",
              "      <td>-0.033345</td>\n",
              "      <td>-0.004778</td>\n",
              "      <td>-0.004285</td>\n",
              "      <td>0.114102</td>\n",
              "      <td>0.328276</td>\n",
              "      <td>0.317219</td>\n",
              "      <td>-0.057248</td>\n",
              "      <td>0.083446</td>\n",
              "      <td>-0.069010</td>\n",
              "      <td>0.104352</td>\n",
              "      <td>-0.044836</td>\n",
              "      <td>-0.018051</td>\n",
              "      <td>1.000000</td>\n",
              "      <td>0.411580</td>\n",
              "      <td>-0.022054</td>\n",
              "      <td>0.034772</td>\n",
              "    </tr>\n",
              "    <tr>\n",
              "      <th>Reginol Node Positive</th>\n",
              "      <td>0.012586</td>\n",
              "      <td>-0.014604</td>\n",
              "      <td>0.005849</td>\n",
              "      <td>0.243075</td>\n",
              "      <td>0.838073</td>\n",
              "      <td>0.773963</td>\n",
              "      <td>-0.028339</td>\n",
              "      <td>0.122931</td>\n",
              "      <td>-0.232849</td>\n",
              "      <td>0.242322</td>\n",
              "      <td>-0.085985</td>\n",
              "      <td>-0.078069</td>\n",
              "      <td>0.411580</td>\n",
              "      <td>1.000000</td>\n",
              "      <td>-0.135214</td>\n",
              "      <td>0.256638</td>\n",
              "    </tr>\n",
              "    <tr>\n",
              "      <th>Survival Months</th>\n",
              "      <td>-0.009390</td>\n",
              "      <td>0.040571</td>\n",
              "      <td>-0.025593</td>\n",
              "      <td>-0.085718</td>\n",
              "      <td>-0.139577</td>\n",
              "      <td>-0.144837</td>\n",
              "      <td>-0.004500</td>\n",
              "      <td>-0.058408</td>\n",
              "      <td>0.070109</td>\n",
              "      <td>-0.086901</td>\n",
              "      <td>0.128469</td>\n",
              "      <td>0.096018</td>\n",
              "      <td>-0.022054</td>\n",
              "      <td>-0.135214</td>\n",
              "      <td>1.000000</td>\n",
              "      <td>-0.476514</td>\n",
              "    </tr>\n",
              "    <tr>\n",
              "      <th>Status</th>\n",
              "      <td>0.055921</td>\n",
              "      <td>-0.050040</td>\n",
              "      <td>0.033289</td>\n",
              "      <td>0.154699</td>\n",
              "      <td>0.255772</td>\n",
              "      <td>0.257636</td>\n",
              "      <td>-0.018513</td>\n",
              "      <td>0.134170</td>\n",
              "      <td>-0.096584</td>\n",
              "      <td>0.134205</td>\n",
              "      <td>-0.184650</td>\n",
              "      <td>-0.177079</td>\n",
              "      <td>0.034772</td>\n",
              "      <td>0.256638</td>\n",
              "      <td>-0.476514</td>\n",
              "      <td>1.000000</td>\n",
              "    </tr>\n",
              "  </tbody>\n",
              "</table>\n",
              "</div>\n",
              "      <button class=\"colab-df-convert\" onclick=\"convertToInteractive('df-57b49fc1-20ea-4a52-a556-e6cd59047e66')\"\n",
              "              title=\"Convert this dataframe to an interactive table.\"\n",
              "              style=\"display:none;\">\n",
              "        \n",
              "  <svg xmlns=\"http://www.w3.org/2000/svg\" height=\"24px\"viewBox=\"0 0 24 24\"\n",
              "       width=\"24px\">\n",
              "    <path d=\"M0 0h24v24H0V0z\" fill=\"none\"/>\n",
              "    <path d=\"M18.56 5.44l.94 2.06.94-2.06 2.06-.94-2.06-.94-.94-2.06-.94 2.06-2.06.94zm-11 1L8.5 8.5l.94-2.06 2.06-.94-2.06-.94L8.5 2.5l-.94 2.06-2.06.94zm10 10l.94 2.06.94-2.06 2.06-.94-2.06-.94-.94-2.06-.94 2.06-2.06.94z\"/><path d=\"M17.41 7.96l-1.37-1.37c-.4-.4-.92-.59-1.43-.59-.52 0-1.04.2-1.43.59L10.3 9.45l-7.72 7.72c-.78.78-.78 2.05 0 2.83L4 21.41c.39.39.9.59 1.41.59.51 0 1.02-.2 1.41-.59l7.78-7.78 2.81-2.81c.8-.78.8-2.07 0-2.86zM5.41 20L4 18.59l7.72-7.72 1.47 1.35L5.41 20z\"/>\n",
              "  </svg>\n",
              "      </button>\n",
              "      \n",
              "  <style>\n",
              "    .colab-df-container {\n",
              "      display:flex;\n",
              "      flex-wrap:wrap;\n",
              "      gap: 12px;\n",
              "    }\n",
              "\n",
              "    .colab-df-convert {\n",
              "      background-color: #E8F0FE;\n",
              "      border: none;\n",
              "      border-radius: 50%;\n",
              "      cursor: pointer;\n",
              "      display: none;\n",
              "      fill: #1967D2;\n",
              "      height: 32px;\n",
              "      padding: 0 0 0 0;\n",
              "      width: 32px;\n",
              "    }\n",
              "\n",
              "    .colab-df-convert:hover {\n",
              "      background-color: #E2EBFA;\n",
              "      box-shadow: 0px 1px 2px rgba(60, 64, 67, 0.3), 0px 1px 3px 1px rgba(60, 64, 67, 0.15);\n",
              "      fill: #174EA6;\n",
              "    }\n",
              "\n",
              "    [theme=dark] .colab-df-convert {\n",
              "      background-color: #3B4455;\n",
              "      fill: #D2E3FC;\n",
              "    }\n",
              "\n",
              "    [theme=dark] .colab-df-convert:hover {\n",
              "      background-color: #434B5C;\n",
              "      box-shadow: 0px 1px 3px 1px rgba(0, 0, 0, 0.15);\n",
              "      filter: drop-shadow(0px 1px 2px rgba(0, 0, 0, 0.3));\n",
              "      fill: #FFFFFF;\n",
              "    }\n",
              "  </style>\n",
              "\n",
              "      <script>\n",
              "        const buttonEl =\n",
              "          document.querySelector('#df-57b49fc1-20ea-4a52-a556-e6cd59047e66 button.colab-df-convert');\n",
              "        buttonEl.style.display =\n",
              "          google.colab.kernel.accessAllowed ? 'block' : 'none';\n",
              "\n",
              "        async function convertToInteractive(key) {\n",
              "          const element = document.querySelector('#df-57b49fc1-20ea-4a52-a556-e6cd59047e66');\n",
              "          const dataTable =\n",
              "            await google.colab.kernel.invokeFunction('convertToInteractive',\n",
              "                                                     [key], {});\n",
              "          if (!dataTable) return;\n",
              "\n",
              "          const docLinkHtml = 'Like what you see? Visit the ' +\n",
              "            '<a target=\"_blank\" href=https://colab.research.google.com/notebooks/data_table.ipynb>data table notebook</a>'\n",
              "            + ' to learn more about interactive tables.';\n",
              "          element.innerHTML = '';\n",
              "          dataTable['output_type'] = 'display_data';\n",
              "          await google.colab.output.renderOutput(dataTable, element);\n",
              "          const docLink = document.createElement('div');\n",
              "          docLink.innerHTML = docLinkHtml;\n",
              "          element.appendChild(docLink);\n",
              "        }\n",
              "      </script>\n",
              "    </div>\n",
              "  </div>\n",
              "  "
            ]
          },
          "metadata": {},
          "execution_count": 21
        }
      ],
      "source": [
        "df.corr()          # tends to 1 ==> strong corr       tends to 0 ==> weak corr\n",
        "                   # -ve value ==> inverse relation   +ve val"
      ]
    },
    {
      "cell_type": "markdown",
      "id": "6d93203c",
      "metadata": {
        "id": "6d93203c"
      },
      "source": [
        "**Observation:**\n",
        "* ( 6th Stage - N Stage ) 0.8 corr\n",
        "* ( 6th Stage & Regional Node Positive ) 0.7 corr"
      ]
    },
    {
      "cell_type": "code",
      "execution_count": 22,
      "id": "d33672ea",
      "metadata": {
        "colab": {
          "base_uri": "https://localhost:8080/",
          "height": 619
        },
        "id": "d33672ea",
        "outputId": "dd86e9af-11c1-4978-c6d2-7cc14a67b144"
      },
      "outputs": [
        {
          "output_type": "execute_result",
          "data": {
            "text/plain": [
              "<matplotlib.axes._subplots.AxesSubplot at 0x7f8920a281d0>"
            ]
          },
          "metadata": {},
          "execution_count": 22
        },
        {
          "output_type": "display_data",
          "data": {
            "text/plain": [
              "<Figure size 1080x576 with 2 Axes>"
            ],
            "image/png": "[encoded data removed]"
          },
          "metadata": {
            "needs_background": "light"
          }
        }
      ],
      "source": [
        "plt.figure(figsize = (15,8))\n",
        "sns.heatmap(df.corr(),cmap=\"Reds\")       # as the color gets dark the correlation between features increase"
      ]
    },
    {
      "cell_type": "markdown",
      "id": "c239f1b1",
      "metadata": {
        "id": "c239f1b1"
      },
      "source": [
        "**Observation:**\n",
        "* There are correlations between:\n",
        "    * ( 6th Stage - N Stage )\n",
        "    * ( 6th Stage &  Regional Node Positive )\n",
        "    * ( N Stage - Regional Node Positive ) \n",
        "    * ( T Stage - Tumor Size ) \n",
        "    \n",
        "**Action** \n",
        "* try building model after removing N stage &  Regional Node Positive and compare accuracies"
      ]
    },
    {
      "cell_type": "markdown",
      "id": "95d7915b",
      "metadata": {
        "id": "95d7915b"
      },
      "source": [
        "# Split data"
      ]
    },
    {
      "cell_type": "code",
      "source": [
        "# gets all columns accecpt Status status column\n",
        "input_data = df.drop('Status', axis = 1)               # axis = 0 for removing rows - axis = 1 for removing columns         \n",
        "target_data = df['Status']\n",
        "\n",
        "input_data = input_data.to_numpy()\n",
        "target_data = target_data.to_numpy()"
      ],
      "metadata": {
        "id": "ki-biye35IF9"
      },
      "id": "ki-biye35IF9",
      "execution_count": 23,
      "outputs": []
    },
    {
      "cell_type": "code",
      "source": [
        "input_data"
      ],
      "metadata": {
        "colab": {
          "base_uri": "https://localhost:8080/"
        },
        "id": "z0Q5MsiGC9TD",
        "outputId": "40d55350-2640-4202-8880-d5624a4a9e4e"
      },
      "id": "z0Q5MsiGC9TD",
      "execution_count": 24,
      "outputs": [
        {
          "output_type": "execute_result",
          "data": {
            "text/plain": [
              "array([[ 68,   2,   1, ...,  24,   1,  60],\n",
              "       [ 50,   2,   1, ...,  14,   5,  62],\n",
              "       [ 58,   2,   0, ...,  14,   7,  75],\n",
              "       ...,\n",
              "       [ 68,   2,   1, ...,  11,   3,  69],\n",
              "       [ 58,   0,   0, ...,  11,   1,  72],\n",
              "       [ 46,   2,   1, ...,   7,   2, 100]])"
            ]
          },
          "metadata": {},
          "execution_count": 24
        }
      ]
    },
    {
      "cell_type": "code",
      "source": [
        "input_data.shape"
      ],
      "metadata": {
        "colab": {
          "base_uri": "https://localhost:8080/"
        },
        "id": "58wM3vR_DGkG",
        "outputId": "918974fe-0458-4ab9-8408-5235e2174e46"
      },
      "id": "58wM3vR_DGkG",
      "execution_count": 25,
      "outputs": [
        {
          "output_type": "execute_result",
          "data": {
            "text/plain": [
              "(4024, 15)"
            ]
          },
          "metadata": {},
          "execution_count": 25
        }
      ]
    },
    {
      "cell_type": "code",
      "source": [
        "input_data[0].shape    # 15 is the input of the neural network (number of features)"
      ],
      "metadata": {
        "colab": {
          "base_uri": "https://localhost:8080/"
        },
        "id": "L6IKdR4wDdDB",
        "outputId": "b80ad4eb-0048-465e-b591-661aa50d5d2f"
      },
      "id": "L6IKdR4wDdDB",
      "execution_count": 26,
      "outputs": [
        {
          "output_type": "execute_result",
          "data": {
            "text/plain": [
              "(15,)"
            ]
          },
          "metadata": {},
          "execution_count": 26
        }
      ]
    },
    {
      "cell_type": "code",
      "source": [
        "target_data.shape"
      ],
      "metadata": {
        "colab": {
          "base_uri": "https://localhost:8080/"
        },
        "id": "_gsleazLDrfW",
        "outputId": "eaea795e-38d8-4358-8e90-ac7960e3c484"
      },
      "id": "_gsleazLDrfW",
      "execution_count": 27,
      "outputs": [
        {
          "output_type": "execute_result",
          "data": {
            "text/plain": [
              "(4024,)"
            ]
          },
          "metadata": {},
          "execution_count": 27
        }
      ]
    },
    {
      "cell_type": "code",
      "source": [
        "# input_train, input_test, target_train, target_test = train_test_split(input_data, target_data,test_size = .2,\n",
        "                                                                      # random_state =42)"
      ],
      "metadata": {
        "id": "_HwnFGLq5jOv"
      },
      "id": "_HwnFGLq5jOv",
      "execution_count": 28,
      "outputs": []
    },
    {
      "cell_type": "code",
      "source": [],
      "metadata": {
        "id": "vOo1QuE6lDNO"
      },
      "id": "vOo1QuE6lDNO",
      "execution_count": 28,
      "outputs": []
    },
    {
      "cell_type": "markdown",
      "source": [
        "# 1) Model by data before balancing\n"
      ],
      "metadata": {
        "id": "0S3xWLGc7RTB"
      },
      "id": "0S3xWLGc7RTB"
    },
    {
      "cell_type": "markdown",
      "source": [
        "## 1] Without Hyperparameter Tuning"
      ],
      "metadata": {
        "id": "WyfM8Hnt4GBu"
      },
      "id": "WyfM8Hnt4GBu"
    },
    {
      "cell_type": "code",
      "source": [
        "# Model layers\n",
        "\n",
        "model = tf.keras.Sequential()                             # model base               \n",
        "\n",
        "model.add(tf.keras.Input(shape = (15, )))                 # add input shape   ( input_data[0].shape )\n",
        "\n",
        "model.add(tf.keras.layers.Normalization(axis=None))\n",
        "\n",
        "model.add(tf.keras.layers.Dense(128, activation='relu'))   # 30 is the shape of the output \n",
        "model.add(tf.keras.layers.Dropout(0.2))                  # applies Dropout to the input (25%)\n",
        "\n",
        "model.add(tf.keras.layers.Dense(128, activation='relu'))  \n",
        "model.add(tf.keras.layers.Dropout(.2))\n",
        "\n",
        "model.add(tf.keras.layers.Dense(128, activation='relu'))  \n",
        "model.add(tf.keras.layers.Dropout(.2))\n",
        "\n",
        "model.add(tf.keras.layers.Dense(1, activation='sigmoid')) # 1 is output shape - sigmoid is used bec output in range[0,1]\n",
        "\n",
        "model.summary()"
      ],
      "metadata": {
        "colab": {
          "base_uri": "https://localhost:8080/"
        },
        "id": "xKhp8F_3SBIg",
        "outputId": "eacf10b8-b895-4945-921f-d08dac273bc5"
      },
      "id": "xKhp8F_3SBIg",
      "execution_count": 29,
      "outputs": [
        {
          "output_type": "stream",
          "name": "stdout",
          "text": [
            "Model: \"sequential\"\n",
            "_________________________________________________________________\n",
            " Layer (type)                Output Shape              Param #   \n",
            "=================================================================\n",
            " normalization (Normalizatio  (None, 15)               3         \n",
            " n)                                                              \n",
            "                                                                 \n",
            " dense (Dense)               (None, 128)               2048      \n",
            "                                                                 \n",
            " dropout (Dropout)           (None, 128)               0         \n",
            "                                                                 \n",
            " dense_1 (Dense)             (None, 128)               16512     \n",
            "                                                                 \n",
            " dropout_1 (Dropout)         (None, 128)               0         \n",
            "                                                                 \n",
            " dense_2 (Dense)             (None, 128)               16512     \n",
            "                                                                 \n",
            " dropout_2 (Dropout)         (None, 128)               0         \n",
            "                                                                 \n",
            " dense_3 (Dense)             (None, 1)                 129       \n",
            "                                                                 \n",
            "=================================================================\n",
            "Total params: 35,204\n",
            "Trainable params: 35,201\n",
            "Non-trainable params: 3\n",
            "_________________________________________________________________\n"
          ]
        }
      ]
    },
    {
      "cell_type": "code",
      "source": [
        "# Model Optimizer\n",
        "\n",
        "model.compile(optimizer='adam', loss = tf.keras.losses.BinaryCrossentropy(), metrics='accuracy') \n",
        "# BinaryCrossentropy is used bec target is 0 or 1"
      ],
      "metadata": {
        "id": "JlzG78NGFc8p"
      },
      "id": "JlzG78NGFc8p",
      "execution_count": 30,
      "outputs": []
    },
    {
      "cell_type": "code",
      "source": [
        "# Build the model\n",
        "\n",
        "history = model.fit(input_data, target_data, epochs = 80, validation_split=.2)"
      ],
      "metadata": {
        "colab": {
          "base_uri": "https://localhost:8080/"
        },
        "id": "C4VkVDxxFc-0",
        "outputId": "864947e4-7bca-4296-e0f0-d19091acade4"
      },
      "id": "C4VkVDxxFc-0",
      "execution_count": 31,
      "outputs": [
        {
          "output_type": "stream",
          "name": "stdout",
          "text": [
            "Epoch 1/80\n",
            "101/101 [==============================] - 4s 11ms/step - loss: 0.7746 - accuracy: 0.8263 - val_loss: 0.3427 - val_accuracy: 0.8696\n",
            "Epoch 2/80\n",
            "101/101 [==============================] - 1s 7ms/step - loss: 0.3863 - accuracy: 0.8642 - val_loss: 0.3328 - val_accuracy: 0.8807\n",
            "Epoch 3/80\n",
            "101/101 [==============================] - 1s 7ms/step - loss: 0.3512 - accuracy: 0.8674 - val_loss: 0.3144 - val_accuracy: 0.8919\n",
            "Epoch 4/80\n",
            "101/101 [==============================] - 1s 8ms/step - loss: 0.3283 - accuracy: 0.8773 - val_loss: 0.3309 - val_accuracy: 0.8845\n",
            "Epoch 5/80\n",
            "101/101 [==============================] - 1s 7ms/step - loss: 0.3285 - accuracy: 0.8826 - val_loss: 0.3191 - val_accuracy: 0.8832\n",
            "Epoch 6/80\n",
            "101/101 [==============================] - 1s 7ms/step - loss: 0.3158 - accuracy: 0.8851 - val_loss: 0.3062 - val_accuracy: 0.8981\n",
            "Epoch 7/80\n",
            "101/101 [==============================] - 1s 8ms/step - loss: 0.3169 - accuracy: 0.8851 - val_loss: 0.3148 - val_accuracy: 0.8907\n",
            "Epoch 8/80\n",
            "101/101 [==============================] - 1s 8ms/step - loss: 0.3151 - accuracy: 0.8900 - val_loss: 0.3152 - val_accuracy: 0.8870\n",
            "Epoch 9/80\n",
            "101/101 [==============================] - 1s 6ms/step - loss: 0.3111 - accuracy: 0.8875 - val_loss: 0.3236 - val_accuracy: 0.8944\n",
            "Epoch 10/80\n",
            "101/101 [==============================] - 1s 6ms/step - loss: 0.2999 - accuracy: 0.8910 - val_loss: 0.3154 - val_accuracy: 0.8957\n",
            "Epoch 11/80\n",
            "101/101 [==============================] - 1s 7ms/step - loss: 0.2987 - accuracy: 0.8900 - val_loss: 0.3098 - val_accuracy: 0.8857\n",
            "Epoch 12/80\n",
            "101/101 [==============================] - 1s 8ms/step - loss: 0.2993 - accuracy: 0.8928 - val_loss: 0.3108 - val_accuracy: 0.8919\n",
            "Epoch 13/80\n",
            "101/101 [==============================] - 1s 7ms/step - loss: 0.2964 - accuracy: 0.8860 - val_loss: 0.3182 - val_accuracy: 0.8932\n",
            "Epoch 14/80\n",
            "101/101 [==============================] - 0s 4ms/step - loss: 0.2974 - accuracy: 0.8888 - val_loss: 0.3009 - val_accuracy: 0.8907\n",
            "Epoch 15/80\n",
            "101/101 [==============================] - 0s 4ms/step - loss: 0.2949 - accuracy: 0.8938 - val_loss: 0.3114 - val_accuracy: 0.8932\n",
            "Epoch 16/80\n",
            "101/101 [==============================] - 0s 4ms/step - loss: 0.2957 - accuracy: 0.8919 - val_loss: 0.3222 - val_accuracy: 0.8944\n",
            "Epoch 17/80\n",
            "101/101 [==============================] - 0s 4ms/step - loss: 0.2906 - accuracy: 0.8938 - val_loss: 0.3069 - val_accuracy: 0.8932\n",
            "Epoch 18/80\n",
            "101/101 [==============================] - 0s 4ms/step - loss: 0.2872 - accuracy: 0.8944 - val_loss: 0.3125 - val_accuracy: 0.8919\n",
            "Epoch 19/80\n",
            "101/101 [==============================] - 0s 4ms/step - loss: 0.2937 - accuracy: 0.8928 - val_loss: 0.2993 - val_accuracy: 0.8944\n",
            "Epoch 20/80\n",
            "101/101 [==============================] - 0s 4ms/step - loss: 0.2867 - accuracy: 0.8934 - val_loss: 0.2992 - val_accuracy: 0.8919\n",
            "Epoch 21/80\n",
            "101/101 [==============================] - 0s 4ms/step - loss: 0.2881 - accuracy: 0.8894 - val_loss: 0.2968 - val_accuracy: 0.8981\n",
            "Epoch 22/80\n",
            "101/101 [==============================] - 0s 4ms/step - loss: 0.2984 - accuracy: 0.8925 - val_loss: 0.2999 - val_accuracy: 0.8969\n",
            "Epoch 23/80\n",
            "101/101 [==============================] - 0s 4ms/step - loss: 0.2850 - accuracy: 0.8934 - val_loss: 0.2974 - val_accuracy: 0.8919\n",
            "Epoch 24/80\n",
            "101/101 [==============================] - 0s 4ms/step - loss: 0.2882 - accuracy: 0.8931 - val_loss: 0.2961 - val_accuracy: 0.8969\n",
            "Epoch 25/80\n",
            "101/101 [==============================] - 0s 3ms/step - loss: 0.2879 - accuracy: 0.8950 - val_loss: 0.3021 - val_accuracy: 0.8981\n",
            "Epoch 26/80\n",
            "101/101 [==============================] - 0s 4ms/step - loss: 0.2849 - accuracy: 0.9006 - val_loss: 0.3013 - val_accuracy: 0.8944\n",
            "Epoch 27/80\n",
            "101/101 [==============================] - 0s 3ms/step - loss: 0.2848 - accuracy: 0.8950 - val_loss: 0.2964 - val_accuracy: 0.8957\n",
            "Epoch 28/80\n",
            "101/101 [==============================] - 0s 4ms/step - loss: 0.2822 - accuracy: 0.8959 - val_loss: 0.2979 - val_accuracy: 0.8969\n",
            "Epoch 29/80\n",
            "101/101 [==============================] - 0s 4ms/step - loss: 0.2819 - accuracy: 0.9003 - val_loss: 0.3000 - val_accuracy: 0.8919\n",
            "Epoch 30/80\n",
            "101/101 [==============================] - 0s 4ms/step - loss: 0.2802 - accuracy: 0.8975 - val_loss: 0.3017 - val_accuracy: 0.8957\n",
            "Epoch 31/80\n",
            "101/101 [==============================] - 0s 4ms/step - loss: 0.2863 - accuracy: 0.8966 - val_loss: 0.2975 - val_accuracy: 0.8969\n",
            "Epoch 32/80\n",
            "101/101 [==============================] - 0s 4ms/step - loss: 0.2820 - accuracy: 0.8959 - val_loss: 0.3080 - val_accuracy: 0.8907\n",
            "Epoch 33/80\n",
            "101/101 [==============================] - 0s 4ms/step - loss: 0.2816 - accuracy: 0.8931 - val_loss: 0.3006 - val_accuracy: 0.8957\n",
            "Epoch 34/80\n",
            "101/101 [==============================] - 0s 4ms/step - loss: 0.2831 - accuracy: 0.8944 - val_loss: 0.2976 - val_accuracy: 0.8919\n",
            "Epoch 35/80\n",
            "101/101 [==============================] - 0s 4ms/step - loss: 0.2829 - accuracy: 0.8950 - val_loss: 0.2999 - val_accuracy: 0.8957\n",
            "Epoch 36/80\n",
            "101/101 [==============================] - 0s 4ms/step - loss: 0.2799 - accuracy: 0.8975 - val_loss: 0.2958 - val_accuracy: 0.8957\n",
            "Epoch 37/80\n",
            "101/101 [==============================] - 0s 4ms/step - loss: 0.2792 - accuracy: 0.8987 - val_loss: 0.3097 - val_accuracy: 0.8882\n",
            "Epoch 38/80\n",
            "101/101 [==============================] - 0s 4ms/step - loss: 0.2786 - accuracy: 0.8962 - val_loss: 0.2960 - val_accuracy: 0.8944\n",
            "Epoch 39/80\n",
            "101/101 [==============================] - 0s 4ms/step - loss: 0.2793 - accuracy: 0.8975 - val_loss: 0.3027 - val_accuracy: 0.8969\n",
            "Epoch 40/80\n",
            "101/101 [==============================] - 0s 4ms/step - loss: 0.2854 - accuracy: 0.8975 - val_loss: 0.2954 - val_accuracy: 0.8969\n",
            "Epoch 41/80\n",
            "101/101 [==============================] - 0s 4ms/step - loss: 0.2766 - accuracy: 0.9000 - val_loss: 0.2974 - val_accuracy: 0.8994\n",
            "Epoch 42/80\n",
            "101/101 [==============================] - 0s 4ms/step - loss: 0.2786 - accuracy: 0.8981 - val_loss: 0.2969 - val_accuracy: 0.8932\n",
            "Epoch 43/80\n",
            "101/101 [==============================] - 0s 4ms/step - loss: 0.2791 - accuracy: 0.8962 - val_loss: 0.2996 - val_accuracy: 0.8944\n",
            "Epoch 44/80\n",
            "101/101 [==============================] - 0s 4ms/step - loss: 0.2804 - accuracy: 0.8978 - val_loss: 0.2963 - val_accuracy: 0.8932\n",
            "Epoch 45/80\n",
            "101/101 [==============================] - 0s 4ms/step - loss: 0.2807 - accuracy: 0.8978 - val_loss: 0.2981 - val_accuracy: 0.8919\n",
            "Epoch 46/80\n",
            "101/101 [==============================] - 0s 4ms/step - loss: 0.2763 - accuracy: 0.8969 - val_loss: 0.3007 - val_accuracy: 0.8994\n",
            "Epoch 47/80\n",
            "101/101 [==============================] - 0s 4ms/step - loss: 0.2758 - accuracy: 0.9012 - val_loss: 0.3144 - val_accuracy: 0.8957\n",
            "Epoch 48/80\n",
            "101/101 [==============================] - 0s 4ms/step - loss: 0.2761 - accuracy: 0.9025 - val_loss: 0.3234 - val_accuracy: 0.8994\n",
            "Epoch 49/80\n",
            "101/101 [==============================] - 0s 4ms/step - loss: 0.2737 - accuracy: 0.9006 - val_loss: 0.2987 - val_accuracy: 0.8957\n",
            "Epoch 50/80\n",
            "101/101 [==============================] - 0s 4ms/step - loss: 0.2778 - accuracy: 0.9034 - val_loss: 0.3035 - val_accuracy: 0.8919\n",
            "Epoch 51/80\n",
            "101/101 [==============================] - 0s 4ms/step - loss: 0.2773 - accuracy: 0.8997 - val_loss: 0.3014 - val_accuracy: 0.8907\n",
            "Epoch 52/80\n",
            "101/101 [==============================] - 0s 4ms/step - loss: 0.2803 - accuracy: 0.8990 - val_loss: 0.2997 - val_accuracy: 0.8957\n",
            "Epoch 53/80\n",
            "101/101 [==============================] - 0s 4ms/step - loss: 0.2722 - accuracy: 0.9021 - val_loss: 0.2989 - val_accuracy: 0.8919\n",
            "Epoch 54/80\n",
            "101/101 [==============================] - 0s 4ms/step - loss: 0.2732 - accuracy: 0.9015 - val_loss: 0.2960 - val_accuracy: 0.8932\n",
            "Epoch 55/80\n",
            "101/101 [==============================] - 0s 4ms/step - loss: 0.2745 - accuracy: 0.8969 - val_loss: 0.2959 - val_accuracy: 0.8944\n",
            "Epoch 56/80\n",
            "101/101 [==============================] - 0s 4ms/step - loss: 0.2770 - accuracy: 0.8978 - val_loss: 0.2965 - val_accuracy: 0.8932\n",
            "Epoch 57/80\n",
            "101/101 [==============================] - 0s 4ms/step - loss: 0.2715 - accuracy: 0.9000 - val_loss: 0.2932 - val_accuracy: 0.8944\n",
            "Epoch 58/80\n",
            "101/101 [==============================] - 0s 4ms/step - loss: 0.2781 - accuracy: 0.8978 - val_loss: 0.2922 - val_accuracy: 0.8957\n",
            "Epoch 59/80\n",
            "101/101 [==============================] - 0s 4ms/step - loss: 0.2709 - accuracy: 0.8993 - val_loss: 0.2974 - val_accuracy: 0.8919\n",
            "Epoch 60/80\n",
            "101/101 [==============================] - 0s 4ms/step - loss: 0.2708 - accuracy: 0.9018 - val_loss: 0.2956 - val_accuracy: 0.8919\n",
            "Epoch 61/80\n",
            "101/101 [==============================] - 0s 4ms/step - loss: 0.2751 - accuracy: 0.9018 - val_loss: 0.3003 - val_accuracy: 0.8919\n",
            "Epoch 62/80\n",
            "101/101 [==============================] - 0s 4ms/step - loss: 0.2699 - accuracy: 0.9046 - val_loss: 0.2930 - val_accuracy: 0.8919\n",
            "Epoch 63/80\n",
            "101/101 [==============================] - 0s 4ms/step - loss: 0.2664 - accuracy: 0.9006 - val_loss: 0.2919 - val_accuracy: 0.8932\n",
            "Epoch 64/80\n",
            "101/101 [==============================] - 0s 4ms/step - loss: 0.2715 - accuracy: 0.9059 - val_loss: 0.2988 - val_accuracy: 0.8981\n",
            "Epoch 65/80\n",
            "101/101 [==============================] - 0s 4ms/step - loss: 0.2702 - accuracy: 0.9037 - val_loss: 0.3021 - val_accuracy: 0.8957\n",
            "Epoch 66/80\n",
            "101/101 [==============================] - 0s 4ms/step - loss: 0.2714 - accuracy: 0.8981 - val_loss: 0.2966 - val_accuracy: 0.8957\n",
            "Epoch 67/80\n",
            "101/101 [==============================] - 0s 4ms/step - loss: 0.2719 - accuracy: 0.9053 - val_loss: 0.2978 - val_accuracy: 0.8957\n",
            "Epoch 68/80\n",
            "101/101 [==============================] - 0s 4ms/step - loss: 0.2652 - accuracy: 0.9028 - val_loss: 0.2988 - val_accuracy: 0.8957\n",
            "Epoch 69/80\n",
            "101/101 [==============================] - 0s 4ms/step - loss: 0.2677 - accuracy: 0.9025 - val_loss: 0.2969 - val_accuracy: 0.8944\n",
            "Epoch 70/80\n",
            "101/101 [==============================] - 0s 4ms/step - loss: 0.2696 - accuracy: 0.9012 - val_loss: 0.2950 - val_accuracy: 0.8932\n",
            "Epoch 71/80\n",
            "101/101 [==============================] - 0s 4ms/step - loss: 0.2644 - accuracy: 0.9028 - val_loss: 0.2971 - val_accuracy: 0.8932\n",
            "Epoch 72/80\n",
            "101/101 [==============================] - 0s 4ms/step - loss: 0.2695 - accuracy: 0.9034 - val_loss: 0.3069 - val_accuracy: 0.8907\n",
            "Epoch 73/80\n",
            "101/101 [==============================] - 0s 4ms/step - loss: 0.2729 - accuracy: 0.9000 - val_loss: 0.2954 - val_accuracy: 0.8919\n",
            "Epoch 74/80\n",
            "101/101 [==============================] - 0s 4ms/step - loss: 0.2632 - accuracy: 0.9049 - val_loss: 0.2972 - val_accuracy: 0.8932\n",
            "Epoch 75/80\n",
            "101/101 [==============================] - 0s 4ms/step - loss: 0.2629 - accuracy: 0.9040 - val_loss: 0.2973 - val_accuracy: 0.8957\n",
            "Epoch 76/80\n",
            "101/101 [==============================] - 0s 4ms/step - loss: 0.2686 - accuracy: 0.9021 - val_loss: 0.2897 - val_accuracy: 0.8957\n",
            "Epoch 77/80\n",
            "101/101 [==============================] - 0s 4ms/step - loss: 0.2633 - accuracy: 0.9031 - val_loss: 0.2929 - val_accuracy: 0.8944\n",
            "Epoch 78/80\n",
            "101/101 [==============================] - 0s 4ms/step - loss: 0.2648 - accuracy: 0.9053 - val_loss: 0.2977 - val_accuracy: 0.8919\n",
            "Epoch 79/80\n",
            "101/101 [==============================] - 0s 4ms/step - loss: 0.2618 - accuracy: 0.9096 - val_loss: 0.3006 - val_accuracy: 0.8944\n",
            "Epoch 80/80\n",
            "101/101 [==============================] - 0s 4ms/step - loss: 0.2639 - accuracy: 0.9056 - val_loss: 0.3058 - val_accuracy: 0.8957\n"
          ]
        }
      ]
    },
    {
      "cell_type": "code",
      "source": [
        "plt.plot(history.history['accuracy'], label = 'acuuracy')\n",
        "plt.plot(history.history['val_accuracy'], label = 'val_accuracy')\n",
        "plt.legend()"
      ],
      "metadata": {
        "colab": {
          "base_uri": "https://localhost:8080/",
          "height": 282
        },
        "id": "e-ndTy_W6xnb",
        "outputId": "7c9e86ab-8ec0-419c-9051-5d03e5b77f0d"
      },
      "id": "e-ndTy_W6xnb",
      "execution_count": 32,
      "outputs": [
        {
          "output_type": "execute_result",
          "data": {
            "text/plain": [
              "<matplotlib.legend.Legend at 0x7f8910420090>"
            ]
          },
          "metadata": {},
          "execution_count": 32
        },
        {
          "output_type": "display_data",
          "data": {
            "text/plain": [
              "<Figure size 432x288 with 1 Axes>"
            ],
            "image/png": "[encoded data removed]"
          },
          "metadata": {
            "needs_background": "light"
          }
        }
      ]
    },
    {
      "cell_type": "code",
      "source": [
        "plt.plot(history.history['loss'], label = 'loss')\n",
        "plt.plot(history.history['val_loss'], label = 'val_loss')"
      ],
      "metadata": {
        "colab": {
          "base_uri": "https://localhost:8080/",
          "height": 286
        },
        "id": "6wQQDtQV62n6",
        "outputId": "67c57dbc-6f1f-49b0-901f-153e8e2eb35b"
      },
      "id": "6wQQDtQV62n6",
      "execution_count": 33,
      "outputs": [
        {
          "output_type": "execute_result",
          "data": {
            "text/plain": [
              "[<matplotlib.lines.Line2D at 0x7f89100fde50>]"
            ]
          },
          "metadata": {},
          "execution_count": 33
        },
        {
          "output_type": "display_data",
          "data": {
            "text/plain": [
              "<Figure size 432x288 with 1 Axes>"
            ],
            "image/png": "[encoded data removed]"
          },
          "metadata": {
            "needs_background": "light"
          }
        }
      ]
    },
    {
      "cell_type": "markdown",
      "source": [
        "## 2] With Hyperparameter *Tuning*"
      ],
      "metadata": {
        "id": "YYDjNP944XPg"
      },
      "id": "YYDjNP944XPg"
    },
    {
      "cell_type": "code",
      "source": [
        "pip install keras-tuner --upgrade"
      ],
      "metadata": {
        "colab": {
          "base_uri": "https://localhost:8080/"
        },
        "id": "qMDJu-moQeuN",
        "outputId": "e6fd2b36-60b4-460e-9aaa-47dae2f1e6df"
      },
      "id": "qMDJu-moQeuN",
      "execution_count": 34,
      "outputs": [
        {
          "output_type": "stream",
          "name": "stdout",
          "text": [
            "Looking in indexes: https://pypi.org/simple, https://us-python.pkg.dev/colab-wheels/public/simple/\n",
            "Requirement already satisfied: keras-tuner in /usr/local/lib/python3.7/dist-packages (1.1.3)\n",
            "Requirement already satisfied: packaging in /usr/local/lib/python3.7/dist-packages (from keras-tuner) (21.3)\n",
            "Requirement already satisfied: ipython in /usr/local/lib/python3.7/dist-packages (from keras-tuner) (7.9.0)\n",
            "Requirement already satisfied: requests in /usr/local/lib/python3.7/dist-packages (from keras-tuner) (2.23.0)\n",
            "Requirement already satisfied: kt-legacy in /usr/local/lib/python3.7/dist-packages (from keras-tuner) (1.0.4)\n",
            "Requirement already satisfied: tensorboard in /usr/local/lib/python3.7/dist-packages (from keras-tuner) (2.8.0)\n",
            "Requirement already satisfied: numpy in /usr/local/lib/python3.7/dist-packages (from keras-tuner) (1.21.6)\n",
            "Requirement already satisfied: decorator in /usr/local/lib/python3.7/dist-packages (from ipython->keras-tuner) (4.4.2)\n",
            "Requirement already satisfied: pickleshare in /usr/local/lib/python3.7/dist-packages (from ipython->keras-tuner) (0.7.5)\n",
            "Requirement already satisfied: traitlets>=4.2 in /usr/local/lib/python3.7/dist-packages (from ipython->keras-tuner) (5.1.1)\n",
            "Requirement already satisfied: setuptools>=18.5 in /usr/local/lib/python3.7/dist-packages (from ipython->keras-tuner) (57.4.0)\n",
            "Requirement already satisfied: jedi>=0.10 in /usr/local/lib/python3.7/dist-packages (from ipython->keras-tuner) (0.18.1)\n",
            "Requirement already satisfied: backcall in /usr/local/lib/python3.7/dist-packages (from ipython->keras-tuner) (0.2.0)\n",
            "Requirement already satisfied: prompt-toolkit<2.1.0,>=2.0.0 in /usr/local/lib/python3.7/dist-packages (from ipython->keras-tuner) (2.0.10)\n",
            "Requirement already satisfied: pygments in /usr/local/lib/python3.7/dist-packages (from ipython->keras-tuner) (2.6.1)\n",
            "Requirement already satisfied: pexpect in /usr/local/lib/python3.7/dist-packages (from ipython->keras-tuner) (4.8.0)\n",
            "Requirement already satisfied: parso<0.9.0,>=0.8.0 in /usr/local/lib/python3.7/dist-packages (from jedi>=0.10->ipython->keras-tuner) (0.8.3)\n",
            "Requirement already satisfied: six>=1.9.0 in /usr/local/lib/python3.7/dist-packages (from prompt-toolkit<2.1.0,>=2.0.0->ipython->keras-tuner) (1.15.0)\n",
            "Requirement already satisfied: wcwidth in /usr/local/lib/python3.7/dist-packages (from prompt-toolkit<2.1.0,>=2.0.0->ipython->keras-tuner) (0.2.5)\n",
            "Requirement already satisfied: pyparsing!=3.0.5,>=2.0.2 in /usr/local/lib/python3.7/dist-packages (from packaging->keras-tuner) (3.0.9)\n",
            "Requirement already satisfied: ptyprocess>=0.5 in /usr/local/lib/python3.7/dist-packages (from pexpect->ipython->keras-tuner) (0.7.0)\n",
            "Requirement already satisfied: urllib3!=1.25.0,!=1.25.1,<1.26,>=1.21.1 in /usr/local/lib/python3.7/dist-packages (from requests->keras-tuner) (1.24.3)\n",
            "Requirement already satisfied: chardet<4,>=3.0.2 in /usr/local/lib/python3.7/dist-packages (from requests->keras-tuner) (3.0.4)\n",
            "Requirement already satisfied: idna<3,>=2.5 in /usr/local/lib/python3.7/dist-packages (from requests->keras-tuner) (2.10)\n",
            "Requirement already satisfied: certifi>=2017.4.17 in /usr/local/lib/python3.7/dist-packages (from requests->keras-tuner) (2022.6.15)\n",
            "Requirement already satisfied: markdown>=2.6.8 in /usr/local/lib/python3.7/dist-packages (from tensorboard->keras-tuner) (3.4.1)\n",
            "Requirement already satisfied: tensorboard-plugin-wit>=1.6.0 in /usr/local/lib/python3.7/dist-packages (from tensorboard->keras-tuner) (1.8.1)\n",
            "Requirement already satisfied: google-auth<3,>=1.6.3 in /usr/local/lib/python3.7/dist-packages (from tensorboard->keras-tuner) (1.35.0)\n",
            "Requirement already satisfied: werkzeug>=0.11.15 in /usr/local/lib/python3.7/dist-packages (from tensorboard->keras-tuner) (1.0.1)\n",
            "Requirement already satisfied: tensorboard-data-server<0.7.0,>=0.6.0 in /usr/local/lib/python3.7/dist-packages (from tensorboard->keras-tuner) (0.6.1)\n",
            "Requirement already satisfied: protobuf>=3.6.0 in /usr/local/lib/python3.7/dist-packages (from tensorboard->keras-tuner) (3.17.3)\n",
            "Requirement already satisfied: grpcio>=1.24.3 in /usr/local/lib/python3.7/dist-packages (from tensorboard->keras-tuner) (1.47.0)\n",
            "Requirement already satisfied: google-auth-oauthlib<0.5,>=0.4.1 in /usr/local/lib/python3.7/dist-packages (from tensorboard->keras-tuner) (0.4.6)\n",
            "Requirement already satisfied: wheel>=0.26 in /usr/local/lib/python3.7/dist-packages (from tensorboard->keras-tuner) (0.37.1)\n",
            "Requirement already satisfied: absl-py>=0.4 in /usr/local/lib/python3.7/dist-packages (from tensorboard->keras-tuner) (1.2.0)\n",
            "Requirement already satisfied: pyasn1-modules>=0.2.1 in /usr/local/lib/python3.7/dist-packages (from google-auth<3,>=1.6.3->tensorboard->keras-tuner) (0.2.8)\n",
            "Requirement already satisfied: rsa<5,>=3.1.4 in /usr/local/lib/python3.7/dist-packages (from google-auth<3,>=1.6.3->tensorboard->keras-tuner) (4.9)\n",
            "Requirement already satisfied: cachetools<5.0,>=2.0.0 in /usr/local/lib/python3.7/dist-packages (from google-auth<3,>=1.6.3->tensorboard->keras-tuner) (4.2.4)\n",
            "Requirement already satisfied: requests-oauthlib>=0.7.0 in /usr/local/lib/python3.7/dist-packages (from google-auth-oauthlib<0.5,>=0.4.1->tensorboard->keras-tuner) (1.3.1)\n",
            "Requirement already satisfied: importlib-metadata>=4.4 in /usr/local/lib/python3.7/dist-packages (from markdown>=2.6.8->tensorboard->keras-tuner) (4.12.0)\n",
            "Requirement already satisfied: typing-extensions>=3.6.4 in /usr/local/lib/python3.7/dist-packages (from importlib-metadata>=4.4->markdown>=2.6.8->tensorboard->keras-tuner) (4.1.1)\n",
            "Requirement already satisfied: zipp>=0.5 in /usr/local/lib/python3.7/dist-packages (from importlib-metadata>=4.4->markdown>=2.6.8->tensorboard->keras-tuner) (3.8.1)\n",
            "Requirement already satisfied: pyasn1<0.5.0,>=0.4.6 in /usr/local/lib/python3.7/dist-packages (from pyasn1-modules>=0.2.1->google-auth<3,>=1.6.3->tensorboard->keras-tuner) (0.4.8)\n",
            "Requirement already satisfied: oauthlib>=3.0.0 in /usr/local/lib/python3.7/dist-packages (from requests-oauthlib>=0.7.0->google-auth-oauthlib<0.5,>=0.4.1->tensorboard->keras-tuner) (3.2.0)\n"
          ]
        }
      ]
    },
    {
      "cell_type": "code",
      "source": [
        "import keras_tuner as kt"
      ],
      "metadata": {
        "id": "HOImfVem50Wb"
      },
      "id": "HOImfVem50Wb",
      "execution_count": 35,
      "outputs": []
    },
    {
      "cell_type": "code",
      "source": [
        "def build_model(hp):\n",
        "  model = tf.keras.Sequential()\n",
        "  \n",
        "  # Tune the number of units in the Dense layer\n",
        "  # Choose an optimal value between 15-512\n",
        "  hp_units1 = hp.Int('units1', min_value=1, max_value=512, step=1)\n",
        "  hp_units2 = hp.Int('units2', min_value=1, max_value=512, step=1)\n",
        "  hp_units3 = hp.Int('units3', min_value=1, max_value=512, step=1)\n",
        "\n",
        "  model.add(tf.keras.Input(shape = (15,)))\n",
        "  model.add(tf.keras.layers.Normalization(axis=None))\n",
        "  model.add(tf.keras.layers.Dense(units=hp_units1, activation='relu'))\n",
        "  model.add(tf.keras.layers.Dropout(.2))\n",
        "\n",
        "  model.add(tf.keras.layers.Dense(units=hp_units2, activation='relu'))\n",
        "  model.add(tf.keras.layers.Dropout(.2))\n",
        "\n",
        "  model.add(tf.keras.layers.Dense(units=hp_units3, activation='relu'))\n",
        "  model.add(tf.keras.layers.Dropout(.2))\n",
        "\n",
        "  model.add(tf.keras.layers.Dense(1, activation='sigmoid'))\n",
        "\n",
        "  # Tune the learning rate for the optimizer\n",
        "  # Choose an optimal value from 0.01, 0.001, or 0.0001\n",
        "  hp_learning_rate = hp.Choice('learning_rate', values=[.01,.001,.0001,.00001])\n",
        "\n",
        "  model.compile(\n",
        "      optimizer=tf.keras.optimizers.Adam(learning_rate=hp_learning_rate,beta_1=0.8,beta_2=0.9),\n",
        "      loss=tf.keras.losses.BinaryCrossentropy(),\n",
        "      metrics='accuracy'\n",
        "  )\n",
        "\n",
        "  return model"
      ],
      "metadata": {
        "id": "nefd4n6JXKp1"
      },
      "id": "nefd4n6JXKp1",
      "execution_count": 36,
      "outputs": []
    },
    {
      "cell_type": "code",
      "source": [
        "stop_early= tf.keras.callbacks.EarlyStopping(monitor='val_loss' , patience=5 )"
      ],
      "metadata": {
        "id": "QzwqIRydW53i"
      },
      "id": "QzwqIRydW53i",
      "execution_count": 37,
      "outputs": []
    },
    {
      "cell_type": "code",
      "source": [
        "# HyperBand algorithm from keras tuner\n",
        "tuner = kt.Hyperband(\n",
        "    build_model,\n",
        "    objective='val_accuracy',\n",
        "    max_epochs=50,\n",
        ")"
      ],
      "metadata": {
        "id": "859S0UL-4t2O"
      },
      "id": "859S0UL-4t2O",
      "execution_count": 38,
      "outputs": []
    },
    {
      "cell_type": "code",
      "source": [
        "tuner.search(input_data, target_data, epochs=10, validation_split=0.2,callbacks=[stop_early])"
      ],
      "metadata": {
        "id": "fPO03axb4oEF"
      },
      "id": "fPO03axb4oEF",
      "execution_count": 39,
      "outputs": []
    },
    {
      "cell_type": "code",
      "source": [
        "best_hp = tuner.get_best_hyperparameters()[0]\n",
        "best_hp.values"
      ],
      "metadata": {
        "colab": {
          "base_uri": "https://localhost:8080/"
        },
        "id": "O35bLrWp4nIs",
        "outputId": "9ca18bb3-20e6-473f-b5e9-7edb1e977cc5"
      },
      "id": "O35bLrWp4nIs",
      "execution_count": 40,
      "outputs": [
        {
          "output_type": "execute_result",
          "data": {
            "text/plain": [
              "{'units1': 331,\n",
              " 'units2': 256,\n",
              " 'units3': 396,\n",
              " 'learning_rate': 0.001,\n",
              " 'tuner/epochs': 17,\n",
              " 'tuner/initial_epoch': 0,\n",
              " 'tuner/bracket': 1,\n",
              " 'tuner/round': 0}"
            ]
          },
          "metadata": {},
          "execution_count": 40
        }
      ]
    },
    {
      "cell_type": "code",
      "source": [
        "model_best=tuner.hypermodel.build(tuner.get_best_hyperparameters()[0])\n",
        "best_history = model_best.fit(input_data, target_data, epochs = 80, validation_split=.2)"
      ],
      "metadata": {
        "colab": {
          "base_uri": "https://localhost:8080/"
        },
        "id": "1GpsAxDdYRIf",
        "outputId": "8c11d106-7271-4b13-8c12-29d6529c8352"
      },
      "id": "1GpsAxDdYRIf",
      "execution_count": 41,
      "outputs": [
        {
          "output_type": "stream",
          "name": "stdout",
          "text": [
            "Epoch 1/80\n",
            "101/101 [==============================] - 1s 5ms/step - loss: 0.4977 - accuracy: 0.8587 - val_loss: 0.3380 - val_accuracy: 0.8907\n",
            "Epoch 2/80\n",
            "101/101 [==============================] - 0s 4ms/step - loss: 0.3342 - accuracy: 0.8745 - val_loss: 0.3146 - val_accuracy: 0.8845\n",
            "Epoch 3/80\n",
            "101/101 [==============================] - 0s 4ms/step - loss: 0.3282 - accuracy: 0.8820 - val_loss: 0.3109 - val_accuracy: 0.8944\n",
            "Epoch 4/80\n",
            "101/101 [==============================] - 1s 7ms/step - loss: 0.3151 - accuracy: 0.8860 - val_loss: 0.3447 - val_accuracy: 0.8919\n",
            "Epoch 5/80\n",
            "101/101 [==============================] - 0s 4ms/step - loss: 0.3122 - accuracy: 0.8900 - val_loss: 0.3237 - val_accuracy: 0.8919\n",
            "Epoch 6/80\n",
            "101/101 [==============================] - 0s 4ms/step - loss: 0.3071 - accuracy: 0.8906 - val_loss: 0.3141 - val_accuracy: 0.8832\n",
            "Epoch 7/80\n",
            "101/101 [==============================] - 0s 4ms/step - loss: 0.3067 - accuracy: 0.8891 - val_loss: 0.2947 - val_accuracy: 0.8981\n",
            "Epoch 8/80\n",
            "101/101 [==============================] - 1s 6ms/step - loss: 0.3020 - accuracy: 0.8934 - val_loss: 0.3210 - val_accuracy: 0.8919\n",
            "Epoch 9/80\n",
            "101/101 [==============================] - 0s 4ms/step - loss: 0.3029 - accuracy: 0.8900 - val_loss: 0.3134 - val_accuracy: 0.8994\n",
            "Epoch 10/80\n",
            "101/101 [==============================] - 0s 4ms/step - loss: 0.3017 - accuracy: 0.8947 - val_loss: 0.3044 - val_accuracy: 0.8957\n",
            "Epoch 11/80\n",
            "101/101 [==============================] - 0s 4ms/step - loss: 0.3019 - accuracy: 0.8900 - val_loss: 0.3088 - val_accuracy: 0.8932\n",
            "Epoch 12/80\n",
            "101/101 [==============================] - 0s 4ms/step - loss: 0.3011 - accuracy: 0.8941 - val_loss: 0.3193 - val_accuracy: 0.8981\n",
            "Epoch 13/80\n",
            "101/101 [==============================] - 1s 7ms/step - loss: 0.3024 - accuracy: 0.8959 - val_loss: 0.3230 - val_accuracy: 0.8944\n",
            "Epoch 14/80\n",
            "101/101 [==============================] - 1s 9ms/step - loss: 0.3016 - accuracy: 0.8891 - val_loss: 0.3140 - val_accuracy: 0.8894\n",
            "Epoch 15/80\n",
            "101/101 [==============================] - 1s 7ms/step - loss: 0.3061 - accuracy: 0.8934 - val_loss: 0.3300 - val_accuracy: 0.8857\n",
            "Epoch 16/80\n",
            "101/101 [==============================] - 1s 8ms/step - loss: 0.3103 - accuracy: 0.8922 - val_loss: 0.2975 - val_accuracy: 0.8981\n",
            "Epoch 17/80\n",
            "101/101 [==============================] - 1s 9ms/step - loss: 0.2979 - accuracy: 0.8947 - val_loss: 0.3004 - val_accuracy: 0.8932\n",
            "Epoch 18/80\n",
            "101/101 [==============================] - 1s 7ms/step - loss: 0.2953 - accuracy: 0.8959 - val_loss: 0.3358 - val_accuracy: 0.8882\n",
            "Epoch 19/80\n",
            "101/101 [==============================] - 1s 8ms/step - loss: 0.2998 - accuracy: 0.8969 - val_loss: 0.3032 - val_accuracy: 0.8907\n",
            "Epoch 20/80\n",
            "101/101 [==============================] - 1s 8ms/step - loss: 0.2972 - accuracy: 0.8928 - val_loss: 0.2986 - val_accuracy: 0.8944\n",
            "Epoch 21/80\n",
            "101/101 [==============================] - 1s 8ms/step - loss: 0.3060 - accuracy: 0.8956 - val_loss: 0.2948 - val_accuracy: 0.8994\n",
            "Epoch 22/80\n",
            "101/101 [==============================] - 1s 8ms/step - loss: 0.2965 - accuracy: 0.8925 - val_loss: 0.3043 - val_accuracy: 0.8957\n",
            "Epoch 23/80\n",
            "101/101 [==============================] - 1s 8ms/step - loss: 0.2954 - accuracy: 0.8944 - val_loss: 0.3088 - val_accuracy: 0.8944\n",
            "Epoch 24/80\n",
            "101/101 [==============================] - 1s 8ms/step - loss: 0.2998 - accuracy: 0.8953 - val_loss: 0.3344 - val_accuracy: 0.8870\n",
            "Epoch 25/80\n",
            "101/101 [==============================] - 1s 8ms/step - loss: 0.2978 - accuracy: 0.8944 - val_loss: 0.3035 - val_accuracy: 0.8870\n",
            "Epoch 26/80\n",
            "101/101 [==============================] - 1s 8ms/step - loss: 0.2993 - accuracy: 0.8931 - val_loss: 0.2972 - val_accuracy: 0.8919\n",
            "Epoch 27/80\n",
            "101/101 [==============================] - 1s 8ms/step - loss: 0.3069 - accuracy: 0.8944 - val_loss: 0.3073 - val_accuracy: 0.8944\n",
            "Epoch 28/80\n",
            "101/101 [==============================] - 1s 8ms/step - loss: 0.2944 - accuracy: 0.8987 - val_loss: 0.3025 - val_accuracy: 0.8969\n",
            "Epoch 29/80\n",
            "101/101 [==============================] - 1s 8ms/step - loss: 0.3002 - accuracy: 0.8975 - val_loss: 0.3138 - val_accuracy: 0.8907\n",
            "Epoch 30/80\n",
            "101/101 [==============================] - 1s 9ms/step - loss: 0.2893 - accuracy: 0.8962 - val_loss: 0.3048 - val_accuracy: 0.8957\n",
            "Epoch 31/80\n",
            "101/101 [==============================] - 1s 8ms/step - loss: 0.2939 - accuracy: 0.8931 - val_loss: 0.2964 - val_accuracy: 0.8932\n",
            "Epoch 32/80\n",
            "101/101 [==============================] - 1s 8ms/step - loss: 0.3051 - accuracy: 0.8938 - val_loss: 0.3036 - val_accuracy: 0.8919\n",
            "Epoch 33/80\n",
            "101/101 [==============================] - 1s 8ms/step - loss: 0.2935 - accuracy: 0.8919 - val_loss: 0.3088 - val_accuracy: 0.8944\n",
            "Epoch 34/80\n",
            "101/101 [==============================] - 1s 7ms/step - loss: 0.3063 - accuracy: 0.8928 - val_loss: 0.3075 - val_accuracy: 0.8932\n",
            "Epoch 35/80\n",
            "101/101 [==============================] - 1s 8ms/step - loss: 0.2907 - accuracy: 0.8972 - val_loss: 0.3342 - val_accuracy: 0.8882\n",
            "Epoch 36/80\n",
            "101/101 [==============================] - 1s 8ms/step - loss: 0.3015 - accuracy: 0.8906 - val_loss: 0.2989 - val_accuracy: 0.8957\n",
            "Epoch 37/80\n",
            "101/101 [==============================] - 1s 8ms/step - loss: 0.2976 - accuracy: 0.8959 - val_loss: 0.3023 - val_accuracy: 0.8957\n",
            "Epoch 38/80\n",
            "101/101 [==============================] - 1s 7ms/step - loss: 0.2946 - accuracy: 0.8975 - val_loss: 0.3256 - val_accuracy: 0.8981\n",
            "Epoch 39/80\n",
            "101/101 [==============================] - 1s 7ms/step - loss: 0.3005 - accuracy: 0.8984 - val_loss: 0.3030 - val_accuracy: 0.9006\n",
            "Epoch 40/80\n",
            "101/101 [==============================] - 0s 4ms/step - loss: 0.2993 - accuracy: 0.8978 - val_loss: 0.3319 - val_accuracy: 0.8969\n",
            "Epoch 41/80\n",
            "101/101 [==============================] - 0s 4ms/step - loss: 0.2948 - accuracy: 0.8941 - val_loss: 0.2959 - val_accuracy: 0.8981\n",
            "Epoch 42/80\n",
            "101/101 [==============================] - 0s 4ms/step - loss: 0.2941 - accuracy: 0.8990 - val_loss: 0.3335 - val_accuracy: 0.8981\n",
            "Epoch 43/80\n",
            "101/101 [==============================] - 0s 4ms/step - loss: 0.2981 - accuracy: 0.8978 - val_loss: 0.3136 - val_accuracy: 0.8981\n",
            "Epoch 44/80\n",
            "101/101 [==============================] - 0s 4ms/step - loss: 0.3003 - accuracy: 0.8978 - val_loss: 0.2977 - val_accuracy: 0.8969\n",
            "Epoch 45/80\n",
            "101/101 [==============================] - 0s 4ms/step - loss: 0.3021 - accuracy: 0.8950 - val_loss: 0.3064 - val_accuracy: 0.8957\n",
            "Epoch 46/80\n",
            "101/101 [==============================] - 0s 4ms/step - loss: 0.3075 - accuracy: 0.8941 - val_loss: 0.3064 - val_accuracy: 0.8907\n",
            "Epoch 47/80\n",
            "101/101 [==============================] - 0s 4ms/step - loss: 0.2915 - accuracy: 0.8941 - val_loss: 0.3330 - val_accuracy: 0.8919\n",
            "Epoch 48/80\n",
            "101/101 [==============================] - 0s 4ms/step - loss: 0.3068 - accuracy: 0.8978 - val_loss: 0.3078 - val_accuracy: 0.8907\n",
            "Epoch 49/80\n",
            "101/101 [==============================] - 0s 4ms/step - loss: 0.2912 - accuracy: 0.8987 - val_loss: 0.3016 - val_accuracy: 0.8919\n",
            "Epoch 50/80\n",
            "101/101 [==============================] - 0s 4ms/step - loss: 0.3035 - accuracy: 0.9031 - val_loss: 0.3035 - val_accuracy: 0.8919\n",
            "Epoch 51/80\n",
            "101/101 [==============================] - 0s 4ms/step - loss: 0.2907 - accuracy: 0.8966 - val_loss: 0.3111 - val_accuracy: 0.8957\n",
            "Epoch 52/80\n",
            "101/101 [==============================] - 0s 4ms/step - loss: 0.3022 - accuracy: 0.8990 - val_loss: 0.3251 - val_accuracy: 0.8894\n",
            "Epoch 53/80\n",
            "101/101 [==============================] - 0s 4ms/step - loss: 0.3021 - accuracy: 0.8931 - val_loss: 0.3471 - val_accuracy: 0.8957\n",
            "Epoch 54/80\n",
            "101/101 [==============================] - 0s 4ms/step - loss: 0.3033 - accuracy: 0.8978 - val_loss: 0.3055 - val_accuracy: 0.8919\n",
            "Epoch 55/80\n",
            "101/101 [==============================] - 0s 4ms/step - loss: 0.3027 - accuracy: 0.9025 - val_loss: 0.3027 - val_accuracy: 0.8857\n",
            "Epoch 56/80\n",
            "101/101 [==============================] - 0s 4ms/step - loss: 0.2977 - accuracy: 0.8900 - val_loss: 0.3191 - val_accuracy: 0.8882\n",
            "Epoch 57/80\n",
            "101/101 [==============================] - 0s 4ms/step - loss: 0.3018 - accuracy: 0.8962 - val_loss: 0.2966 - val_accuracy: 0.8957\n",
            "Epoch 58/80\n",
            "101/101 [==============================] - 0s 4ms/step - loss: 0.2892 - accuracy: 0.8993 - val_loss: 0.3179 - val_accuracy: 0.8882\n",
            "Epoch 59/80\n",
            "101/101 [==============================] - 0s 4ms/step - loss: 0.3006 - accuracy: 0.8941 - val_loss: 0.3161 - val_accuracy: 0.8907\n",
            "Epoch 60/80\n",
            "101/101 [==============================] - 0s 4ms/step - loss: 0.3057 - accuracy: 0.8975 - val_loss: 0.3101 - val_accuracy: 0.8981\n",
            "Epoch 61/80\n",
            "101/101 [==============================] - 0s 4ms/step - loss: 0.2941 - accuracy: 0.8969 - val_loss: 0.3159 - val_accuracy: 0.8932\n",
            "Epoch 62/80\n",
            "101/101 [==============================] - 0s 4ms/step - loss: 0.3098 - accuracy: 0.8931 - val_loss: 0.3078 - val_accuracy: 0.8957\n",
            "Epoch 63/80\n",
            "101/101 [==============================] - 0s 4ms/step - loss: 0.2979 - accuracy: 0.8975 - val_loss: 0.3522 - val_accuracy: 0.8894\n",
            "Epoch 64/80\n",
            "101/101 [==============================] - 0s 4ms/step - loss: 0.2942 - accuracy: 0.8950 - val_loss: 0.3010 - val_accuracy: 0.8994\n",
            "Epoch 65/80\n",
            "101/101 [==============================] - 0s 4ms/step - loss: 0.3041 - accuracy: 0.8934 - val_loss: 0.3113 - val_accuracy: 0.8969\n",
            "Epoch 66/80\n",
            "101/101 [==============================] - 0s 4ms/step - loss: 0.2984 - accuracy: 0.9043 - val_loss: 0.3184 - val_accuracy: 0.8944\n",
            "Epoch 67/80\n",
            "101/101 [==============================] - 0s 4ms/step - loss: 0.3089 - accuracy: 0.8978 - val_loss: 0.3243 - val_accuracy: 0.8994\n",
            "Epoch 68/80\n",
            "101/101 [==============================] - 0s 4ms/step - loss: 0.2905 - accuracy: 0.8938 - val_loss: 0.3721 - val_accuracy: 0.8894\n",
            "Epoch 69/80\n",
            "101/101 [==============================] - 0s 4ms/step - loss: 0.2995 - accuracy: 0.8962 - val_loss: 0.3041 - val_accuracy: 0.8882\n",
            "Epoch 70/80\n",
            "101/101 [==============================] - 0s 4ms/step - loss: 0.3008 - accuracy: 0.8997 - val_loss: 0.3249 - val_accuracy: 0.8957\n",
            "Epoch 71/80\n",
            "101/101 [==============================] - 0s 4ms/step - loss: 0.2944 - accuracy: 0.9000 - val_loss: 0.3354 - val_accuracy: 0.8969\n",
            "Epoch 72/80\n",
            "101/101 [==============================] - 0s 4ms/step - loss: 0.2969 - accuracy: 0.8987 - val_loss: 0.3215 - val_accuracy: 0.8882\n",
            "Epoch 73/80\n",
            "101/101 [==============================] - 0s 4ms/step - loss: 0.2876 - accuracy: 0.8987 - val_loss: 0.3067 - val_accuracy: 0.8944\n",
            "Epoch 74/80\n",
            "101/101 [==============================] - 0s 4ms/step - loss: 0.3033 - accuracy: 0.8956 - val_loss: 0.3168 - val_accuracy: 0.8969\n",
            "Epoch 75/80\n",
            "101/101 [==============================] - 0s 4ms/step - loss: 0.2841 - accuracy: 0.8947 - val_loss: 0.3071 - val_accuracy: 0.8957\n",
            "Epoch 76/80\n",
            "101/101 [==============================] - 0s 4ms/step - loss: 0.2861 - accuracy: 0.8978 - val_loss: 0.3808 - val_accuracy: 0.8957\n",
            "Epoch 77/80\n",
            "101/101 [==============================] - 0s 4ms/step - loss: 0.2996 - accuracy: 0.9015 - val_loss: 0.3046 - val_accuracy: 0.8932\n",
            "Epoch 78/80\n",
            "101/101 [==============================] - 0s 4ms/step - loss: 0.3085 - accuracy: 0.8913 - val_loss: 0.3185 - val_accuracy: 0.8870\n",
            "Epoch 79/80\n",
            "101/101 [==============================] - 0s 4ms/step - loss: 0.2978 - accuracy: 0.8959 - val_loss: 0.3534 - val_accuracy: 0.8845\n",
            "Epoch 80/80\n",
            "101/101 [==============================] - 0s 4ms/step - loss: 0.3100 - accuracy: 0.8990 - val_loss: 0.3120 - val_accuracy: 0.8944\n"
          ]
        }
      ]
    },
    {
      "cell_type": "code",
      "source": [
        "plt.plot(best_history.history['accuracy'], label = 'accuracy')\n",
        "plt.plot(best_history.history['val_accuracy'], label = 'val_accuracy')\n",
        "plt.legend()"
      ],
      "metadata": {
        "colab": {
          "base_uri": "https://localhost:8080/",
          "height": 282
        },
        "id": "08W-XaQIbxkC",
        "outputId": "fed950bb-c13b-44fa-fb22-7145eed66a37"
      },
      "id": "08W-XaQIbxkC",
      "execution_count": 42,
      "outputs": [
        {
          "output_type": "execute_result",
          "data": {
            "text/plain": [
              "<matplotlib.legend.Legend at 0x7f891e0083d0>"
            ]
          },
          "metadata": {},
          "execution_count": 42
        },
        {
          "output_type": "display_data",
          "data": {
            "text/plain": [
              "<Figure size 432x288 with 1 Axes>"
            ],
            "image/png": "[encoded data removed]"
          },
          "metadata": {
            "needs_background": "light"
          }
        }
      ]
    },
    {
      "cell_type": "code",
      "source": [
        "plt.plot(best_history.history['loss'], label = 'loss')\n",
        "plt.plot(best_history.history['val_loss'], label = 'val_loss')\n",
        "plt.legend()"
      ],
      "metadata": {
        "id": "CYu-9edgb49g",
        "colab": {
          "base_uri": "https://localhost:8080/",
          "height": 282
        },
        "outputId": "6b55fff9-943e-4e67-e82d-c759a70d6e76"
      },
      "id": "CYu-9edgb49g",
      "execution_count": 43,
      "outputs": [
        {
          "output_type": "execute_result",
          "data": {
            "text/plain": [
              "<matplotlib.legend.Legend at 0x7f891dfee310>"
            ]
          },
          "metadata": {},
          "execution_count": 43
        },
        {
          "output_type": "display_data",
          "data": {
            "text/plain": [
              "<Figure size 432x288 with 1 Axes>"
            ],
            "image/png": "[encoded data removed]"
          },
          "metadata": {
            "needs_background": "light"
          }
        }
      ]
    },
    {
      "cell_type": "code",
      "source": [],
      "metadata": {
        "id": "Rxw6z1ErCr5y"
      },
      "id": "Rxw6z1ErCr5y",
      "execution_count": 43,
      "outputs": []
    },
    {
      "cell_type": "markdown",
      "source": [
        "# 2) Model by data after balancing\n"
      ],
      "metadata": {
        "id": "ujT30NmZloX8"
      },
      "id": "ujT30NmZloX8"
    },
    {
      "cell_type": "markdown",
      "source": [
        "## 1] Without Hyperparameter Tuning"
      ],
      "metadata": {
        "id": "uyzxyqcznRKA"
      },
      "id": "uyzxyqcznRKA"
    },
    {
      "cell_type": "code",
      "source": [
        "from imblearn.over_sampling import SMOTE\n",
        "\n",
        "sm = SMOTE(sampling_strategy='minority',random_state = 2)     # minority ==> resample only the minority class\n",
        "\n",
        "input_data_sm, target_data_sm = sm.fit_resample(input_data, target_data)"
      ],
      "metadata": {
        "id": "OMfSzDsIlp8W"
      },
      "id": "OMfSzDsIlp8W",
      "execution_count": 44,
      "outputs": []
    },
    {
      "cell_type": "code",
      "source": [
        "# Model layers\n",
        "\n",
        "model2 = tf.keras.Sequential()                             # model base               \n",
        "\n",
        "model2.add(tf.keras.Input(shape = (15, )))                 # add input shape   ( input_data[0].shape )\n",
        "\n",
        "model2.add(tf.keras.layers.Normalization(axis=None))\n",
        "\n",
        "model2.add(tf.keras.layers.Dense(128, activation='relu'))   # 30 is the shape of the output \n",
        "model2.add(tf.keras.layers.Dropout(0.2))                  # applies Dropout to the input (25%)\n",
        "\n",
        "model2.add(tf.keras.layers.Dense(128, activation='relu'))  \n",
        "model2.add(tf.keras.layers.Dropout(.2))\n",
        "\n",
        "model2.add(tf.keras.layers.Dense(128, activation='relu'))  \n",
        "model2.add(tf.keras.layers.Dropout(.2))\n",
        "\n",
        "model2.add(tf.keras.layers.Dense(1, activation='sigmoid')) # 1 is output shape - sigmoid is used bec output in range[0,1]\n",
        "\n",
        "model2.summary()"
      ],
      "metadata": {
        "colab": {
          "base_uri": "https://localhost:8080/"
        },
        "id": "FrWecDlVl0ba",
        "outputId": "37f30c04-4b7f-42d1-d9d7-dc74244e0768"
      },
      "id": "FrWecDlVl0ba",
      "execution_count": 45,
      "outputs": [
        {
          "output_type": "stream",
          "name": "stdout",
          "text": [
            "Model: \"sequential_3\"\n",
            "_________________________________________________________________\n",
            " Layer (type)                Output Shape              Param #   \n",
            "=================================================================\n",
            " normalization_3 (Normalizat  (None, 15)               3         \n",
            " ion)                                                            \n",
            "                                                                 \n",
            " dense_12 (Dense)            (None, 128)               2048      \n",
            "                                                                 \n",
            " dropout_9 (Dropout)         (None, 128)               0         \n",
            "                                                                 \n",
            " dense_13 (Dense)            (None, 128)               16512     \n",
            "                                                                 \n",
            " dropout_10 (Dropout)        (None, 128)               0         \n",
            "                                                                 \n",
            " dense_14 (Dense)            (None, 128)               16512     \n",
            "                                                                 \n",
            " dropout_11 (Dropout)        (None, 128)               0         \n",
            "                                                                 \n",
            " dense_15 (Dense)            (None, 1)                 129       \n",
            "                                                                 \n",
            "=================================================================\n",
            "Total params: 35,204\n",
            "Trainable params: 35,201\n",
            "Non-trainable params: 3\n",
            "_________________________________________________________________\n"
          ]
        }
      ]
    },
    {
      "cell_type": "code",
      "source": [
        "# Model Optimizer\n",
        "\n",
        "model2.compile(optimizer='adam', loss = tf.keras.losses.BinaryCrossentropy(), metrics='accuracy') \n",
        "# BinaryCrossentropy is used bec target is 0 or 1"
      ],
      "metadata": {
        "id": "QBVtfI_wmGEI"
      },
      "id": "QBVtfI_wmGEI",
      "execution_count": 46,
      "outputs": []
    },
    {
      "cell_type": "code",
      "source": [
        "# Build the model\n",
        "\n",
        "history2 = model.fit(input_data_sm, target_data_sm, epochs = 80, validation_split=.2)"
      ],
      "metadata": {
        "colab": {
          "base_uri": "https://localhost:8080/"
        },
        "id": "mrcSWOcQmGe8",
        "outputId": "6bbbeb2b-f01c-497e-baff-48604e3a95b8"
      },
      "id": "mrcSWOcQmGe8",
      "execution_count": 47,
      "outputs": [
        {
          "output_type": "stream",
          "name": "stdout",
          "text": [
            "Epoch 1/80\n",
            "171/171 [==============================] - 1s 6ms/step - loss: 0.4179 - accuracy: 0.8118 - val_loss: 0.6597 - val_accuracy: 0.5806\n",
            "Epoch 2/80\n",
            "171/171 [==============================] - 1s 4ms/step - loss: 0.4153 - accuracy: 0.8136 - val_loss: 0.6763 - val_accuracy: 0.5924\n",
            "Epoch 3/80\n",
            "171/171 [==============================] - 1s 4ms/step - loss: 0.4130 - accuracy: 0.8175 - val_loss: 0.5775 - val_accuracy: 0.6268\n",
            "Epoch 4/80\n",
            "171/171 [==============================] - 1s 4ms/step - loss: 0.4082 - accuracy: 0.8184 - val_loss: 0.4886 - val_accuracy: 0.6510\n",
            "Epoch 5/80\n",
            "171/171 [==============================] - 1s 4ms/step - loss: 0.4049 - accuracy: 0.8180 - val_loss: 0.6140 - val_accuracy: 0.5843\n",
            "Epoch 6/80\n",
            "171/171 [==============================] - 1s 4ms/step - loss: 0.4040 - accuracy: 0.8186 - val_loss: 0.5635 - val_accuracy: 0.6261\n",
            "Epoch 7/80\n",
            "171/171 [==============================] - 1s 6ms/step - loss: 0.3990 - accuracy: 0.8199 - val_loss: 0.5076 - val_accuracy: 0.6767\n",
            "Epoch 8/80\n",
            "171/171 [==============================] - 1s 6ms/step - loss: 0.4008 - accuracy: 0.8212 - val_loss: 0.4942 - val_accuracy: 0.6760\n",
            "Epoch 9/80\n",
            "171/171 [==============================] - 1s 8ms/step - loss: 0.3967 - accuracy: 0.8217 - val_loss: 0.4968 - val_accuracy: 0.6760\n",
            "Epoch 10/80\n",
            "171/171 [==============================] - 1s 7ms/step - loss: 0.3939 - accuracy: 0.8265 - val_loss: 0.4994 - val_accuracy: 0.6877\n",
            "Epoch 11/80\n",
            "171/171 [==============================] - 1s 6ms/step - loss: 0.3984 - accuracy: 0.8254 - val_loss: 0.4854 - val_accuracy: 0.7031\n",
            "Epoch 12/80\n",
            "171/171 [==============================] - 1s 7ms/step - loss: 0.3944 - accuracy: 0.8230 - val_loss: 0.5732 - val_accuracy: 0.6642\n",
            "Epoch 13/80\n",
            "171/171 [==============================] - 1s 8ms/step - loss: 0.3918 - accuracy: 0.8230 - val_loss: 0.5268 - val_accuracy: 0.6569\n",
            "Epoch 14/80\n",
            "171/171 [==============================] - 1s 6ms/step - loss: 0.3904 - accuracy: 0.8261 - val_loss: 0.4677 - val_accuracy: 0.7082\n",
            "Epoch 15/80\n",
            "171/171 [==============================] - 1s 6ms/step - loss: 0.3895 - accuracy: 0.8283 - val_loss: 0.5784 - val_accuracy: 0.6518\n",
            "Epoch 16/80\n",
            "171/171 [==============================] - 1s 7ms/step - loss: 0.3883 - accuracy: 0.8250 - val_loss: 0.5341 - val_accuracy: 0.6576\n",
            "Epoch 17/80\n",
            "171/171 [==============================] - 1s 7ms/step - loss: 0.3899 - accuracy: 0.8241 - val_loss: 0.4772 - val_accuracy: 0.7045\n",
            "Epoch 18/80\n",
            "171/171 [==============================] - 1s 7ms/step - loss: 0.3853 - accuracy: 0.8280 - val_loss: 0.5760 - val_accuracy: 0.6496\n",
            "Epoch 19/80\n",
            "171/171 [==============================] - 1s 7ms/step - loss: 0.3833 - accuracy: 0.8314 - val_loss: 0.5040 - val_accuracy: 0.6906\n",
            "Epoch 20/80\n",
            "171/171 [==============================] - 1s 6ms/step - loss: 0.3829 - accuracy: 0.8318 - val_loss: 0.5699 - val_accuracy: 0.6584\n",
            "Epoch 21/80\n",
            "171/171 [==============================] - 1s 8ms/step - loss: 0.3828 - accuracy: 0.8316 - val_loss: 0.4905 - val_accuracy: 0.7075\n",
            "Epoch 22/80\n",
            "171/171 [==============================] - 1s 8ms/step - loss: 0.3851 - accuracy: 0.8291 - val_loss: 0.5428 - val_accuracy: 0.6650\n",
            "Epoch 23/80\n",
            "171/171 [==============================] - 1s 7ms/step - loss: 0.3798 - accuracy: 0.8302 - val_loss: 0.5454 - val_accuracy: 0.6525\n",
            "Epoch 24/80\n",
            "171/171 [==============================] - 1s 7ms/step - loss: 0.3763 - accuracy: 0.8329 - val_loss: 0.5618 - val_accuracy: 0.6606\n",
            "Epoch 25/80\n",
            "171/171 [==============================] - 1s 7ms/step - loss: 0.3676 - accuracy: 0.8336 - val_loss: 0.4405 - val_accuracy: 0.7082\n",
            "Epoch 26/80\n",
            "171/171 [==============================] - 1s 4ms/step - loss: 0.3793 - accuracy: 0.8335 - val_loss: 0.4929 - val_accuracy: 0.6884\n",
            "Epoch 27/80\n",
            "171/171 [==============================] - 1s 4ms/step - loss: 0.3732 - accuracy: 0.8358 - val_loss: 0.5661 - val_accuracy: 0.6569\n",
            "Epoch 28/80\n",
            "171/171 [==============================] - 1s 4ms/step - loss: 0.3765 - accuracy: 0.8274 - val_loss: 0.5387 - val_accuracy: 0.6987\n",
            "Epoch 29/80\n",
            "171/171 [==============================] - 1s 4ms/step - loss: 0.3692 - accuracy: 0.8324 - val_loss: 0.4512 - val_accuracy: 0.7089\n",
            "Epoch 30/80\n",
            "171/171 [==============================] - 1s 4ms/step - loss: 0.3758 - accuracy: 0.8320 - val_loss: 0.5399 - val_accuracy: 0.6657\n",
            "Epoch 31/80\n",
            "171/171 [==============================] - 1s 4ms/step - loss: 0.3709 - accuracy: 0.8368 - val_loss: 0.4857 - val_accuracy: 0.6716\n",
            "Epoch 32/80\n",
            "171/171 [==============================] - 1s 4ms/step - loss: 0.3685 - accuracy: 0.8404 - val_loss: 0.4668 - val_accuracy: 0.6950\n",
            "Epoch 33/80\n",
            "171/171 [==============================] - 1s 4ms/step - loss: 0.3666 - accuracy: 0.8371 - val_loss: 0.4654 - val_accuracy: 0.7163\n",
            "Epoch 34/80\n",
            "171/171 [==============================] - 1s 4ms/step - loss: 0.3636 - accuracy: 0.8377 - val_loss: 0.4168 - val_accuracy: 0.7265\n",
            "Epoch 35/80\n",
            "171/171 [==============================] - 1s 4ms/step - loss: 0.3656 - accuracy: 0.8368 - val_loss: 0.4680 - val_accuracy: 0.7104\n",
            "Epoch 36/80\n",
            "171/171 [==============================] - 1s 4ms/step - loss: 0.3593 - accuracy: 0.8426 - val_loss: 0.3814 - val_accuracy: 0.7654\n",
            "Epoch 37/80\n",
            "171/171 [==============================] - 1s 4ms/step - loss: 0.3642 - accuracy: 0.8358 - val_loss: 0.4542 - val_accuracy: 0.7053\n",
            "Epoch 38/80\n",
            "171/171 [==============================] - 1s 4ms/step - loss: 0.3553 - accuracy: 0.8419 - val_loss: 0.5062 - val_accuracy: 0.7155\n",
            "Epoch 39/80\n",
            "171/171 [==============================] - 1s 4ms/step - loss: 0.3608 - accuracy: 0.8368 - val_loss: 0.4246 - val_accuracy: 0.7221\n",
            "Epoch 40/80\n",
            "171/171 [==============================] - 1s 4ms/step - loss: 0.3632 - accuracy: 0.8408 - val_loss: 0.4480 - val_accuracy: 0.6855\n",
            "Epoch 41/80\n",
            "171/171 [==============================] - 1s 4ms/step - loss: 0.3544 - accuracy: 0.8437 - val_loss: 0.4522 - val_accuracy: 0.7236\n",
            "Epoch 42/80\n",
            "171/171 [==============================] - 1s 4ms/step - loss: 0.3511 - accuracy: 0.8428 - val_loss: 0.4754 - val_accuracy: 0.6943\n",
            "Epoch 43/80\n",
            "171/171 [==============================] - 1s 4ms/step - loss: 0.3568 - accuracy: 0.8428 - val_loss: 0.5270 - val_accuracy: 0.6598\n",
            "Epoch 44/80\n",
            "171/171 [==============================] - 1s 4ms/step - loss: 0.3555 - accuracy: 0.8415 - val_loss: 0.4032 - val_accuracy: 0.7595\n",
            "Epoch 45/80\n",
            "171/171 [==============================] - 1s 4ms/step - loss: 0.3527 - accuracy: 0.8421 - val_loss: 0.4562 - val_accuracy: 0.7089\n",
            "Epoch 46/80\n",
            "171/171 [==============================] - 1s 4ms/step - loss: 0.3529 - accuracy: 0.8441 - val_loss: 0.4352 - val_accuracy: 0.7544\n",
            "Epoch 47/80\n",
            "171/171 [==============================] - 1s 4ms/step - loss: 0.3509 - accuracy: 0.8424 - val_loss: 0.4640 - val_accuracy: 0.7280\n",
            "Epoch 48/80\n",
            "171/171 [==============================] - 1s 4ms/step - loss: 0.3513 - accuracy: 0.8448 - val_loss: 0.4204 - val_accuracy: 0.7551\n",
            "Epoch 49/80\n",
            "171/171 [==============================] - 1s 4ms/step - loss: 0.3552 - accuracy: 0.8426 - val_loss: 0.4100 - val_accuracy: 0.7581\n",
            "Epoch 50/80\n",
            "171/171 [==============================] - 1s 4ms/step - loss: 0.3483 - accuracy: 0.8434 - val_loss: 0.3608 - val_accuracy: 0.7874\n",
            "Epoch 51/80\n",
            "171/171 [==============================] - 1s 4ms/step - loss: 0.3503 - accuracy: 0.8456 - val_loss: 0.3817 - val_accuracy: 0.7713\n",
            "Epoch 52/80\n",
            "171/171 [==============================] - 1s 4ms/step - loss: 0.3531 - accuracy: 0.8485 - val_loss: 0.3782 - val_accuracy: 0.7610\n",
            "Epoch 53/80\n",
            "171/171 [==============================] - 1s 4ms/step - loss: 0.3454 - accuracy: 0.8439 - val_loss: 0.4275 - val_accuracy: 0.7339\n",
            "Epoch 54/80\n",
            "171/171 [==============================] - 1s 5ms/step - loss: 0.3480 - accuracy: 0.8454 - val_loss: 0.4196 - val_accuracy: 0.7463\n",
            "Epoch 55/80\n",
            "171/171 [==============================] - 1s 5ms/step - loss: 0.3419 - accuracy: 0.8489 - val_loss: 0.3416 - val_accuracy: 0.7801\n",
            "Epoch 56/80\n",
            "171/171 [==============================] - 1s 4ms/step - loss: 0.3398 - accuracy: 0.8481 - val_loss: 0.4161 - val_accuracy: 0.7463\n",
            "Epoch 57/80\n",
            "171/171 [==============================] - 1s 4ms/step - loss: 0.3444 - accuracy: 0.8483 - val_loss: 0.4385 - val_accuracy: 0.7493\n",
            "Epoch 58/80\n",
            "171/171 [==============================] - 1s 4ms/step - loss: 0.3361 - accuracy: 0.8512 - val_loss: 0.3370 - val_accuracy: 0.7991\n",
            "Epoch 59/80\n",
            "171/171 [==============================] - 1s 4ms/step - loss: 0.3396 - accuracy: 0.8527 - val_loss: 0.4629 - val_accuracy: 0.7295\n",
            "Epoch 60/80\n",
            "171/171 [==============================] - 1s 4ms/step - loss: 0.3378 - accuracy: 0.8511 - val_loss: 0.4400 - val_accuracy: 0.7478\n",
            "Epoch 61/80\n",
            "171/171 [==============================] - 1s 4ms/step - loss: 0.3376 - accuracy: 0.8496 - val_loss: 0.4331 - val_accuracy: 0.7654\n",
            "Epoch 62/80\n",
            "171/171 [==============================] - 1s 4ms/step - loss: 0.3348 - accuracy: 0.8509 - val_loss: 0.4697 - val_accuracy: 0.7676\n",
            "Epoch 63/80\n",
            "171/171 [==============================] - 1s 4ms/step - loss: 0.3324 - accuracy: 0.8514 - val_loss: 0.4209 - val_accuracy: 0.7449\n",
            "Epoch 64/80\n",
            "171/171 [==============================] - 1s 4ms/step - loss: 0.3403 - accuracy: 0.8481 - val_loss: 0.3893 - val_accuracy: 0.7757\n",
            "Epoch 65/80\n",
            "171/171 [==============================] - 1s 4ms/step - loss: 0.3372 - accuracy: 0.8501 - val_loss: 0.3649 - val_accuracy: 0.7947\n",
            "Epoch 66/80\n",
            "171/171 [==============================] - 1s 4ms/step - loss: 0.3394 - accuracy: 0.8465 - val_loss: 0.4472 - val_accuracy: 0.7515\n",
            "Epoch 67/80\n",
            "171/171 [==============================] - 1s 4ms/step - loss: 0.3363 - accuracy: 0.8525 - val_loss: 0.4270 - val_accuracy: 0.7566\n",
            "Epoch 68/80\n",
            "171/171 [==============================] - 1s 4ms/step - loss: 0.3332 - accuracy: 0.8525 - val_loss: 0.3673 - val_accuracy: 0.7639\n",
            "Epoch 69/80\n",
            "171/171 [==============================] - 1s 4ms/step - loss: 0.3255 - accuracy: 0.8551 - val_loss: 0.3679 - val_accuracy: 0.7837\n",
            "Epoch 70/80\n",
            "171/171 [==============================] - 1s 4ms/step - loss: 0.3335 - accuracy: 0.8547 - val_loss: 0.3466 - val_accuracy: 0.8021\n",
            "Epoch 71/80\n",
            "171/171 [==============================] - 1s 4ms/step - loss: 0.3344 - accuracy: 0.8518 - val_loss: 0.3733 - val_accuracy: 0.7874\n",
            "Epoch 72/80\n",
            "171/171 [==============================] - 1s 4ms/step - loss: 0.3285 - accuracy: 0.8536 - val_loss: 0.4129 - val_accuracy: 0.7544\n",
            "Epoch 73/80\n",
            "171/171 [==============================] - 1s 4ms/step - loss: 0.3274 - accuracy: 0.8527 - val_loss: 0.3803 - val_accuracy: 0.7720\n",
            "Epoch 74/80\n",
            "171/171 [==============================] - 1s 4ms/step - loss: 0.3314 - accuracy: 0.8527 - val_loss: 0.3734 - val_accuracy: 0.7874\n",
            "Epoch 75/80\n",
            "171/171 [==============================] - 1s 4ms/step - loss: 0.3368 - accuracy: 0.8489 - val_loss: 0.4434 - val_accuracy: 0.7309\n",
            "Epoch 76/80\n",
            "171/171 [==============================] - 1s 4ms/step - loss: 0.3229 - accuracy: 0.8580 - val_loss: 0.4109 - val_accuracy: 0.7654\n",
            "Epoch 77/80\n",
            "171/171 [==============================] - 1s 4ms/step - loss: 0.3300 - accuracy: 0.8571 - val_loss: 0.3674 - val_accuracy: 0.7867\n",
            "Epoch 78/80\n",
            "171/171 [==============================] - 1s 4ms/step - loss: 0.3260 - accuracy: 0.8555 - val_loss: 0.3823 - val_accuracy: 0.7808\n",
            "Epoch 79/80\n",
            "171/171 [==============================] - 1s 4ms/step - loss: 0.3378 - accuracy: 0.8463 - val_loss: 0.4056 - val_accuracy: 0.7595\n",
            "Epoch 80/80\n",
            "171/171 [==============================] - 1s 4ms/step - loss: 0.3240 - accuracy: 0.8553 - val_loss: 0.3611 - val_accuracy: 0.8006\n"
          ]
        }
      ]
    },
    {
      "cell_type": "code",
      "source": [
        "plt.plot(history2.history['accuracy'], label = 'acuuracy')\n",
        "plt.plot(history2.history['val_accuracy'], label = 'val_accuracy')\n",
        "plt.legend()"
      ],
      "metadata": {
        "colab": {
          "base_uri": "https://localhost:8080/",
          "height": 282
        },
        "id": "qqIiT6Irmsmj",
        "outputId": "93dd52f0-a4e6-4493-93d6-6857303579c2"
      },
      "id": "qqIiT6Irmsmj",
      "execution_count": 48,
      "outputs": [
        {
          "output_type": "execute_result",
          "data": {
            "text/plain": [
              "<matplotlib.legend.Legend at 0x7f88866bd610>"
            ]
          },
          "metadata": {},
          "execution_count": 48
        },
        {
          "output_type": "display_data",
          "data": {
            "text/plain": [
              "<Figure size 432x288 with 1 Axes>"
            ],
            "image/png": "[encoded data removed]"
          },
          "metadata": {
            "needs_background": "light"
          }
        }
      ]
    },
    {
      "cell_type": "code",
      "source": [
        "plt.plot(history2.history['loss'], label = 'loss')\n",
        "plt.plot(history2.history['val_loss'], label = 'val_loss')"
      ],
      "metadata": {
        "colab": {
          "base_uri": "https://localhost:8080/",
          "height": 282
        },
        "id": "IVhnrGpKmyO1",
        "outputId": "eb49784d-29f8-40e7-ba27-004820b52c35"
      },
      "id": "IVhnrGpKmyO1",
      "execution_count": 49,
      "outputs": [
        {
          "output_type": "execute_result",
          "data": {
            "text/plain": [
              "[<matplotlib.lines.Line2D at 0x7f8886750390>]"
            ]
          },
          "metadata": {},
          "execution_count": 49
        },
        {
          "output_type": "display_data",
          "data": {
            "text/plain": [
              "<Figure size 432x288 with 1 Axes>"
            ],
            "image/png": "[encoded data removed]"
          },
          "metadata": {
            "needs_background": "light"
          }
        }
      ]
    },
    {
      "cell_type": "code",
      "source": [],
      "metadata": {
        "id": "U48gcre9m3tV"
      },
      "id": "U48gcre9m3tV",
      "execution_count": 49,
      "outputs": []
    },
    {
      "cell_type": "markdown",
      "source": [
        "## 2] With Hyperparameter Tuning"
      ],
      "metadata": {
        "id": "J1bDZvDknStt"
      },
      "id": "J1bDZvDknStt"
    },
    {
      "cell_type": "code",
      "source": [
        "tuner2 = kt.Hyperband(\n",
        "    build_model,\n",
        "    objective='val_accuracy',\n",
        "    max_epochs=50,\n",
        ")"
      ],
      "metadata": {
        "id": "-wDHNvlXnmXQ"
      },
      "id": "-wDHNvlXnmXQ",
      "execution_count": 50,
      "outputs": []
    },
    {
      "cell_type": "code",
      "source": [
        "tuner2.search(input_data_sm, target_data_sm, epochs=10, validation_split=0.2,callbacks=[stop_early])"
      ],
      "metadata": {
        "id": "enB8uGLPnUht"
      },
      "id": "enB8uGLPnUht",
      "execution_count": 51,
      "outputs": []
    },
    {
      "cell_type": "code",
      "source": [
        "best_hp2 = tuner2.get_best_hyperparameters()[0]\n",
        "best_hp2.values"
      ],
      "metadata": {
        "colab": {
          "base_uri": "https://localhost:8080/"
        },
        "id": "cPwYxpYcnkGO",
        "outputId": "82bf1231-c985-4961-8932-7a19034903f6"
      },
      "id": "cPwYxpYcnkGO",
      "execution_count": 52,
      "outputs": [
        {
          "output_type": "execute_result",
          "data": {
            "text/plain": [
              "{'units1': 331,\n",
              " 'units2': 256,\n",
              " 'units3': 396,\n",
              " 'learning_rate': 0.001,\n",
              " 'tuner/epochs': 17,\n",
              " 'tuner/initial_epoch': 0,\n",
              " 'tuner/bracket': 1,\n",
              " 'tuner/round': 0}"
            ]
          },
          "metadata": {},
          "execution_count": 52
        }
      ]
    },
    {
      "cell_type": "code",
      "source": [
        "model_best2=tuner2.hypermodel.build(tuner.get_best_hyperparameters()[0])\n",
        "best_history2 = model_best2.fit(input_data_sm, target_data_sm, epochs = 80, validation_split=.2)"
      ],
      "metadata": {
        "colab": {
          "base_uri": "https://localhost:8080/"
        },
        "id": "I7Gfq2q5nwYF",
        "outputId": "a750eecd-55ae-4bd3-a3d7-9c3957cdf1e2"
      },
      "id": "I7Gfq2q5nwYF",
      "execution_count": 53,
      "outputs": [
        {
          "output_type": "stream",
          "name": "stdout",
          "text": [
            "Epoch 1/80\n",
            "171/171 [==============================] - 1s 5ms/step - loss: 0.5833 - accuracy: 0.7584 - val_loss: 0.5859 - val_accuracy: 0.6723\n",
            "Epoch 2/80\n",
            "171/171 [==============================] - 1s 4ms/step - loss: 0.4755 - accuracy: 0.7874 - val_loss: 0.4915 - val_accuracy: 0.6796\n",
            "Epoch 3/80\n",
            "171/171 [==============================] - 1s 4ms/step - loss: 0.4675 - accuracy: 0.7970 - val_loss: 0.7263 - val_accuracy: 0.5484\n",
            "Epoch 4/80\n",
            "171/171 [==============================] - 1s 4ms/step - loss: 0.4534 - accuracy: 0.7977 - val_loss: 0.5532 - val_accuracy: 0.6393\n",
            "Epoch 5/80\n",
            "171/171 [==============================] - 1s 4ms/step - loss: 0.4459 - accuracy: 0.8028 - val_loss: 0.5338 - val_accuracy: 0.6466\n",
            "Epoch 6/80\n",
            "171/171 [==============================] - 1s 4ms/step - loss: 0.4439 - accuracy: 0.8063 - val_loss: 0.6135 - val_accuracy: 0.6180\n",
            "Epoch 7/80\n",
            "171/171 [==============================] - 1s 4ms/step - loss: 0.4406 - accuracy: 0.8081 - val_loss: 0.7126 - val_accuracy: 0.5315\n",
            "Epoch 8/80\n",
            "171/171 [==============================] - 1s 4ms/step - loss: 0.4416 - accuracy: 0.8085 - val_loss: 0.4436 - val_accuracy: 0.7603\n",
            "Epoch 9/80\n",
            "171/171 [==============================] - 1s 4ms/step - loss: 0.4410 - accuracy: 0.8083 - val_loss: 0.6005 - val_accuracy: 0.6158\n",
            "Epoch 10/80\n",
            "171/171 [==============================] - 1s 4ms/step - loss: 0.4311 - accuracy: 0.8127 - val_loss: 0.5331 - val_accuracy: 0.6305\n",
            "Epoch 11/80\n",
            "171/171 [==============================] - 1s 4ms/step - loss: 0.4339 - accuracy: 0.8111 - val_loss: 0.5651 - val_accuracy: 0.6173\n",
            "Epoch 12/80\n",
            "171/171 [==============================] - 1s 4ms/step - loss: 0.4355 - accuracy: 0.8091 - val_loss: 0.4425 - val_accuracy: 0.7089\n",
            "Epoch 13/80\n",
            "171/171 [==============================] - 1s 4ms/step - loss: 0.4302 - accuracy: 0.8127 - val_loss: 0.3872 - val_accuracy: 0.7302\n",
            "Epoch 14/80\n",
            "171/171 [==============================] - 1s 4ms/step - loss: 0.4248 - accuracy: 0.8091 - val_loss: 0.4721 - val_accuracy: 0.7265\n",
            "Epoch 15/80\n",
            "171/171 [==============================] - 1s 4ms/step - loss: 0.4353 - accuracy: 0.8129 - val_loss: 0.5293 - val_accuracy: 0.6481\n",
            "Epoch 16/80\n",
            "171/171 [==============================] - 1s 4ms/step - loss: 0.4288 - accuracy: 0.8114 - val_loss: 0.5226 - val_accuracy: 0.6943\n",
            "Epoch 17/80\n",
            "171/171 [==============================] - 1s 4ms/step - loss: 0.4259 - accuracy: 0.8122 - val_loss: 0.5460 - val_accuracy: 0.6591\n",
            "Epoch 18/80\n",
            "171/171 [==============================] - 1s 4ms/step - loss: 0.4294 - accuracy: 0.8171 - val_loss: 0.6071 - val_accuracy: 0.6290\n",
            "Epoch 19/80\n",
            "171/171 [==============================] - 1s 4ms/step - loss: 0.4294 - accuracy: 0.8179 - val_loss: 0.6623 - val_accuracy: 0.6334\n",
            "Epoch 20/80\n",
            "171/171 [==============================] - 1s 4ms/step - loss: 0.4250 - accuracy: 0.8129 - val_loss: 0.7669 - val_accuracy: 0.5601\n",
            "Epoch 21/80\n",
            "171/171 [==============================] - 1s 4ms/step - loss: 0.4343 - accuracy: 0.8168 - val_loss: 0.5192 - val_accuracy: 0.6679\n",
            "Epoch 22/80\n",
            "171/171 [==============================] - 1s 4ms/step - loss: 0.4323 - accuracy: 0.8182 - val_loss: 0.5320 - val_accuracy: 0.6716\n",
            "Epoch 23/80\n",
            "171/171 [==============================] - 1s 4ms/step - loss: 0.4226 - accuracy: 0.8151 - val_loss: 0.6000 - val_accuracy: 0.6422\n",
            "Epoch 24/80\n",
            "171/171 [==============================] - 1s 4ms/step - loss: 0.4243 - accuracy: 0.8151 - val_loss: 0.5281 - val_accuracy: 0.6994\n",
            "Epoch 25/80\n",
            "171/171 [==============================] - 1s 4ms/step - loss: 0.4320 - accuracy: 0.8138 - val_loss: 0.6051 - val_accuracy: 0.5887\n",
            "Epoch 26/80\n",
            "171/171 [==============================] - 1s 4ms/step - loss: 0.4272 - accuracy: 0.8147 - val_loss: 0.5790 - val_accuracy: 0.6408\n",
            "Epoch 27/80\n",
            "171/171 [==============================] - 1s 4ms/step - loss: 0.4337 - accuracy: 0.8173 - val_loss: 0.4441 - val_accuracy: 0.7031\n",
            "Epoch 28/80\n",
            "171/171 [==============================] - 1s 4ms/step - loss: 0.4203 - accuracy: 0.8177 - val_loss: 0.5915 - val_accuracy: 0.5938\n",
            "Epoch 29/80\n",
            "171/171 [==============================] - 1s 4ms/step - loss: 0.4302 - accuracy: 0.8142 - val_loss: 0.5063 - val_accuracy: 0.6437\n",
            "Epoch 30/80\n",
            "171/171 [==============================] - 1s 4ms/step - loss: 0.4298 - accuracy: 0.8142 - val_loss: 0.5755 - val_accuracy: 0.6246\n",
            "Epoch 31/80\n",
            "171/171 [==============================] - 1s 4ms/step - loss: 0.4254 - accuracy: 0.8182 - val_loss: 0.5778 - val_accuracy: 0.6371\n",
            "Epoch 32/80\n",
            "171/171 [==============================] - 1s 4ms/step - loss: 0.4312 - accuracy: 0.8157 - val_loss: 0.4845 - val_accuracy: 0.6708\n",
            "Epoch 33/80\n",
            "171/171 [==============================] - 1s 4ms/step - loss: 0.4223 - accuracy: 0.8133 - val_loss: 0.7051 - val_accuracy: 0.6554\n",
            "Epoch 34/80\n",
            "171/171 [==============================] - 1s 4ms/step - loss: 0.4269 - accuracy: 0.8135 - val_loss: 0.4941 - val_accuracy: 0.6899\n",
            "Epoch 35/80\n",
            "171/171 [==============================] - 1s 4ms/step - loss: 0.4275 - accuracy: 0.8149 - val_loss: 0.6880 - val_accuracy: 0.6430\n",
            "Epoch 36/80\n",
            "171/171 [==============================] - 1s 4ms/step - loss: 0.4266 - accuracy: 0.8164 - val_loss: 0.7423 - val_accuracy: 0.5220\n",
            "Epoch 37/80\n",
            "171/171 [==============================] - 1s 6ms/step - loss: 0.4203 - accuracy: 0.8210 - val_loss: 0.6753 - val_accuracy: 0.6694\n",
            "Epoch 38/80\n",
            "171/171 [==============================] - 1s 7ms/step - loss: 0.4182 - accuracy: 0.8221 - val_loss: 0.4957 - val_accuracy: 0.7119\n",
            "Epoch 39/80\n",
            "171/171 [==============================] - 1s 6ms/step - loss: 0.4281 - accuracy: 0.8186 - val_loss: 0.7241 - val_accuracy: 0.6078\n",
            "Epoch 40/80\n",
            "171/171 [==============================] - 1s 6ms/step - loss: 0.4342 - accuracy: 0.8147 - val_loss: 0.5868 - val_accuracy: 0.6760\n",
            "Epoch 41/80\n",
            "171/171 [==============================] - 1s 4ms/step - loss: 0.4216 - accuracy: 0.8217 - val_loss: 0.5037 - val_accuracy: 0.6760\n",
            "Epoch 42/80\n",
            "171/171 [==============================] - 1s 4ms/step - loss: 0.4276 - accuracy: 0.8175 - val_loss: 0.6020 - val_accuracy: 0.6268\n",
            "Epoch 43/80\n",
            "171/171 [==============================] - 1s 4ms/step - loss: 0.4260 - accuracy: 0.8237 - val_loss: 0.5687 - val_accuracy: 0.6782\n",
            "Epoch 44/80\n",
            "171/171 [==============================] - 1s 4ms/step - loss: 0.4283 - accuracy: 0.8138 - val_loss: 0.5436 - val_accuracy: 0.7207\n",
            "Epoch 45/80\n",
            "171/171 [==============================] - 1s 4ms/step - loss: 0.4329 - accuracy: 0.8164 - val_loss: 0.5999 - val_accuracy: 0.6232\n",
            "Epoch 46/80\n",
            "171/171 [==============================] - 1s 4ms/step - loss: 0.4155 - accuracy: 0.8225 - val_loss: 0.4437 - val_accuracy: 0.7155\n",
            "Epoch 47/80\n",
            "171/171 [==============================] - 1s 4ms/step - loss: 0.4229 - accuracy: 0.8204 - val_loss: 0.4464 - val_accuracy: 0.7603\n",
            "Epoch 48/80\n",
            "171/171 [==============================] - 1s 4ms/step - loss: 0.4256 - accuracy: 0.8199 - val_loss: 0.6206 - val_accuracy: 0.6312\n",
            "Epoch 49/80\n",
            "171/171 [==============================] - 1s 4ms/step - loss: 0.4287 - accuracy: 0.8164 - val_loss: 0.4512 - val_accuracy: 0.7155\n",
            "Epoch 50/80\n",
            "171/171 [==============================] - 1s 4ms/step - loss: 0.4166 - accuracy: 0.8157 - val_loss: 0.5903 - val_accuracy: 0.6092\n",
            "Epoch 51/80\n",
            "171/171 [==============================] - 1s 4ms/step - loss: 0.4395 - accuracy: 0.8191 - val_loss: 0.4706 - val_accuracy: 0.6979\n",
            "Epoch 52/80\n",
            "171/171 [==============================] - 1s 4ms/step - loss: 0.4268 - accuracy: 0.8219 - val_loss: 0.7246 - val_accuracy: 0.5748\n",
            "Epoch 53/80\n",
            "171/171 [==============================] - 1s 4ms/step - loss: 0.4259 - accuracy: 0.8168 - val_loss: 0.6668 - val_accuracy: 0.5938\n",
            "Epoch 54/80\n",
            "171/171 [==============================] - 1s 4ms/step - loss: 0.4397 - accuracy: 0.8219 - val_loss: 0.6327 - val_accuracy: 0.6188\n",
            "Epoch 55/80\n",
            "171/171 [==============================] - 1s 4ms/step - loss: 0.4198 - accuracy: 0.8239 - val_loss: 0.5018 - val_accuracy: 0.7016\n",
            "Epoch 56/80\n",
            "171/171 [==============================] - 1s 4ms/step - loss: 0.4232 - accuracy: 0.8151 - val_loss: 0.5210 - val_accuracy: 0.7126\n",
            "Epoch 57/80\n",
            "171/171 [==============================] - 1s 4ms/step - loss: 0.4286 - accuracy: 0.8173 - val_loss: 0.5051 - val_accuracy: 0.6364\n",
            "Epoch 58/80\n",
            "171/171 [==============================] - 1s 4ms/step - loss: 0.4260 - accuracy: 0.8173 - val_loss: 0.5576 - val_accuracy: 0.6972\n",
            "Epoch 59/80\n",
            "171/171 [==============================] - 1s 4ms/step - loss: 0.4260 - accuracy: 0.8230 - val_loss: 0.6395 - val_accuracy: 0.6320\n",
            "Epoch 60/80\n",
            "171/171 [==============================] - 1s 4ms/step - loss: 0.4262 - accuracy: 0.8221 - val_loss: 0.5035 - val_accuracy: 0.6840\n",
            "Epoch 61/80\n",
            "171/171 [==============================] - 1s 4ms/step - loss: 0.4258 - accuracy: 0.8164 - val_loss: 0.6208 - val_accuracy: 0.6386\n",
            "Epoch 62/80\n",
            "171/171 [==============================] - 1s 4ms/step - loss: 0.4116 - accuracy: 0.8239 - val_loss: 0.4556 - val_accuracy: 0.7053\n",
            "Epoch 63/80\n",
            "171/171 [==============================] - 1s 4ms/step - loss: 0.4293 - accuracy: 0.8153 - val_loss: 0.6074 - val_accuracy: 0.6202\n",
            "Epoch 64/80\n",
            "171/171 [==============================] - 1s 4ms/step - loss: 0.4225 - accuracy: 0.8215 - val_loss: 0.6186 - val_accuracy: 0.6202\n",
            "Epoch 65/80\n",
            "171/171 [==============================] - 1s 4ms/step - loss: 0.4194 - accuracy: 0.8177 - val_loss: 0.6386 - val_accuracy: 0.6562\n",
            "Epoch 66/80\n",
            "171/171 [==============================] - 1s 4ms/step - loss: 0.4220 - accuracy: 0.8175 - val_loss: 0.5332 - val_accuracy: 0.7001\n",
            "Epoch 67/80\n",
            "171/171 [==============================] - 1s 4ms/step - loss: 0.4253 - accuracy: 0.8179 - val_loss: 0.4983 - val_accuracy: 0.7353\n",
            "Epoch 68/80\n",
            "171/171 [==============================] - 1s 4ms/step - loss: 0.4169 - accuracy: 0.8179 - val_loss: 0.4223 - val_accuracy: 0.7544\n",
            "Epoch 69/80\n",
            "171/171 [==============================] - 1s 4ms/step - loss: 0.4291 - accuracy: 0.8171 - val_loss: 0.3911 - val_accuracy: 0.7493\n",
            "Epoch 70/80\n",
            "171/171 [==============================] - 1s 4ms/step - loss: 0.4221 - accuracy: 0.8217 - val_loss: 0.5839 - val_accuracy: 0.6393\n",
            "Epoch 71/80\n",
            "171/171 [==============================] - 1s 4ms/step - loss: 0.4249 - accuracy: 0.8166 - val_loss: 0.6695 - val_accuracy: 0.5982\n",
            "Epoch 72/80\n",
            "171/171 [==============================] - 1s 4ms/step - loss: 0.4200 - accuracy: 0.8202 - val_loss: 0.4628 - val_accuracy: 0.7126\n",
            "Epoch 73/80\n",
            "171/171 [==============================] - 1s 4ms/step - loss: 0.4274 - accuracy: 0.8201 - val_loss: 0.5467 - val_accuracy: 0.6320\n",
            "Epoch 74/80\n",
            "171/171 [==============================] - 1s 4ms/step - loss: 0.4161 - accuracy: 0.8263 - val_loss: 0.7971 - val_accuracy: 0.5806\n",
            "Epoch 75/80\n",
            "171/171 [==============================] - 1s 4ms/step - loss: 0.4158 - accuracy: 0.8208 - val_loss: 0.4796 - val_accuracy: 0.7045\n",
            "Epoch 76/80\n",
            "171/171 [==============================] - 1s 4ms/step - loss: 0.4152 - accuracy: 0.8236 - val_loss: 0.3985 - val_accuracy: 0.7456\n",
            "Epoch 77/80\n",
            "171/171 [==============================] - 1s 4ms/step - loss: 0.4151 - accuracy: 0.8195 - val_loss: 0.6352 - val_accuracy: 0.6012\n",
            "Epoch 78/80\n",
            "171/171 [==============================] - 1s 4ms/step - loss: 0.4219 - accuracy: 0.8202 - val_loss: 0.5346 - val_accuracy: 0.6129\n",
            "Epoch 79/80\n",
            "171/171 [==============================] - 1s 5ms/step - loss: 0.4437 - accuracy: 0.8237 - val_loss: 0.4117 - val_accuracy: 0.7661\n",
            "Epoch 80/80\n",
            "171/171 [==============================] - 1s 4ms/step - loss: 0.4182 - accuracy: 0.8206 - val_loss: 0.5048 - val_accuracy: 0.7060\n"
          ]
        }
      ]
    },
    {
      "cell_type": "code",
      "source": [
        "plt.plot(best_history2.history['accuracy'], label = 'accuracy')\n",
        "plt.plot(best_history2.history['val_accuracy'], label = 'val_accuracy')\n",
        "plt.legend()"
      ],
      "metadata": {
        "colab": {
          "base_uri": "https://localhost:8080/",
          "height": 282
        },
        "id": "-FzhcXRGoi1V",
        "outputId": "af7b2cb1-0f20-40f3-e44e-f836280d046a"
      },
      "id": "-FzhcXRGoi1V",
      "execution_count": 54,
      "outputs": [
        {
          "output_type": "execute_result",
          "data": {
            "text/plain": [
              "<matplotlib.legend.Legend at 0x7f88862f5dd0>"
            ]
          },
          "metadata": {},
          "execution_count": 54
        },
        {
          "output_type": "display_data",
          "data": {
            "text/plain": [
              "<Figure size 432x288 with 1 Axes>"
            ],
            "image/png": "[encoded data removed]"
          },
          "metadata": {
            "needs_background": "light"
          }
        }
      ]
    },
    {
      "cell_type": "code",
      "source": [
        "plt.plot(best_history2.history['loss'], label = 'loss')\n",
        "plt.plot(best_history2.history['val_loss'], label = 'val_loss')\n",
        "plt.legend()"
      ],
      "metadata": {
        "colab": {
          "base_uri": "https://localhost:8080/",
          "height": 282
        },
        "id": "ZcXWUmoFonIn",
        "outputId": "d280d0e0-f3d1-4bc5-e73c-cd9348fbfdda"
      },
      "id": "ZcXWUmoFonIn",
      "execution_count": 55,
      "outputs": [
        {
          "output_type": "execute_result",
          "data": {
            "text/plain": [
              "<matplotlib.legend.Legend at 0x7f8886364550>"
            ]
          },
          "metadata": {},
          "execution_count": 55
        },
        {
          "output_type": "display_data",
          "data": {
            "text/plain": [
              "<Figure size 432x288 with 1 Axes>"
            ],
            "image/png": "[encoded data removed]"
          },
          "metadata": {
            "needs_background": "light"
          }
        }
      ]
    },
    {
      "cell_type": "code",
      "source": [],
      "metadata": {
        "id": "k7pkU0QtorMZ"
      },
      "id": "k7pkU0QtorMZ",
      "execution_count": 55,
      "outputs": []
    }
  ],
  "metadata": {
    "kernelspec": {
      "display_name": "Python 3 (ipykernel)",
      "language": "python",
      "name": "python3"
    },
    "language_info": {
      "codemirror_mode": {
        "name": "ipython",
        "version": 3
      },
      "file_extension": ".py",
      "mimetype": "text/x-python",
      "name": "python",
      "nbconvert_exporter": "python",
      "pygments_lexer": "ipython3",
      "version": "3.7.13"
    },
    "colab": {
      "name": "Untitled.ipynb",
      "provenance": [],
      "collapsed_sections": [
        "95d7915b"
      ]
    },
    "accelerator": "GPU",
    "gpuClass": "standard"
  },
  "nbformat": 4,
  "nbformat_minor": 5
}